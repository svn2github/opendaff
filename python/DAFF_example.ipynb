{
 "cells": [
  {
   "cell_type": "markdown",
   "metadata": {},
   "source": [
    "# DAFF example\n",
    "This python noteboook shows an example how to use the DAFF class. \n",
    "It contains an short introduction to the properties and methods of DAFF objects.\n",
    "At the end of of this notebook are the records of the object interactively visualized."
   ]
  },
  {
   "cell_type": "markdown",
   "metadata": {},
   "source": [
    "## Import of the DAFF class\n",
    "\n",
    "Before using the DAFF class it must be imported. The file `DAFF.py` contains the class and in this case is located in the same directory as the python notebook."
   ]
  },
  {
   "cell_type": "code",
   "execution_count": null,
   "metadata": {
    "scrolled": true
   },
   "outputs": [],
   "source": [
    "from DAFF import DAFF"
   ]
  },
  {
   "cell_type": "markdown",
   "metadata": {},
   "source": [
    "## Initialization of the DAFF objects\n",
    "\n",
    "The DAFF class contains all properties of the OpenDAFF. <br>\n",
    "DAFF objects need the path of the OpenDAFF file as an input parameter. <br>\n",
    "The needed `.daff` files are located in the following file that can be downloaded from sourceforge: [OpenDAFF-v17](https://sourceforge.net/projects/opendaff/files/OpenDAFF-v17_win32-x64.zip/download). <br>\n",
    "The paths must be adapted to the location of the files."
   ]
  },
  {
   "cell_type": "code",
   "execution_count": null,
   "metadata": {
    "scrolled": true
   },
   "outputs": [],
   "source": [
    "#DAFF objects of two magnitude spectrums of low passes\n",
    "daff3dB = DAFF('..\\\\..\\\\OpenDAFF-v17_win32-x64\\\\content\\\\matlab\\\\ExampleLowPass3dBOmni.ms.daff')\n",
    "daff6dB = DAFF('..\\\\..\\\\OpenDAFF-v17_win32-x64\\\\content\\\\matlab\\\\ExampleLowPass6dBOmni.ms.daff')\n",
    "\n",
    "#DAFF object from an impulse response \n",
    "daffHRIR = DAFF('..\\\\..\\\\OpenDAFF-v17_win32-x64\\\\content\\\\matlab\\\\hrtfs\\\\ITA\\\\HRTF01_256samples_5x5.v17.ir.daff')"
   ]
  },
  {
   "cell_type": "markdown",
   "metadata": {},
   "source": [
    "## Accessing the properties of the DAFF objects\n",
    "The properties of the objects can be easily accessed by the point operator. <br>\n",
    "Some properties are located in the property `Property` and are defined by the content type of the object. Only spectral content types contain the property `Property.Frequencies`.  <br>\n",
    "Because the data of metadata can be easily changed, they are contained in a dictionary. <br>\n",
    "Since the properties are read-only, trying to change them produces an `AttributeError`."
   ]
  },
  {
   "cell_type": "code",
   "execution_count": null,
   "metadata": {
    "scrolled": true
   },
   "outputs": [],
   "source": [
    "#Get the content types of the objects\n",
    "contentType3dB = daff3dB.ContentTypeString\n",
    "contentTypeHRIR = daffHRIR.ContentTypeString\n",
    "\n",
    "#Get the samplerate\n",
    "samplerateHRIR = daffHRIR.Properties.Samplerate\n",
    "\n",
    "#Print the content types and in the case of the HRIR also its samplerate.\n",
    "print('The content type of the daff3dB record is ' + contentType3dB + \". \")\n",
    "print('The records of daffHRIR are ' + contentTypeHRIR + 's and its samplerate is ' + str(samplerateHRIR) + ' Hz.')\n",
    "\n",
    "#Print the description written in the metadata\n",
    "print(\"Description of daff6dB: \" + daff3dB.Metadata['DESCRIPTION'])\n",
    "\n",
    "#Changing the content type or any other property produces an error\n",
    "try:\n",
    "    daff3dB.ContentTypeString = 'not possible'\n",
    "except AttributeError:\n",
    "    print(\"An AttributeError occured because this attribute is read-only.\")"
   ]
  },
  {
   "cell_type": "markdown",
   "metadata": {},
   "source": [
    "## Accessing the record data of the DAFF objects\n",
    "\n",
    "The record of the DAFF object can be obtained by calling the method `GetNearestNeighourRecord`  with the angles of the wanted position as paramters. The nearest neighbour of the position will be searched and its record will be returned.\n",
    "The record can also directly be obtained by calling the method `GetRecord` with the index of the position as an input parameter. \n",
    "\n",
    "In the following example, `daff3dB` and `daff6dB` contain one channel. The records are the magnitude spectrum. `daffHRIR` contains two channels, respectively the impulse response of left and right ear."
   ]
  },
  {
   "cell_type": "code",
   "execution_count": null,
   "metadata": {
    "scrolled": true
   },
   "outputs": [],
   "source": [
    "#Angles in degree\n",
    "azimuth = 34;\n",
    "elevation = 90;\n",
    "\n",
    "\n",
    "#Get the record of the nearest neighbour\n",
    "\n",
    "record6dB, = daff6dB.GetNearestNeighbourRecord(34,65)\n",
    "recordHRIR = daffHRIR.GetNearestNeighbourRecord(azimuth, elevation)\n",
    "record3dB, = daff3dB.GetNearestNeighbourRecord(angle2=0,angle1=65)\n",
    "\n",
    "#daff objects with spectral content types contain the property frequencies\n",
    "frequencies3dB = daff3dB.Properties.Frequencies\n",
    "frequencies6dB = daff6dB.Properties.Frequencies\n",
    "\n",
    "#The number of channels and records\n",
    "numChannels = daffHRIR.Properties.NumChannels\n",
    "numRecords = daffHRIR.Properties.NumRecords\n",
    "\n",
    "\n",
    "print('The object daffHRIR contains ' + str(numRecords) + ' records, each containing ' + str(numChannels) + ' channels.')\n",
    "\n",
    "print('The magnitude of record3dB at ' + str(frequencies3dB[1]) + ' Hz is ' + str(record3dB[1]) + \n",
    "     ' and the magnitude of record6dB at ' + str(frequencies6dB[1]) + ' Hz is ' + str(record6dB[1]) + '. ')\n",
    "      \n"
   ]
  },
  {
   "cell_type": "markdown",
   "metadata": {},
   "source": [
    "---\n",
    "## Visualization of the data\n",
    "\n",
    "The data can be easily visualized via plots and the plotted data can be dynamically changed via sliders or other widgets. <br>\n",
    "### Import libraries\n",
    "First, we must import `matplotlib.pyplot` for the plots and `ipywidgets` for the widgets. <br> \n",
    "The line `%matplotlib notebook` must be added for enabling the live changing of the plots."
   ]
  },
  {
   "cell_type": "code",
   "execution_count": null,
   "metadata": {
    "scrolled": true
   },
   "outputs": [],
   "source": [
    "%matplotlib notebook\n",
    "\n",
    "import matplotlib.pyplot as plt\n",
    "import numpy as np\n",
    "\n",
    "import ipywidgets as widgets"
   ]
  },
  {
   "cell_type": "markdown",
   "metadata": {},
   "source": [
    "### Initialization of the sliders\n",
    "\n",
    "The two FloatSliders `sliderAzimuth` & `sliderElevation` set the angles according to their current values. <br>\n",
    "The attributes of the sliders can be directly passed as initialization parameters.\n",
    "If the attribute `continous_update` is set to _False_, the widget will only update the value after releasing the pressed mouse button. "
   ]
  },
  {
   "cell_type": "code",
   "execution_count": null,
   "metadata": {
    "scrolled": true
   },
   "outputs": [],
   "source": [
    "# Slider for the azimuth angle\n",
    "sliderAzimuth = widgets.FloatSlider( \n",
    "    value = 0,\n",
    "    description = 'Azimuth:',\n",
    "    min = -90.0,\n",
    "    max = 90.0,\n",
    "    step = 0.5,\n",
    "    readout = True,\n",
    "    readout_format = '.1f',\n",
    "    continuous_update=True,\n",
    "    layout = widgets.Layout(width='70%', height='80px') )\n",
    "\n",
    "# Slider for the elevation angle\n",
    "sliderElevation = widgets.FloatSlider( \n",
    "    value = 0,\n",
    "    description = 'Elevation:',\n",
    "    min = -90.0,\n",
    "    max = 90.0,\n",
    "    step = 0.5,\n",
    "    readout = True,\n",
    "    continuous_update=False,\n",
    "    orientation='horizontal',\n",
    "    readout_format = '.1f',\n",
    "    layout = widgets.Layout(width='70%', height='80px'))"
   ]
  },
  {
   "cell_type": "markdown",
   "metadata": {},
   "source": [
    "### Initialization of the plot lines\n",
    "\n",
    "The lines containing the impulse responses of the left and right ear are initialized here, before they are plotted in a figure in a later step."
   ]
  },
  {
   "cell_type": "code",
   "execution_count": null,
   "metadata": {
    "scrolled": true
   },
   "outputs": [],
   "source": [
    "currentIR = daffHRIR.GetNearestNeighbourRecord(0,0);\n",
    "samplerate = daffHRIR.Properties.Samplerate;\n",
    "\n",
    "lineLeftIR = plt.Line2D(np.arange(256)/samplerate,currentIR[0])\n",
    "lineLeftIR.set_label('left ear IR')\n",
    "lineLeftIR.set_color(\"red\")\n",
    "\n",
    "lineRightIR = plt.Line2D(np.arange(256)/samplerate,currentIR[1])\n",
    "lineRightIR.set_label('right ear IR')"
   ]
  },
  {
   "cell_type": "markdown",
   "metadata": {},
   "source": [
    "### Definition of the function for changed slider values\n",
    "\n",
    "The function `OnSliderChanged` sets the y-data of the two lines to the record of the nearest neighour of the current position. <br>\n",
    "Handled in the function `interactive_output`, `OnSliderChanged` is called after the value of `sliderAzimuth` or `sliderElevation` is changed . "
   ]
  },
  {
   "cell_type": "code",
   "execution_count": null,
   "metadata": {
    "scrolled": true
   },
   "outputs": [],
   "source": [
    "#function called on changed slider values \n",
    "#get the record of the nearest neighbour of the current angles and plot the ir\n",
    "def OnSliderChanged(angle1,angle2):\n",
    "    currentIR = daffHRIR.GetNearestNeighbourRecord(angle1,angle2);\n",
    "  \n",
    "    lineLeftIR.set_ydata(currentIR[0])\n",
    "    lineRightIR.set_ydata(currentIR[1])\n",
    "    \n",
    "    \n",
    "#Interactive output of to sliders that call OnSliderChanged after their values are changed    \n",
    "output = widgets.interactive_output(OnSliderChanged, {'angle1':sliderAzimuth, 'angle2':sliderElevation});"
   ]
  },
  {
   "cell_type": "markdown",
   "metadata": {},
   "source": [
    "### Visualization\n",
    "Here, a figure is plotted and the above initialized lines are added to the figure.\n",
    "\n",
    "Both slider widgets are in the widget `VBox` and are displayed.\n",
    "\n",
    "In this example, the azimuth and elevation angle can be changed and the impulse responce of the new nearest neighbour is directly plotted.\n",
    "The azimuth slider continously updates the plot and the elevation slider fires the event after releasing the pressed mouse button."
   ]
  },
  {
   "cell_type": "code",
   "execution_count": null,
   "metadata": {
    "scrolled": true
   },
   "outputs": [],
   "source": [
    "#Plot the figure and add both lines to the axis of the figure.\n",
    "fig = plt.figure()\n",
    "fig.suptitle('HRIR example')\n",
    "ax = fig.add_subplot(111)\n",
    "ax.add_line(lineLeftIR);\n",
    "ax.add_line(lineRightIR);\n",
    "plt.ylabel('Amplitude')\n",
    "plt.xlabel('Time [s]')\n",
    "\n",
    "#Set the limits of the axis\n",
    "ax.set_xlim(0,255/samplerate)\n",
    "ax.set_ylim(-1.1,1.1)\n",
    "\n",
    "#Add a legend to the figure\n",
    "handles, labels = ax.get_legend_handles_labels();\n",
    "ax.legend(handles, labels);\n",
    "\n",
    "#Interface\n",
    "ui = widgets.VBox([sliderAzimuth,sliderElevation]);\n",
    "display(ui)"
   ]
  },
  {
   "cell_type": "markdown",
   "metadata": {},
   "source": [
    "# Conversion from time to frequency domain\n",
    "\n",
    "In this example, the HRIR is converted into the frequency domain.\n",
    "Thereafter the calculated HRTF is plotted into a new figure."
   ]
  },
  {
   "cell_type": "code",
   "execution_count": null,
   "metadata": {
    "scrolled": true
   },
   "outputs": [],
   "source": [
    "currentIR = daffHRIR.GetNearestNeighbourRecord(angle1 = 34,angle2 = 45);\n",
    "currentTF = [np.fft.fft(currentIR[0]),np.fft.fft(currentIR[1])]\n",
    "#currentTF = np.fft.fft(record6dB)\n",
    "\n",
    "numSamples = len(currentTF[0])\n",
    "\n",
    "f = np.arange(round(numSamples/2))*samplerate/numSamples"
   ]
  },
  {
   "cell_type": "code",
   "execution_count": null,
   "metadata": {
    "scrolled": true
   },
   "outputs": [],
   "source": [
    "fig = plt.figure()\n",
    "fig.suptitle('HRTF example')\n",
    "plt.loglog(f,abs(currentTF[0][:round(numSamples/2)]))\n",
    "plt.loglog(f,abs(currentTF[1][:round(numSamples/2)]))\n",
    "plt.ylabel('Magnitude')\n",
    "plt.xlabel('Frequency [Hz]')\n",
    "plt.show()\n"
   ]
  }
 ],
 "metadata": {
  "kernelspec": {
   "display_name": "Python 3",
   "language": "python",
   "name": "python3"
  },
  "language_info": {
   "codemirror_mode": {
    "name": "ipython",
    "version": 3
   },
   "file_extension": ".py",
   "mimetype": "text/x-python",
   "name": "python",
   "nbconvert_exporter": "python",
   "pygments_lexer": "ipython3",
   "version": "3.6.4"
  },
  "widgets": {
   "application/vnd.jupyter.widget-state+json": {
    "state": {
     "002e69a7a9024afb903403fc522d652a": {
      "model_module": "@jupyter-widgets/base",
      "model_module_version": "1.0.0",
      "model_name": "LayoutModel",
      "state": {}
     },
     "004f5999280e496ab9f8dede7edb2575": {
      "model_module": "@jupyter-widgets/controls",
      "model_module_version": "1.1.0",
      "model_name": "SliderStyleModel",
      "state": {
       "description_width": ""
      }
     },
     "007d9ef099d94f8895c69f1b6296e106": {
      "model_module": "@jupyter-widgets/base",
      "model_module_version": "1.0.0",
      "model_name": "LayoutModel",
      "state": {
       "height": "80px",
       "width": "70%"
      }
     },
     "008498f74d494f318a29d34a779c54ac": {
      "model_module": "@jupyter-widgets/controls",
      "model_module_version": "1.1.0",
      "model_name": "SliderStyleModel",
      "state": {
       "description_width": ""
      }
     },
     "00f99faeec7948f2bf39fd78948c0fbe": {
      "model_module": "@jupyter-widgets/base",
      "model_module_version": "1.0.0",
      "model_name": "LayoutModel",
      "state": {}
     },
     "013c59a0c07542c8bb67644b1f9bf9d2": {
      "model_module": "@jupyter-widgets/controls",
      "model_module_version": "1.1.0",
      "model_name": "FloatSliderModel",
      "state": {
       "description": "Azimuth:",
       "layout": "IPY_MODEL_8ceb72628bda467d8480293d2e3476cf",
       "max": 180,
       "min": -180,
       "readout_format": ".1f",
       "step": 0.5,
       "style": "IPY_MODEL_bc81fdf04fd34b1db169a98922063d71",
       "value": 108
      }
     },
     "01c2c12a1cf44ebe96ee2ed52b6ead5b": {
      "model_module": "@jupyter-widgets/controls",
      "model_module_version": "1.1.0",
      "model_name": "SliderStyleModel",
      "state": {
       "description_width": ""
      }
     },
     "0246d69eae194074997fa6fd47fd227a": {
      "model_module": "@jupyter-widgets/base",
      "model_module_version": "1.0.0",
      "model_name": "LayoutModel",
      "state": {}
     },
     "0302348b65744d1c9df0ac436cef88b5": {
      "model_module": "@jupyter-widgets/controls",
      "model_module_version": "1.1.0",
      "model_name": "FloatSliderModel",
      "state": {
       "description": "Elevation:",
       "layout": "IPY_MODEL_f00657c7afe04ed0b98fd3f84e018373",
       "max": 90,
       "min": -90,
       "orientation": "vertical",
       "readout_format": ".1f",
       "step": 0.5,
       "style": "IPY_MODEL_873cba93a6e6427dab8630fdf8b929ad"
      }
     },
     "04d9f8d6bbc1446ca7f8bd4385f45cdf": {
      "model_module": "@jupyter-widgets/base",
      "model_module_version": "1.0.0",
      "model_name": "LayoutModel",
      "state": {}
     },
     "05a613ef37b04de689003fef0f4a5111": {
      "model_module": "@jupyter-widgets/base",
      "model_module_version": "1.0.0",
      "model_name": "LayoutModel",
      "state": {
       "height": "80px",
       "width": "70%"
      }
     },
     "0745bf1b408b49268d66dfa343351275": {
      "model_module": "@jupyter-widgets/output",
      "model_module_version": "1.0.0",
      "model_name": "OutputModel",
      "state": {
       "layout": "IPY_MODEL_cfb3b8528fa84b4c99600f987b3a95e0"
      }
     },
     "0a3efb8e2a714d3384c9828f9df0b712": {
      "model_module": "@jupyter-widgets/controls",
      "model_module_version": "1.1.0",
      "model_name": "SliderStyleModel",
      "state": {
       "description_width": ""
      }
     },
     "0b02d3e8a81d47d69c04e9b8e2065534": {
      "model_module": "@jupyter-widgets/controls",
      "model_module_version": "1.1.0",
      "model_name": "SliderStyleModel",
      "state": {
       "description_width": ""
      }
     },
     "0b7153a82e0540ca80fb5ccd16aa1d18": {
      "model_module": "@jupyter-widgets/controls",
      "model_module_version": "1.1.0",
      "model_name": "FloatSliderModel",
      "state": {
       "description": "Azimuth:",
       "layout": "IPY_MODEL_1fbbe8ef782a426699f46781fba9186d",
       "max": 180,
       "min": -180,
       "readout_format": ".1f",
       "step": 0.5,
       "style": "IPY_MODEL_74d913e5ca65406693f07fffa435b7aa"
      }
     },
     "0c19d1559831435384dedb309edb7ed2": {
      "model_module": "@jupyter-widgets/controls",
      "model_module_version": "1.1.0",
      "model_name": "HBoxModel",
      "state": {
       "children": [
        "IPY_MODEL_42e5ef85655f41f594de6aadc87b3386",
        "IPY_MODEL_7e684663d5e2435b9abf3dae7e619adb"
       ],
       "layout": "IPY_MODEL_20d7ac4a42f7489e814e6f91d2d440d0"
      }
     },
     "0d2a75d812d04b34b79052b3792a8f56": {
      "model_module": "@jupyter-widgets/controls",
      "model_module_version": "1.1.0",
      "model_name": "HBoxModel",
      "state": {
       "children": [
        "IPY_MODEL_190f545b45e3482281115755a30896d3",
        "IPY_MODEL_5c2b59605a824f109ddf14bbbf2f75c0",
        "IPY_MODEL_638694628d164ae98f380fde763164ff"
       ],
       "layout": "IPY_MODEL_883d1a084e26430eb7052273f6aea36a"
      }
     },
     "0d85cffe80654ff8a2de62d449cc9b53": {
      "model_module": "@jupyter-widgets/base",
      "model_module_version": "1.0.0",
      "model_name": "LayoutModel",
      "state": {}
     },
     "0da189b3fdba44b8b8602eeb6f52fb21": {
      "model_module": "@jupyter-widgets/controls",
      "model_module_version": "1.1.0",
      "model_name": "HBoxModel",
      "state": {
       "children": [
        "IPY_MODEL_1a81ceec71434b3a9cde10a7feb42aa9",
        "IPY_MODEL_c056feb2d302416f8243c7c9fad00f8d"
       ],
       "layout": "IPY_MODEL_d43c1da091974af8907c2b270dded8cc"
      }
     },
     "0f3adfc575944ccbb9d354b2cdc95001": {
      "model_module": "@jupyter-widgets/base",
      "model_module_version": "1.0.0",
      "model_name": "LayoutModel",
      "state": {
       "height": "80px",
       "width": "70%"
      }
     },
     "0fe83c15286f447eb511cc50bc7c91ec": {
      "model_module": "@jupyter-widgets/controls",
      "model_module_version": "1.1.0",
      "model_name": "FloatSliderModel",
      "state": {
       "description": "Elevation:",
       "layout": "IPY_MODEL_88f2f630de144d659c790c626b62e0fd",
       "max": 90,
       "min": -90,
       "orientation": "vertical",
       "readout_format": ".1f",
       "step": 0.5,
       "style": "IPY_MODEL_4d704249b239433ea019f15c0ba07109"
      }
     },
     "131f9a88246645e9b3c0305486b5bc7a": {
      "model_module": "@jupyter-widgets/base",
      "model_module_version": "1.0.0",
      "model_name": "LayoutModel",
      "state": {}
     },
     "136a1e8651cc4f7594bada9de1d77509": {
      "model_module": "@jupyter-widgets/controls",
      "model_module_version": "1.1.0",
      "model_name": "VBoxModel",
      "state": {
       "children": [
        "IPY_MODEL_845b07b809e948e79ba97b33fd0ee7d5",
        "IPY_MODEL_b1749265d4944081bc13ed7157a14c49"
       ],
       "layout": "IPY_MODEL_e1619c354039488e81cb7ff917a6038b"
      }
     },
     "13b14f01020a47989c82f2ab4bf414da": {
      "model_module": "@jupyter-widgets/output",
      "model_module_version": "1.0.0",
      "model_name": "OutputModel",
      "state": {
       "layout": "IPY_MODEL_76b6dbca40d642c586b42865b696acd0"
      }
     },
     "14bdafb1424d484e8ca2930b1d2326d7": {
      "model_module": "@jupyter-widgets/base",
      "model_module_version": "1.0.0",
      "model_name": "LayoutModel",
      "state": {}
     },
     "15b465102d8b4d73b967fdb649381e01": {
      "model_module": "@jupyter-widgets/controls",
      "model_module_version": "1.1.0",
      "model_name": "FloatSliderModel",
      "state": {
       "description": "Elevation:",
       "layout": "IPY_MODEL_d537b42dc67f4ca3ae0919fb201e14da",
       "max": 90,
       "min": -90,
       "orientation": "vertical",
       "readout_format": ".1f",
       "step": 0.5,
       "style": "IPY_MODEL_57ea196fdaef491a9581d1543eb36f82",
       "value": -90
      }
     },
     "1626f9999abf4f2e9cd16085e2993816": {
      "model_module": "@jupyter-widgets/controls",
      "model_module_version": "1.1.0",
      "model_name": "FloatSliderModel",
      "state": {
       "description": "Azimuth:",
       "layout": "IPY_MODEL_0f3adfc575944ccbb9d354b2cdc95001",
       "max": 180,
       "min": -180,
       "readout_format": ".1f",
       "step": 0.5,
       "style": "IPY_MODEL_44ba713a42f3413f9a02a8abd3dde626"
      }
     },
     "167c846e2f1d41c5a5381b67bb2f2b12": {
      "model_module": "@jupyter-widgets/output",
      "model_module_version": "1.0.0",
      "model_name": "OutputModel",
      "state": {
       "layout": "IPY_MODEL_c98d73ee42d447c9a6a086cef5f179d2"
      }
     },
     "18716e521af04723913fc65e00edb5d8": {
      "model_module": "@jupyter-widgets/output",
      "model_module_version": "1.0.0",
      "model_name": "OutputModel",
      "state": {
       "layout": "IPY_MODEL_55ab92a65dc44bee812e594707a9d050",
       "outputs": [
        {
         "data": {
          "image/png": "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\n",
          "text/plain": "<matplotlib.figure.Figure at 0xd722e80>"
         },
         "metadata": {},
         "output_type": "display_data"
        }
       ]
      }
     },
     "19018bc2014648a08f5960bd78fa976d": {
      "model_module": "@jupyter-widgets/controls",
      "model_module_version": "1.1.0",
      "model_name": "HBoxModel",
      "state": {
       "children": [
        "IPY_MODEL_76d2be01d85640b6ab991756b62f741c",
        "IPY_MODEL_1aa386f14d6441c59f6832b3d3868754",
        "IPY_MODEL_13b14f01020a47989c82f2ab4bf414da"
       ],
       "layout": "IPY_MODEL_6ce35eee534645c2806eb038b97b9fc0"
      }
     },
     "190f545b45e3482281115755a30896d3": {
      "model_module": "@jupyter-widgets/controls",
      "model_module_version": "1.1.0",
      "model_name": "FloatSliderModel",
      "state": {
       "description": "Elevation:",
       "layout": "IPY_MODEL_83f4c12c99694b20834b753e97b9bb5b",
       "max": 90,
       "min": -90,
       "orientation": "vertical",
       "readout_format": ".1f",
       "step": 0.5,
       "style": "IPY_MODEL_c0e553e97dc0409abe07d330e34546f1",
       "value": 90
      }
     },
     "19d614a6376943029c0fd052df82549c": {
      "model_module": "@jupyter-widgets/base",
      "model_module_version": "1.0.0",
      "model_name": "LayoutModel",
      "state": {}
     },
     "1a81ceec71434b3a9cde10a7feb42aa9": {
      "model_module": "@jupyter-widgets/controls",
      "model_module_version": "1.1.0",
      "model_name": "FloatSliderModel",
      "state": {
       "description": "Elevation:",
       "layout": "IPY_MODEL_a64e51d5961c4877994d00485b5cd8bf",
       "max": 90,
       "min": -90,
       "orientation": "vertical",
       "readout_format": ".1f",
       "step": 0.5,
       "style": "IPY_MODEL_c1c4d1423e704d948dfe9de927e1c238"
      }
     },
     "1aa386f14d6441c59f6832b3d3868754": {
      "model_module": "@jupyter-widgets/controls",
      "model_module_version": "1.1.0",
      "model_name": "FloatSliderModel",
      "state": {
       "description": "Azimuth:",
       "layout": "IPY_MODEL_201d74aab1f54bdfa62099251ec264ab",
       "max": 180,
       "min": -180,
       "readout_format": ".1f",
       "step": 0.5,
       "style": "IPY_MODEL_b828d4f0142f4845bbc891951ece5113"
      }
     },
     "1b1d8627406e4a019e43ad2ba298a682": {
      "model_module": "@jupyter-widgets/base",
      "model_module_version": "1.0.0",
      "model_name": "LayoutModel",
      "state": {}
     },
     "1e6ca353ca1049c4abdb033ba40be01a": {
      "model_module": "@jupyter-widgets/base",
      "model_module_version": "1.0.0",
      "model_name": "LayoutModel",
      "state": {}
     },
     "1e7a06c87eb84cdd92e6f4b9d10a5d15": {
      "model_module": "@jupyter-widgets/base",
      "model_module_version": "1.0.0",
      "model_name": "LayoutModel",
      "state": {}
     },
     "1e91cbe851aa47b0ada5b2312010131b": {
      "model_module": "@jupyter-widgets/controls",
      "model_module_version": "1.1.0",
      "model_name": "HBoxModel",
      "state": {
       "children": [
        "IPY_MODEL_15b465102d8b4d73b967fdb649381e01",
        "IPY_MODEL_509661688f8946b191b39a5373b509e5"
       ],
       "layout": "IPY_MODEL_992d6f8db29d46669922a826e3576376"
      }
     },
     "1ec498216a8c4a2aaa665d2f63f0cd6d": {
      "model_module": "@jupyter-widgets/base",
      "model_module_version": "1.0.0",
      "model_name": "LayoutModel",
      "state": {}
     },
     "1f7ea354a4aa4300a2f16f1c3286b3fc": {
      "model_module": "@jupyter-widgets/base",
      "model_module_version": "1.0.0",
      "model_name": "LayoutModel",
      "state": {}
     },
     "1f9f8cfddd4345ecb79874f1ac52d641": {
      "model_module": "@jupyter-widgets/controls",
      "model_module_version": "1.1.0",
      "model_name": "HBoxModel",
      "state": {
       "children": [
        "IPY_MODEL_28561368ef1b48aeb614741577264339",
        "IPY_MODEL_220f965db04b4d1bb4eab023258f86dd"
       ],
       "layout": "IPY_MODEL_002e69a7a9024afb903403fc522d652a"
      }
     },
     "1fbbe8ef782a426699f46781fba9186d": {
      "model_module": "@jupyter-widgets/base",
      "model_module_version": "1.0.0",
      "model_name": "LayoutModel",
      "state": {
       "height": "80px",
       "width": "70%"
      }
     },
     "201d74aab1f54bdfa62099251ec264ab": {
      "model_module": "@jupyter-widgets/base",
      "model_module_version": "1.0.0",
      "model_name": "LayoutModel",
      "state": {
       "height": "80px",
       "width": "70%"
      }
     },
     "20d7ac4a42f7489e814e6f91d2d440d0": {
      "model_module": "@jupyter-widgets/base",
      "model_module_version": "1.0.0",
      "model_name": "LayoutModel",
      "state": {}
     },
     "20f5f0f0c23243d094e5462e6f3f1e40": {
      "model_module": "@jupyter-widgets/controls",
      "model_module_version": "1.1.0",
      "model_name": "FloatSliderModel",
      "state": {
       "description": "Elevation:",
       "layout": "IPY_MODEL_6cbf99c3117a4731a0bb81eb44c4d725",
       "max": 90,
       "min": -90,
       "orientation": "vertical",
       "readout_format": ".1f",
       "step": 0.5,
       "style": "IPY_MODEL_01c2c12a1cf44ebe96ee2ed52b6ead5b",
       "value": -90
      }
     },
     "2132b3ba574d419fb1b76a333a964cea": {
      "model_module": "@jupyter-widgets/output",
      "model_module_version": "1.0.0",
      "model_name": "OutputModel",
      "state": {
       "layout": "IPY_MODEL_d45908f26f144444a94dfde120d00dff",
       "outputs": [
        {
         "data": {
          "image/png": "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\n",
          "text/plain": "<matplotlib.figure.Figure at 0xac2d4a8>"
         },
         "metadata": {},
         "output_type": "display_data"
        }
       ]
      }
     },
     "220f965db04b4d1bb4eab023258f86dd": {
      "model_module": "@jupyter-widgets/output",
      "model_module_version": "1.0.0",
      "model_name": "OutputModel",
      "state": {
       "layout": "IPY_MODEL_9cd46042f5024debb1c955d8c5508137",
       "outputs": [
        {
         "data": {
          "text/plain": "-58.5"
         },
         "metadata": {},
         "output_type": "display_data"
        }
       ]
      }
     },
     "229cd02145be452fb5ffde25e6c94c86": {
      "model_module": "@jupyter-widgets/base",
      "model_module_version": "1.0.0",
      "model_name": "LayoutModel",
      "state": {}
     },
     "24d5fe673cc840f59bc04a6987d4c281": {
      "model_module": "@jupyter-widgets/base",
      "model_module_version": "1.0.0",
      "model_name": "LayoutModel",
      "state": {}
     },
     "24fd9ac647844961b5fd37b169f279ef": {
      "model_module": "@jupyter-widgets/controls",
      "model_module_version": "1.1.0",
      "model_name": "HBoxModel",
      "state": {
       "children": [
        "IPY_MODEL_ffaae8749ecd4c62801023a3f38568c2",
        "IPY_MODEL_63c34c6cd27e441d820445a207101b0c",
        "IPY_MODEL_a0e2a34261dc42e48e7c9b2c1bb62869"
       ],
       "layout": "IPY_MODEL_a2ef2ca78d5e4c2d8351806db03c53ce"
      }
     },
     "263bba935d094a0395268dc49d70f213": {
      "model_module": "@jupyter-widgets/controls",
      "model_module_version": "1.1.0",
      "model_name": "SliderStyleModel",
      "state": {
       "description_width": ""
      }
     },
     "268505bd71744cdebfca6ffd66cc408d": {
      "model_module": "@jupyter-widgets/base",
      "model_module_version": "1.0.0",
      "model_name": "LayoutModel",
      "state": {}
     },
     "279074ec8b0d411c9027dd8101966111": {
      "model_module": "@jupyter-widgets/base",
      "model_module_version": "1.0.0",
      "model_name": "LayoutModel",
      "state": {}
     },
     "27c1d055cd1a4b4caabcafa6cb4ca822": {
      "model_module": "@jupyter-widgets/output",
      "model_module_version": "1.0.0",
      "model_name": "OutputModel",
      "state": {
       "layout": "IPY_MODEL_afd7b02f5c1c4a7b8c1a9f6f2225af05",
       "outputs": [
        {
         "ename": "AttributeError",
         "evalue": "'list' object has no attribute 'set_ydata'",
         "output_type": "error",
         "traceback": [
          "\u001b[1;31m---------------------------------------------------------------------------\u001b[0m",
          "\u001b[1;31mAttributeError\u001b[0m                            Traceback (most recent call last)",
          "\u001b[1;32mF:\\Anaconda3\\lib\\site-packages\\ipywidgets\\widgets\\interaction.py\u001b[0m in \u001b[0;36mobserver\u001b[1;34m(change)\u001b[0m\n\u001b[0;32m     72\u001b[0m         \u001b[1;32mwith\u001b[0m \u001b[0mout\u001b[0m\u001b[1;33m:\u001b[0m\u001b[1;33m\u001b[0m\u001b[0m\n\u001b[0;32m     73\u001b[0m             \u001b[0mclear_output\u001b[0m\u001b[1;33m(\u001b[0m\u001b[0mwait\u001b[0m\u001b[1;33m=\u001b[0m\u001b[1;32mTrue\u001b[0m\u001b[1;33m)\u001b[0m\u001b[1;33m\u001b[0m\u001b[0m\n\u001b[1;32m---> 74\u001b[1;33m             \u001b[0mf\u001b[0m\u001b[1;33m(\u001b[0m\u001b[1;33m**\u001b[0m\u001b[0mkwargs\u001b[0m\u001b[1;33m)\u001b[0m\u001b[1;33m\u001b[0m\u001b[0m\n\u001b[0m\u001b[0;32m     75\u001b[0m             \u001b[0mshow_inline_matplotlib_plots\u001b[0m\u001b[1;33m(\u001b[0m\u001b[1;33m)\u001b[0m\u001b[1;33m\u001b[0m\u001b[0m\n\u001b[0;32m     76\u001b[0m     \u001b[1;32mfor\u001b[0m \u001b[0mk\u001b[0m\u001b[1;33m,\u001b[0m\u001b[0mw\u001b[0m \u001b[1;32min\u001b[0m \u001b[0mcontrols\u001b[0m\u001b[1;33m.\u001b[0m\u001b[0mitems\u001b[0m\u001b[1;33m(\u001b[0m\u001b[1;33m)\u001b[0m\u001b[1;33m:\u001b[0m\u001b[1;33m\u001b[0m\u001b[0m\n",
          "\u001b[1;32m<ipython-input-122-1c783615e136>\u001b[0m in \u001b[0;36mOnSliderChanged\u001b[1;34m(angle1, angle2)\u001b[0m\n\u001b[0;32m     10\u001b[0m \u001b[1;32mdef\u001b[0m \u001b[0mOnSliderChanged\u001b[0m\u001b[1;33m(\u001b[0m\u001b[0mangle1\u001b[0m\u001b[1;33m,\u001b[0m\u001b[0mangle2\u001b[0m\u001b[1;33m)\u001b[0m\u001b[1;33m:\u001b[0m\u001b[1;33m\u001b[0m\u001b[0m\n\u001b[0;32m     11\u001b[0m     \u001b[0mcurrentIR\u001b[0m \u001b[1;33m=\u001b[0m \u001b[0mdaffHRIR\u001b[0m\u001b[1;33m.\u001b[0m\u001b[0mGetNearestNeighbourRecord\u001b[0m\u001b[1;33m(\u001b[0m\u001b[0mangle1\u001b[0m\u001b[1;33m,\u001b[0m\u001b[0mangle2\u001b[0m\u001b[1;33m)\u001b[0m\u001b[1;33m;\u001b[0m\u001b[1;33m\u001b[0m\u001b[0m\n\u001b[1;32m---> 12\u001b[1;33m     \u001b[0mline1\u001b[0m\u001b[1;33m.\u001b[0m\u001b[0mset_ydata\u001b[0m\u001b[1;33m(\u001b[0m\u001b[0mcurrentIR\u001b[0m\u001b[1;33m[\u001b[0m\u001b[1;36m0\u001b[0m\u001b[1;33m]\u001b[0m\u001b[1;33m)\u001b[0m\u001b[1;33m;\u001b[0m\u001b[1;33m\u001b[0m\u001b[0m\n\u001b[0m\u001b[0;32m     13\u001b[0m \u001b[1;33m\u001b[0m\u001b[0m\n\u001b[0;32m     14\u001b[0m \u001b[1;33m\u001b[0m\u001b[0m\n",
          "\u001b[1;31mAttributeError\u001b[0m: 'list' object has no attribute 'set_ydata'"
         ]
        }
       ]
      }
     },
     "28561368ef1b48aeb614741577264339": {
      "model_module": "@jupyter-widgets/controls",
      "model_module_version": "1.1.0",
      "model_name": "FloatSliderModel",
      "state": {
       "description": "Elevation:",
       "layout": "IPY_MODEL_5c3124aa40fe4ab1b0c94e9987cb1310",
       "max": 90,
       "min": -90,
       "orientation": "vertical",
       "readout_format": ".1f",
       "step": 0.5,
       "style": "IPY_MODEL_fee191e628614d70a25a7a03a1e87116",
       "value": 90
      }
     },
     "2888879599bb4724bb18f9bb34981d53": {
      "model_module": "@jupyter-widgets/base",
      "model_module_version": "1.0.0",
      "model_name": "LayoutModel",
      "state": {}
     },
     "2991e73d7c4a45789368241ff7ec8975": {
      "model_module": "@jupyter-widgets/controls",
      "model_module_version": "1.1.0",
      "model_name": "FloatSliderModel",
      "state": {
       "description": "Elevation:",
       "layout": "IPY_MODEL_a00a943e27404e95bb564a8485f2ed90",
       "max": 90,
       "min": -90,
       "orientation": "vertical",
       "readout_format": ".1f",
       "step": 0.5,
       "style": "IPY_MODEL_8bcb7e5818f645789d47a7fdce6ce7ca"
      }
     },
     "2ad1418d18af428da08cecd0e3562730": {
      "model_module": "@jupyter-widgets/base",
      "model_module_version": "1.0.0",
      "model_name": "LayoutModel",
      "state": {
       "height": "80px",
       "width": "70%"
      }
     },
     "2cd74b52c0164e46809e9ec38a3290b3": {
      "model_module": "@jupyter-widgets/controls",
      "model_module_version": "1.1.0",
      "model_name": "SliderStyleModel",
      "state": {
       "description_width": ""
      }
     },
     "308f9438b4ca4f6a91abded8a09695b5": {
      "model_module": "@jupyter-widgets/base",
      "model_module_version": "1.0.0",
      "model_name": "LayoutModel",
      "state": {}
     },
     "322e2946f89a4f3ba944a036ff8fb2b2": {
      "model_module": "@jupyter-widgets/base",
      "model_module_version": "1.0.0",
      "model_name": "LayoutModel",
      "state": {}
     },
     "325a8362629f4cdf820efb6cf3fb3b89": {
      "model_module": "@jupyter-widgets/controls",
      "model_module_version": "1.1.0",
      "model_name": "VBoxModel",
      "state": {
       "children": [
        "IPY_MODEL_ece063fd852141c9b6abcca1469145b2",
        "IPY_MODEL_1f9f8cfddd4345ecb79874f1ac52d641"
       ],
       "layout": "IPY_MODEL_eac8e735d232416e9abb9500ce57e74d"
      }
     },
     "33acad07b7364a35946fe0eaf21b8f24": {
      "model_module": "@jupyter-widgets/controls",
      "model_module_version": "1.1.0",
      "model_name": "SliderStyleModel",
      "state": {
       "description_width": ""
      }
     },
     "34b67da7f11a4fd6a884c085ece851f1": {
      "model_module": "@jupyter-widgets/base",
      "model_module_version": "1.0.0",
      "model_name": "LayoutModel",
      "state": {
       "height": "80px",
       "width": "70%"
      }
     },
     "367bdd171ba5486187cc0cb3a719bb66": {
      "model_module": "@jupyter-widgets/controls",
      "model_module_version": "1.1.0",
      "model_name": "VBoxModel",
      "state": {
       "children": [
        "IPY_MODEL_9a4498c8005649e5bc97528eed53c6c1",
        "IPY_MODEL_a8285e944dd645708ed3a7513e734d3e"
       ],
       "layout": "IPY_MODEL_131f9a88246645e9b3c0305486b5bc7a"
      }
     },
     "37ffa12dd626474caf074b4c83fbddbe": {
      "model_module": "@jupyter-widgets/output",
      "model_module_version": "1.0.0",
      "model_name": "OutputModel",
      "state": {
       "layout": "IPY_MODEL_8090984d13a64b879881f83dcae1fbd1"
      }
     },
     "3906cdb8d8ae4d719829cf2c9ae5d39c": {
      "model_module": "@jupyter-widgets/controls",
      "model_module_version": "1.1.0",
      "model_name": "FloatSliderModel",
      "state": {
       "description": "Elevation:",
       "layout": "IPY_MODEL_e8b241c44e9f4edb9aa2b17b21510d0a",
       "max": 90,
       "min": -90,
       "orientation": "vertical",
       "readout_format": ".1f",
       "step": 0.5,
       "style": "IPY_MODEL_b95c31d71fc94b51b81e970ab9d612a1"
      }
     },
     "3925523d895f4aa8ba002cdd3eb8cc02": {
      "model_module": "@jupyter-widgets/controls",
      "model_module_version": "1.1.0",
      "model_name": "HBoxModel",
      "state": {
       "children": [
        "IPY_MODEL_ffaae8749ecd4c62801023a3f38568c2",
        "IPY_MODEL_a0e2a34261dc42e48e7c9b2c1bb62869"
       ],
       "layout": "IPY_MODEL_5202b86414af4096b03bea66d63f5f04"
      }
     },
     "3b1edfa97c4a4ca88d35555b897970d3": {
      "model_module": "@jupyter-widgets/base",
      "model_module_version": "1.0.0",
      "model_name": "LayoutModel",
      "state": {}
     },
     "3fe050698610405386b061252bab0c63": {
      "model_module": "@jupyter-widgets/base",
      "model_module_version": "1.0.0",
      "model_name": "LayoutModel",
      "state": {}
     },
     "4009e017fac84190acb31cd3ce6f10cc": {
      "model_module": "@jupyter-widgets/controls",
      "model_module_version": "1.1.0",
      "model_name": "SliderStyleModel",
      "state": {
       "description_width": ""
      }
     },
     "41844fbf199447c29a807d654c748e91": {
      "model_module": "@jupyter-widgets/controls",
      "model_module_version": "1.1.0",
      "model_name": "HBoxModel",
      "state": {
       "children": [
        "IPY_MODEL_b1b5427effb24af8a6e8e77b3e23f09e",
        "IPY_MODEL_0745bf1b408b49268d66dfa343351275"
       ],
       "layout": "IPY_MODEL_322e2946f89a4f3ba944a036ff8fb2b2"
      }
     },
     "4222a518245f4974abd01c4ae6b634b5": {
      "model_module": "@jupyter-widgets/base",
      "model_module_version": "1.0.0",
      "model_name": "LayoutModel",
      "state": {}
     },
     "42e5ef85655f41f594de6aadc87b3386": {
      "model_module": "@jupyter-widgets/controls",
      "model_module_version": "1.1.0",
      "model_name": "FloatSliderModel",
      "state": {
       "description": "Elevation:",
       "layout": "IPY_MODEL_f4bc0f50517544f1b38d871a294ad662",
       "max": 90,
       "min": -90,
       "orientation": "vertical",
       "readout_format": ".1f",
       "step": 0.5,
       "style": "IPY_MODEL_502adcf6cec74a2580cd31a900350b52"
      }
     },
     "44ba713a42f3413f9a02a8abd3dde626": {
      "model_module": "@jupyter-widgets/controls",
      "model_module_version": "1.1.0",
      "model_name": "SliderStyleModel",
      "state": {
       "description_width": ""
      }
     },
     "450e06a8f8964236a59197bee8d88130": {
      "model_module": "@jupyter-widgets/controls",
      "model_module_version": "1.1.0",
      "model_name": "VBoxModel",
      "state": {
       "children": [
        "IPY_MODEL_5c2b59605a824f109ddf14bbbf2f75c0",
        "IPY_MODEL_d0abb41af64648e9b20411c67294630d"
       ],
       "layout": "IPY_MODEL_5270154d4134496f8e4792ec98de15ed"
      }
     },
     "455182eadf8b466f9c8c634083b544ca": {
      "model_module": "@jupyter-widgets/controls",
      "model_module_version": "1.1.0",
      "model_name": "HBoxModel",
      "state": {
       "children": [
        "IPY_MODEL_b1b5427effb24af8a6e8e77b3e23f09e",
        "IPY_MODEL_cc635bcd88364fecaf57de63f7ef37fb",
        "IPY_MODEL_0745bf1b408b49268d66dfa343351275"
       ],
       "layout": "IPY_MODEL_bf90ae25ba054364a953f902baaaefd8"
      }
     },
     "463832c50fa14bc18c1c4c6b23a1d7f7": {
      "model_module": "@jupyter-widgets/base",
      "model_module_version": "1.0.0",
      "model_name": "LayoutModel",
      "state": {}
     },
     "466eac53cea742e5b78f10cb407e3856": {
      "model_module": "@jupyter-widgets/controls",
      "model_module_version": "1.1.0",
      "model_name": "HBoxModel",
      "state": {
       "children": [
        "IPY_MODEL_ba92f67f81164a0788c2efcaa7709514",
        "IPY_MODEL_8de8477416974e7cafdca4c0b5ab082c"
       ],
       "layout": "IPY_MODEL_279074ec8b0d411c9027dd8101966111"
      }
     },
     "4ae28c4e17234ccab5c783783eccd42b": {
      "model_module": "@jupyter-widgets/controls",
      "model_module_version": "1.1.0",
      "model_name": "HBoxModel",
      "state": {
       "children": [
        "IPY_MODEL_3906cdb8d8ae4d719829cf2c9ae5d39c",
        "IPY_MODEL_b0c1a567bbc941cb851c3621c4478127",
        "IPY_MODEL_5add63d481ba43afa3113811f748b4d2"
       ],
       "layout": "IPY_MODEL_3b1edfa97c4a4ca88d35555b897970d3"
      }
     },
     "4b74b8e676c1439a9cb266d4e2b365de": {
      "model_module": "@jupyter-widgets/controls",
      "model_module_version": "1.1.0",
      "model_name": "HBoxModel",
      "state": {
       "children": [
        "IPY_MODEL_1a81ceec71434b3a9cde10a7feb42aa9",
        "IPY_MODEL_c320b277759946eb804d3fe83812277e",
        "IPY_MODEL_c056feb2d302416f8243c7c9fad00f8d"
       ],
       "layout": "IPY_MODEL_4222a518245f4974abd01c4ae6b634b5"
      }
     },
     "4c1b6ac2cbf541a4a60ea5758db2a1e5": {
      "model_module": "@jupyter-widgets/controls",
      "model_module_version": "1.1.0",
      "model_name": "SliderStyleModel",
      "state": {
       "description_width": ""
      }
     },
     "4c39506994634b43b10158e0ae43f632": {
      "model_module": "@jupyter-widgets/controls",
      "model_module_version": "1.1.0",
      "model_name": "FloatSliderModel",
      "state": {
       "description": "Elevation:",
       "layout": "IPY_MODEL_9089a5b7312e4f238ed6568de20cf42e",
       "max": 90,
       "min": -90,
       "orientation": "vertical",
       "readout_format": ".1f",
       "step": 0.5,
       "style": "IPY_MODEL_54e63fe4cb29444e9c7dd91fbac5bca2"
      }
     },
     "4c797dada079401a9def0bee0804e10e": {
      "model_module": "@jupyter-widgets/base",
      "model_module_version": "1.0.0",
      "model_name": "LayoutModel",
      "state": {}
     },
     "4d0d901159804ffebbe52935567d49c7": {
      "model_module": "@jupyter-widgets/controls",
      "model_module_version": "1.1.0",
      "model_name": "VBoxModel",
      "state": {
       "children": [
        "IPY_MODEL_9aa3402a505b4d7baed5e324a5b6ffb4",
        "IPY_MODEL_e68b7f6a2952422bb78519eaf1dcd482"
       ],
       "layout": "IPY_MODEL_0d85cffe80654ff8a2de62d449cc9b53"
      }
     },
     "4d704249b239433ea019f15c0ba07109": {
      "model_module": "@jupyter-widgets/controls",
      "model_module_version": "1.1.0",
      "model_name": "SliderStyleModel",
      "state": {
       "description_width": ""
      }
     },
     "4dfd20a10ceb40a78dd2e28e3812ad5e": {
      "model_module": "@jupyter-widgets/base",
      "model_module_version": "1.0.0",
      "model_name": "LayoutModel",
      "state": {}
     },
     "4e0cf84075a74feebe1ca31a8f1fdea1": {
      "model_module": "@jupyter-widgets/controls",
      "model_module_version": "1.1.0",
      "model_name": "FloatSliderModel",
      "state": {
       "description": "Azimuth:",
       "layout": "IPY_MODEL_6c1e667411e44a66862a96ba9fbdb4ec",
       "max": 180,
       "min": -180,
       "readout_format": ".1f",
       "step": 0.5,
       "style": "IPY_MODEL_f314cd50bbde4da1a809f713899f9eff"
      }
     },
     "4e9d650f465d47f496cb7015f6c90f7f": {
      "model_module": "@jupyter-widgets/controls",
      "model_module_version": "1.1.0",
      "model_name": "VBoxModel",
      "state": {
       "children": [
        "IPY_MODEL_c320b277759946eb804d3fe83812277e",
        "IPY_MODEL_0da189b3fdba44b8b8602eeb6f52fb21"
       ],
       "layout": "IPY_MODEL_00f99faeec7948f2bf39fd78948c0fbe"
      }
     },
     "502adcf6cec74a2580cd31a900350b52": {
      "model_module": "@jupyter-widgets/controls",
      "model_module_version": "1.1.0",
      "model_name": "SliderStyleModel",
      "state": {
       "description_width": ""
      }
     },
     "509661688f8946b191b39a5373b509e5": {
      "model_module": "@jupyter-widgets/output",
      "model_module_version": "1.0.0",
      "model_name": "OutputModel",
      "state": {
       "layout": "IPY_MODEL_19d614a6376943029c0fd052df82549c",
       "outputs": [
        {
         "data": {
          "image/png": "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\n",
          "text/plain": "<matplotlib.figure.Figure at 0xb2489b0>"
         },
         "metadata": {},
         "output_type": "display_data"
        }
       ]
      }
     },
     "5202b86414af4096b03bea66d63f5f04": {
      "model_module": "@jupyter-widgets/base",
      "model_module_version": "1.0.0",
      "model_name": "LayoutModel",
      "state": {}
     },
     "52586bb448794df399810f6d93fc0611": {
      "model_module": "@jupyter-widgets/controls",
      "model_module_version": "1.1.0",
      "model_name": "FloatSliderModel",
      "state": {
       "description": "Azimuth:",
       "layout": "IPY_MODEL_2ad1418d18af428da08cecd0e3562730",
       "max": 180,
       "min": -180,
       "readout_format": ".1f",
       "step": 0.5,
       "style": "IPY_MODEL_b170649c12cb4c838939ba05eed30b42",
       "value": 74.5
      }
     },
     "5270154d4134496f8e4792ec98de15ed": {
      "model_module": "@jupyter-widgets/base",
      "model_module_version": "1.0.0",
      "model_name": "LayoutModel",
      "state": {}
     },
     "52e0189ce2a247b0bde33da00101b633": {
      "model_module": "@jupyter-widgets/controls",
      "model_module_version": "1.1.0",
      "model_name": "FloatSliderModel",
      "state": {
       "description": "Elevation:",
       "layout": "IPY_MODEL_1ec498216a8c4a2aaa665d2f63f0cd6d",
       "max": 90,
       "min": -90,
       "orientation": "vertical",
       "readout_format": ".1f",
       "step": 0.5,
       "style": "IPY_MODEL_873868099ec54f95a0ea0bdbf5c2f356"
      }
     },
     "53d22e9bc51249249abb9eedab1b7065": {
      "model_module": "@jupyter-widgets/output",
      "model_module_version": "1.0.0",
      "model_name": "OutputModel",
      "state": {
       "layout": "IPY_MODEL_c1f57ec8d44941e8a5a902b6f892bf5e",
       "outputs": [
        {
         "name": "stderr",
         "output_type": "stream",
         "text": "F:\\Anaconda3\\lib\\site-packages\\matplotlib\\cbook\\deprecation.py:106: MatplotlibDeprecationWarning: Adding an axes using the same arguments as a previous axes currently reuses the earlier instance.  In a future version, a new instance will always be created and returned.  Meanwhile, this warning can be suppressed, and the future behavior ensured, by passing a unique label to each axes instance.\n  warnings.warn(message, mplDeprecation, stacklevel=1)\n"
        },
        {
         "data": {
          "image/png": "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\n",
          "text/plain": "<matplotlib.figure.Figure at 0xd089978>"
         },
         "metadata": {},
         "output_type": "display_data"
        }
       ]
      }
     },
     "54e63fe4cb29444e9c7dd91fbac5bca2": {
      "model_module": "@jupyter-widgets/controls",
      "model_module_version": "1.1.0",
      "model_name": "SliderStyleModel",
      "state": {
       "description_width": ""
      }
     },
     "55ab92a65dc44bee812e594707a9d050": {
      "model_module": "@jupyter-widgets/base",
      "model_module_version": "1.0.0",
      "model_name": "LayoutModel",
      "state": {}
     },
     "57ea196fdaef491a9581d1543eb36f82": {
      "model_module": "@jupyter-widgets/controls",
      "model_module_version": "1.1.0",
      "model_name": "SliderStyleModel",
      "state": {
       "description_width": ""
      }
     },
     "5add63d481ba43afa3113811f748b4d2": {
      "model_module": "@jupyter-widgets/output",
      "model_module_version": "1.0.0",
      "model_name": "OutputModel",
      "state": {
       "layout": "IPY_MODEL_d291088411f9451d8193bbc53736a98d",
       "outputs": [
        {
         "data": {
          "image/png": "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\n",
          "text/plain": "<matplotlib.figure.Figure at 0xcea48d0>"
         },
         "metadata": {},
         "output_type": "display_data"
        }
       ]
      }
     },
     "5bb2aafd6c524045ae231f10c2e7814c": {
      "model_module": "@jupyter-widgets/controls",
      "model_module_version": "1.1.0",
      "model_name": "HBoxModel",
      "state": {
       "children": [
        "IPY_MODEL_e20a8bd51d85441397aca0d2b9f93ca1",
        "IPY_MODEL_2132b3ba574d419fb1b76a333a964cea"
       ],
       "layout": "IPY_MODEL_76d7bc84298f4e3598c9b01029a8ea96"
      }
     },
     "5bbadbfdb9274be2aa5dd6bfffd0937c": {
      "model_module": "@jupyter-widgets/base",
      "model_module_version": "1.0.0",
      "model_name": "LayoutModel",
      "state": {
       "height": "80px",
       "width": "70%"
      }
     },
     "5c2b59605a824f109ddf14bbbf2f75c0": {
      "model_module": "@jupyter-widgets/controls",
      "model_module_version": "1.1.0",
      "model_name": "FloatSliderModel",
      "state": {
       "description": "Azimuth:",
       "layout": "IPY_MODEL_bfef655d0fbf4548b322753b8b806d31",
       "max": 180,
       "min": -180,
       "readout_format": ".1f",
       "step": 0.5,
       "style": "IPY_MODEL_f76492978f324836bac92c33dad13f83",
       "value": -180
      }
     },
     "5c3124aa40fe4ab1b0c94e9987cb1310": {
      "model_module": "@jupyter-widgets/base",
      "model_module_version": "1.0.0",
      "model_name": "LayoutModel",
      "state": {}
     },
     "5d9da383f0d5493e86ec33b9f083aa32": {
      "model_module": "@jupyter-widgets/controls",
      "model_module_version": "1.1.0",
      "model_name": "SliderStyleModel",
      "state": {
       "description_width": ""
      }
     },
     "5e77241c6d2242f4ab04b7e64542f153": {
      "model_module": "@jupyter-widgets/controls",
      "model_module_version": "1.1.0",
      "model_name": "VBoxModel",
      "state": {
       "children": [
        "IPY_MODEL_f49793343aa4420baf02d1fd53126e27",
        "IPY_MODEL_d20718340fd84fe29bc39ffe5b5f5036"
       ],
       "layout": "IPY_MODEL_f2b16f5b5e1e44f4bf61952cab4ca500"
      }
     },
     "5eff2b16042b4875aaac311fb6b92da4": {
      "model_module": "@jupyter-widgets/controls",
      "model_module_version": "1.1.0",
      "model_name": "HBoxModel",
      "state": {
       "children": [
        "IPY_MODEL_d6f6afdff14f49d2bb68b7ab32dc2729",
        "IPY_MODEL_f49793343aa4420baf02d1fd53126e27",
        "IPY_MODEL_7713f29caa4748e28e41037e8ee8a668"
       ],
       "layout": "IPY_MODEL_7090fd00aff646d0be4e7f8ba629e416"
      }
     },
     "5f2ad705f0124468ba19cde1608bb62c": {
      "model_module": "@jupyter-widgets/controls",
      "model_module_version": "1.1.0",
      "model_name": "HBoxModel",
      "state": {
       "children": [
        "IPY_MODEL_4c39506994634b43b10158e0ae43f632",
        "IPY_MODEL_27c1d055cd1a4b4caabcafa6cb4ca822"
       ],
       "layout": "IPY_MODEL_b7d7a9ca07c0446c8b0ebac9026bb9a5"
      }
     },
     "5f64667f1245453f9d251f784a8562ff": {
      "model_module": "@jupyter-widgets/base",
      "model_module_version": "1.0.0",
      "model_name": "LayoutModel",
      "state": {}
     },
     "60da26c064c44a6ebf384c437077c584": {
      "model_module": "@jupyter-widgets/controls",
      "model_module_version": "1.1.0",
      "model_name": "HBoxModel",
      "state": {
       "children": [
        "IPY_MODEL_52e0189ce2a247b0bde33da00101b633",
        "IPY_MODEL_9aa3402a505b4d7baed5e324a5b6ffb4",
        "IPY_MODEL_8c8a227160f94a418eb52ed94ec9338a"
       ],
       "layout": "IPY_MODEL_b11ea15cca4d4d13b0509b955ed210bb"
      }
     },
     "638694628d164ae98f380fde763164ff": {
      "model_module": "@jupyter-widgets/output",
      "model_module_version": "1.0.0",
      "model_name": "OutputModel",
      "state": {
       "layout": "IPY_MODEL_ec798e1b19c2404aac90ecdfa0a9d0b7"
      }
     },
     "63c34c6cd27e441d820445a207101b0c": {
      "model_module": "@jupyter-widgets/controls",
      "model_module_version": "1.1.0",
      "model_name": "FloatSliderModel",
      "state": {
       "description": "Azimuth:",
       "layout": "IPY_MODEL_6622a0d3fbc64d88b3e6764312676081",
       "max": 180,
       "min": -180,
       "readout_format": ".1f",
       "step": 0.5,
       "style": "IPY_MODEL_263bba935d094a0395268dc49d70f213",
       "value": -38
      }
     },
     "63d3338e24284f55aa0743acd80a6435": {
      "model_module": "@jupyter-widgets/base",
      "model_module_version": "1.0.0",
      "model_name": "LayoutModel",
      "state": {
       "height": "80px",
       "width": "70%"
      }
     },
     "63ee4375f38c4159ada9e4d5c5f1b849": {
      "model_module": "@jupyter-widgets/controls",
      "model_module_version": "1.1.0",
      "model_name": "VBoxModel",
      "state": {
       "children": [
        "IPY_MODEL_d9e6b5678b764ba086a0e2bdd48a9e27",
        "IPY_MODEL_7d448c43244f4c658d0ccb292be03475"
       ],
       "layout": "IPY_MODEL_463832c50fa14bc18c1c4c6b23a1d7f7"
      }
     },
     "6416b1f2401243a0b56e2246e355a5f9": {
      "model_module": "@jupyter-widgets/controls",
      "model_module_version": "1.1.0",
      "model_name": "FloatSliderModel",
      "state": {
       "description": "Azimuth:",
       "layout": "IPY_MODEL_ae6160df156b4705aae41fc4ffc60a8e",
       "max": 180,
       "min": -180,
       "readout_format": ".1f",
       "step": 0.5,
       "style": "IPY_MODEL_bff08cc662a24273b659af65b30683e5"
      }
     },
     "64503097bf854de183e02b057d61936d": {
      "model_module": "@jupyter-widgets/base",
      "model_module_version": "1.0.0",
      "model_name": "LayoutModel",
      "state": {}
     },
     "6491925e325747248ede2192ecf09951": {
      "model_module": "@jupyter-widgets/base",
      "model_module_version": "1.0.0",
      "model_name": "LayoutModel",
      "state": {}
     },
     "6622a0d3fbc64d88b3e6764312676081": {
      "model_module": "@jupyter-widgets/base",
      "model_module_version": "1.0.0",
      "model_name": "LayoutModel",
      "state": {
       "height": "80px",
       "width": "70%"
      }
     },
     "6675aeca3d11473eab6be59e45c6312d": {
      "model_module": "@jupyter-widgets/controls",
      "model_module_version": "1.1.0",
      "model_name": "FloatSliderModel",
      "state": {
       "description": "Azimuth:",
       "layout": "IPY_MODEL_007d9ef099d94f8895c69f1b6296e106",
       "max": 180,
       "min": -180,
       "readout_format": ".1f",
       "step": 0.5,
       "style": "IPY_MODEL_be8aba9b1c9b4e529018657328b38691",
       "value": 60.5
      }
     },
     "6723664c18a748b6abdc54ea327639e1": {
      "model_module": "@jupyter-widgets/output",
      "model_module_version": "1.0.0",
      "model_name": "OutputModel",
      "state": {
       "layout": "IPY_MODEL_7d4527b972c8490e9f68e3bb0e43c274"
      }
     },
     "67fdf71f89124473a95f2b17612f5dd0": {
      "model_module": "@jupyter-widgets/controls",
      "model_module_version": "1.1.0",
      "model_name": "VBoxModel",
      "state": {
       "children": [
        "IPY_MODEL_1626f9999abf4f2e9cd16085e2993816",
        "IPY_MODEL_bdb1a09c2e4545ac9e72ecc66579f5bb"
       ],
       "layout": "IPY_MODEL_d9a7545366f54dc59c11735121f1f40d"
      }
     },
     "6c1e667411e44a66862a96ba9fbdb4ec": {
      "model_module": "@jupyter-widgets/base",
      "model_module_version": "1.0.0",
      "model_name": "LayoutModel",
      "state": {
       "height": "80px",
       "width": "70%"
      }
     },
     "6cbf99c3117a4731a0bb81eb44c4d725": {
      "model_module": "@jupyter-widgets/base",
      "model_module_version": "1.0.0",
      "model_name": "LayoutModel",
      "state": {}
     },
     "6ce35eee534645c2806eb038b97b9fc0": {
      "model_module": "@jupyter-widgets/base",
      "model_module_version": "1.0.0",
      "model_name": "LayoutModel",
      "state": {}
     },
     "6d4dbace65334cf8b2f470475c781ed3": {
      "model_module": "@jupyter-widgets/controls",
      "model_module_version": "1.1.0",
      "model_name": "VBoxModel",
      "state": {
       "children": [
        "IPY_MODEL_013c59a0c07542c8bb67644b1f9bf9d2",
        "IPY_MODEL_5bb2aafd6c524045ae231f10c2e7814c"
       ],
       "layout": "IPY_MODEL_844605b9c3df448583dca3d3714410d2"
      }
     },
     "6d66b7be363e45cabd7c311ef30b48a6": {
      "model_module": "@jupyter-widgets/base",
      "model_module_version": "1.0.0",
      "model_name": "LayoutModel",
      "state": {
       "height": "80px",
       "width": "70%"
      }
     },
     "6dab1276c8194163967e79df4ab05cf6": {
      "model_module": "@jupyter-widgets/base",
      "model_module_version": "1.0.0",
      "model_name": "LayoutModel",
      "state": {}
     },
     "7090fd00aff646d0be4e7f8ba629e416": {
      "model_module": "@jupyter-widgets/base",
      "model_module_version": "1.0.0",
      "model_name": "LayoutModel",
      "state": {}
     },
     "70c54a0fc9194d3285d2873e9609ec34": {
      "model_module": "@jupyter-widgets/base",
      "model_module_version": "1.0.0",
      "model_name": "LayoutModel",
      "state": {}
     },
     "71d0c5de60fe4b23aeaeb12dc0420adc": {
      "model_module": "@jupyter-widgets/controls",
      "model_module_version": "1.1.0",
      "model_name": "HBoxModel",
      "state": {
       "children": [
        "IPY_MODEL_83adca04f19f4078b1c95ea685063fd1",
        "IPY_MODEL_6416b1f2401243a0b56e2246e355a5f9",
        "IPY_MODEL_cf303e5a7e744e098d095ba9b94b9641"
       ],
       "layout": "IPY_MODEL_d0d91406f78c4e458730d127b06c3456"
      }
     },
     "7217ad3c9ced498ea9258c46f5a13a90": {
      "model_module": "@jupyter-widgets/controls",
      "model_module_version": "1.1.0",
      "model_name": "VBoxModel",
      "state": {
       "children": [
        "IPY_MODEL_6416b1f2401243a0b56e2246e355a5f9",
        "IPY_MODEL_de8a2c7518bb410bb88026e1ab283d60"
       ],
       "layout": "IPY_MODEL_24d5fe673cc840f59bc04a6987d4c281"
      }
     },
     "72b77a9b17384e1085095cffd8477fb6": {
      "model_module": "@jupyter-widgets/controls",
      "model_module_version": "1.1.0",
      "model_name": "VBoxModel",
      "state": {
       "children": [
        "IPY_MODEL_99ff9133358042ef91d60118b24fcc5d",
        "IPY_MODEL_758fc0d5db54487b8db2978ca605242f"
       ],
       "layout": "IPY_MODEL_7bf0e288dfd64b5ca91a324545aa2156"
      }
     },
     "731f12e9b9c846ecac62bc72f955b406": {
      "model_module": "@jupyter-widgets/base",
      "model_module_version": "1.0.0",
      "model_name": "LayoutModel",
      "state": {}
     },
     "732efa3764cc442b82d0eb5d07240730": {
      "model_module": "@jupyter-widgets/controls",
      "model_module_version": "1.1.0",
      "model_name": "FloatSliderModel",
      "state": {
       "description": "Elevation:",
       "layout": "IPY_MODEL_dd309461bd5d40baa71ec87fa86d097b",
       "max": 90,
       "min": -90,
       "orientation": "vertical",
       "readout_format": ".1f",
       "step": 0.5,
       "style": "IPY_MODEL_a7fe1c518f824f38add9ed814c89874e"
      }
     },
     "74834677d24349d8820913aff5aca34b": {
      "model_module": "@jupyter-widgets/controls",
      "model_module_version": "1.1.0",
      "model_name": "HBoxModel",
      "state": {
       "children": [
        "IPY_MODEL_0fe83c15286f447eb511cc50bc7c91ec",
        "IPY_MODEL_82bf42402b3641b6b3b9774c7be953c3"
       ],
       "layout": "IPY_MODEL_2888879599bb4724bb18f9bb34981d53"
      }
     },
     "74d913e5ca65406693f07fffa435b7aa": {
      "model_module": "@jupyter-widgets/controls",
      "model_module_version": "1.1.0",
      "model_name": "SliderStyleModel",
      "state": {
       "description_width": ""
      }
     },
     "758fc0d5db54487b8db2978ca605242f": {
      "model_module": "@jupyter-widgets/controls",
      "model_module_version": "1.1.0",
      "model_name": "HBoxModel",
      "state": {
       "children": [
        "IPY_MODEL_a49aee7fc80e4ee5a364c9fb56552785",
        "IPY_MODEL_baec817df0e945458607c866bc1d432e"
       ],
       "layout": "IPY_MODEL_78de87c22e3644bd807d95ae891958ec"
      }
     },
     "760b8ad5ceee42e9a4f2f54c00b974fb": {
      "model_module": "@jupyter-widgets/controls",
      "model_module_version": "1.1.0",
      "model_name": "HBoxModel",
      "state": {
       "children": [
        "IPY_MODEL_3906cdb8d8ae4d719829cf2c9ae5d39c",
        "IPY_MODEL_5add63d481ba43afa3113811f748b4d2"
       ],
       "layout": "IPY_MODEL_229cd02145be452fb5ffde25e6c94c86"
      }
     },
     "76b6dbca40d642c586b42865b696acd0": {
      "model_module": "@jupyter-widgets/base",
      "model_module_version": "1.0.0",
      "model_name": "LayoutModel",
      "state": {}
     },
     "76d2be01d85640b6ab991756b62f741c": {
      "model_module": "@jupyter-widgets/controls",
      "model_module_version": "1.1.0",
      "model_name": "FloatSliderModel",
      "state": {
       "description": "Elevation:",
       "layout": "IPY_MODEL_1e6ca353ca1049c4abdb033ba40be01a",
       "max": 90,
       "min": -90,
       "orientation": "vertical",
       "readout_format": ".1f",
       "step": 0.5,
       "style": "IPY_MODEL_c4800bee7d154a97b1d3b50fcdd9f3ba"
      }
     },
     "76d7bc84298f4e3598c9b01029a8ea96": {
      "model_module": "@jupyter-widgets/base",
      "model_module_version": "1.0.0",
      "model_name": "LayoutModel",
      "state": {}
     },
     "7713f29caa4748e28e41037e8ee8a668": {
      "model_module": "@jupyter-widgets/output",
      "model_module_version": "1.0.0",
      "model_name": "OutputModel",
      "state": {
       "layout": "IPY_MODEL_b2ded1653c7649a68d0c36554bc7e1e6",
       "outputs": [
        {
         "data": {
          "image/png": "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\n",
          "text/plain": "<matplotlib.figure.Figure at 0xd75c828>"
         },
         "metadata": {},
         "output_type": "display_data"
        }
       ]
      }
     },
     "77e7933e70474013bda2dd605431aa3f": {
      "model_module": "@jupyter-widgets/controls",
      "model_module_version": "1.1.0",
      "model_name": "SliderStyleModel",
      "state": {
       "description_width": ""
      }
     },
     "7891174a5e9c424b8721893dd32b7728": {
      "model_module": "@jupyter-widgets/base",
      "model_module_version": "1.0.0",
      "model_name": "LayoutModel",
      "state": {}
     },
     "78de87c22e3644bd807d95ae891958ec": {
      "model_module": "@jupyter-widgets/base",
      "model_module_version": "1.0.0",
      "model_name": "LayoutModel",
      "state": {}
     },
     "7a5becfd9d554ab989117b3110c2bdf6": {
      "model_module": "@jupyter-widgets/controls",
      "model_module_version": "1.1.0",
      "model_name": "VBoxModel",
      "state": {
       "children": [
        "IPY_MODEL_cc635bcd88364fecaf57de63f7ef37fb",
        "IPY_MODEL_41844fbf199447c29a807d654c748e91"
       ],
       "layout": "IPY_MODEL_1b1d8627406e4a019e43ad2ba298a682"
      }
     },
     "7be7e224892742159277a9a5428d3f05": {
      "model_module": "@jupyter-widgets/base",
      "model_module_version": "1.0.0",
      "model_name": "LayoutModel",
      "state": {}
     },
     "7bf0e288dfd64b5ca91a324545aa2156": {
      "model_module": "@jupyter-widgets/base",
      "model_module_version": "1.0.0",
      "model_name": "LayoutModel",
      "state": {}
     },
     "7d2fe2148f8c4a25a750f8363247a98a": {
      "model_module": "@jupyter-widgets/controls",
      "model_module_version": "1.1.0",
      "model_name": "FloatSliderModel",
      "state": {
       "description": "Elevation:",
       "layout": "IPY_MODEL_7d307a3acf7048e28aff838f791627df",
       "max": 90,
       "min": -90,
       "orientation": "vertical",
       "readout_format": ".1f",
       "step": 0.5,
       "style": "IPY_MODEL_c0967024580248079d5b50fdf941b861"
      }
     },
     "7d307a3acf7048e28aff838f791627df": {
      "model_module": "@jupyter-widgets/base",
      "model_module_version": "1.0.0",
      "model_name": "LayoutModel",
      "state": {}
     },
     "7d448c43244f4c658d0ccb292be03475": {
      "model_module": "@jupyter-widgets/controls",
      "model_module_version": "1.1.0",
      "model_name": "HBoxModel",
      "state": {
       "children": [
        "IPY_MODEL_7d2fe2148f8c4a25a750f8363247a98a",
        "IPY_MODEL_53d22e9bc51249249abb9eedab1b7065"
       ],
       "layout": "IPY_MODEL_b3060c6847ae4883a3b3eee255531417"
      }
     },
     "7d4527b972c8490e9f68e3bb0e43c274": {
      "model_module": "@jupyter-widgets/base",
      "model_module_version": "1.0.0",
      "model_name": "LayoutModel",
      "state": {}
     },
     "7d5f544e545843a69cef1e5094d35dcc": {
      "model_module": "@jupyter-widgets/controls",
      "model_module_version": "1.1.0",
      "model_name": "SliderStyleModel",
      "state": {
       "description_width": ""
      }
     },
     "7e684663d5e2435b9abf3dae7e619adb": {
      "model_module": "@jupyter-widgets/output",
      "model_module_version": "1.0.0",
      "model_name": "OutputModel",
      "state": {
       "layout": "IPY_MODEL_ffd124b38f2d4964ac4aeabe3cbd2370",
       "outputs": [
        {
         "ename": "AttributeError",
         "evalue": "'list' object has no attribute 'set_ydata'",
         "output_type": "error",
         "traceback": [
          "\u001b[1;31m---------------------------------------------------------------------------\u001b[0m",
          "\u001b[1;31mAttributeError\u001b[0m                            Traceback (most recent call last)",
          "\u001b[1;32mF:\\Anaconda3\\lib\\site-packages\\ipywidgets\\widgets\\interaction.py\u001b[0m in \u001b[0;36mobserver\u001b[1;34m(change)\u001b[0m\n\u001b[0;32m     72\u001b[0m         \u001b[1;32mwith\u001b[0m \u001b[0mout\u001b[0m\u001b[1;33m:\u001b[0m\u001b[1;33m\u001b[0m\u001b[0m\n\u001b[0;32m     73\u001b[0m             \u001b[0mclear_output\u001b[0m\u001b[1;33m(\u001b[0m\u001b[0mwait\u001b[0m\u001b[1;33m=\u001b[0m\u001b[1;32mTrue\u001b[0m\u001b[1;33m)\u001b[0m\u001b[1;33m\u001b[0m\u001b[0m\n\u001b[1;32m---> 74\u001b[1;33m             \u001b[0mf\u001b[0m\u001b[1;33m(\u001b[0m\u001b[1;33m**\u001b[0m\u001b[0mkwargs\u001b[0m\u001b[1;33m)\u001b[0m\u001b[1;33m\u001b[0m\u001b[0m\n\u001b[0m\u001b[0;32m     75\u001b[0m             \u001b[0mshow_inline_matplotlib_plots\u001b[0m\u001b[1;33m(\u001b[0m\u001b[1;33m)\u001b[0m\u001b[1;33m\u001b[0m\u001b[0m\n\u001b[0;32m     76\u001b[0m     \u001b[1;32mfor\u001b[0m \u001b[0mk\u001b[0m\u001b[1;33m,\u001b[0m\u001b[0mw\u001b[0m \u001b[1;32min\u001b[0m \u001b[0mcontrols\u001b[0m\u001b[1;33m.\u001b[0m\u001b[0mitems\u001b[0m\u001b[1;33m(\u001b[0m\u001b[1;33m)\u001b[0m\u001b[1;33m:\u001b[0m\u001b[1;33m\u001b[0m\u001b[0m\n",
          "\u001b[1;32m<ipython-input-120-1c783615e136>\u001b[0m in \u001b[0;36mOnSliderChanged\u001b[1;34m(angle1, angle2)\u001b[0m\n\u001b[0;32m     10\u001b[0m \u001b[1;32mdef\u001b[0m \u001b[0mOnSliderChanged\u001b[0m\u001b[1;33m(\u001b[0m\u001b[0mangle1\u001b[0m\u001b[1;33m,\u001b[0m\u001b[0mangle2\u001b[0m\u001b[1;33m)\u001b[0m\u001b[1;33m:\u001b[0m\u001b[1;33m\u001b[0m\u001b[0m\n\u001b[0;32m     11\u001b[0m     \u001b[0mcurrentIR\u001b[0m \u001b[1;33m=\u001b[0m \u001b[0mdaffHRIR\u001b[0m\u001b[1;33m.\u001b[0m\u001b[0mGetNearestNeighbourRecord\u001b[0m\u001b[1;33m(\u001b[0m\u001b[0mangle1\u001b[0m\u001b[1;33m,\u001b[0m\u001b[0mangle2\u001b[0m\u001b[1;33m)\u001b[0m\u001b[1;33m;\u001b[0m\u001b[1;33m\u001b[0m\u001b[0m\n\u001b[1;32m---> 12\u001b[1;33m     \u001b[0mline1\u001b[0m\u001b[1;33m.\u001b[0m\u001b[0mset_ydata\u001b[0m\u001b[1;33m(\u001b[0m\u001b[0mcurrentIR\u001b[0m\u001b[1;33m[\u001b[0m\u001b[1;36m0\u001b[0m\u001b[1;33m]\u001b[0m\u001b[1;33m)\u001b[0m\u001b[1;33m;\u001b[0m\u001b[1;33m\u001b[0m\u001b[0m\n\u001b[0m\u001b[0;32m     13\u001b[0m \u001b[1;33m\u001b[0m\u001b[0m\n\u001b[0;32m     14\u001b[0m \u001b[1;33m\u001b[0m\u001b[0m\n",
          "\u001b[1;31mAttributeError\u001b[0m: 'list' object has no attribute 'set_ydata'"
         ]
        }
       ]
      }
     },
     "8090984d13a64b879881f83dcae1fbd1": {
      "model_module": "@jupyter-widgets/base",
      "model_module_version": "1.0.0",
      "model_name": "LayoutModel",
      "state": {}
     },
     "81c34141184343a8bb65633c3395f4e4": {
      "model_module": "@jupyter-widgets/controls",
      "model_module_version": "1.1.0",
      "model_name": "VBoxModel",
      "state": {
       "children": [
        "IPY_MODEL_b6e8a1145beb4fdcaf31937335a8b8c2",
        "IPY_MODEL_0c19d1559831435384dedb309edb7ed2"
       ],
       "layout": "IPY_MODEL_7be7e224892742159277a9a5428d3f05"
      }
     },
     "82bf42402b3641b6b3b9774c7be953c3": {
      "model_module": "@jupyter-widgets/output",
      "model_module_version": "1.0.0",
      "model_name": "OutputModel",
      "state": {
       "layout": "IPY_MODEL_c9d65c3d800e44e3ac5d3fb1cfac72d0",
       "outputs": [
        {
         "data": {
          "image/png": "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\n",
          "text/plain": "<matplotlib.figure.Figure at 0x91cccf8>"
         },
         "metadata": {},
         "output_type": "display_data"
        }
       ]
      }
     },
     "83adca04f19f4078b1c95ea685063fd1": {
      "model_module": "@jupyter-widgets/controls",
      "model_module_version": "1.1.0",
      "model_name": "FloatSliderModel",
      "state": {
       "description": "Elevation:",
       "layout": "IPY_MODEL_f7e7030691794cc88bbeeb2fdb375e7b",
       "max": 90,
       "min": -90,
       "orientation": "vertical",
       "readout_format": ".1f",
       "step": 0.5,
       "style": "IPY_MODEL_5d9da383f0d5493e86ec33b9f083aa32"
      }
     },
     "83f4c12c99694b20834b753e97b9bb5b": {
      "model_module": "@jupyter-widgets/base",
      "model_module_version": "1.0.0",
      "model_name": "LayoutModel",
      "state": {}
     },
     "843806c73b59432db594adbfc09ca5c3": {
      "model_module": "@jupyter-widgets/controls",
      "model_module_version": "1.1.0",
      "model_name": "SliderStyleModel",
      "state": {
       "description_width": ""
      }
     },
     "844605b9c3df448583dca3d3714410d2": {
      "model_module": "@jupyter-widgets/base",
      "model_module_version": "1.0.0",
      "model_name": "LayoutModel",
      "state": {}
     },
     "845b07b809e948e79ba97b33fd0ee7d5": {
      "model_module": "@jupyter-widgets/controls",
      "model_module_version": "1.1.0",
      "model_name": "FloatSliderModel",
      "state": {
       "description": "Azimuth:",
       "layout": "IPY_MODEL_5bbadbfdb9274be2aa5dd6bfffd0937c",
       "max": 180,
       "min": -180,
       "readout_format": ".1f",
       "step": 0.5,
       "style": "IPY_MODEL_0b02d3e8a81d47d69c04e9b8e2065534",
       "value": -2
      }
     },
     "85c74899668844658ea8733dd382aa41": {
      "model_module": "@jupyter-widgets/base",
      "model_module_version": "1.0.0",
      "model_name": "LayoutModel",
      "state": {}
     },
     "867033ed4c834ff18e7064ea9b8df7a2": {
      "model_module": "@jupyter-widgets/controls",
      "model_module_version": "1.1.0",
      "model_name": "SliderStyleModel",
      "state": {
       "description_width": ""
      }
     },
     "871a900c24f143358c5925be5ea91eab": {
      "model_module": "@jupyter-widgets/controls",
      "model_module_version": "1.1.0",
      "model_name": "VBoxModel",
      "state": {
       "children": [
        "IPY_MODEL_63c34c6cd27e441d820445a207101b0c",
        "IPY_MODEL_3925523d895f4aa8ba002cdd3eb8cc02"
       ],
       "layout": "IPY_MODEL_5f64667f1245453f9d251f784a8562ff"
      }
     },
     "873868099ec54f95a0ea0bdbf5c2f356": {
      "model_module": "@jupyter-widgets/controls",
      "model_module_version": "1.1.0",
      "model_name": "SliderStyleModel",
      "state": {
       "description_width": ""
      }
     },
     "873cba93a6e6427dab8630fdf8b929ad": {
      "model_module": "@jupyter-widgets/controls",
      "model_module_version": "1.1.0",
      "model_name": "SliderStyleModel",
      "state": {
       "description_width": ""
      }
     },
     "881403b898604a518f4ebff42cfc46a1": {
      "model_module": "@jupyter-widgets/base",
      "model_module_version": "1.0.0",
      "model_name": "LayoutModel",
      "state": {
       "height": "80px",
       "width": "70%"
      }
     },
     "883d1a084e26430eb7052273f6aea36a": {
      "model_module": "@jupyter-widgets/base",
      "model_module_version": "1.0.0",
      "model_name": "LayoutModel",
      "state": {}
     },
     "889b97f48b1349c599cb0e6abeedd36d": {
      "model_module": "@jupyter-widgets/controls",
      "model_module_version": "1.1.0",
      "model_name": "VBoxModel",
      "state": {
       "children": [
        "IPY_MODEL_b426e8b9865244bc819ffe1226381811",
        "IPY_MODEL_1e91cbe851aa47b0ada5b2312010131b"
       ],
       "layout": "IPY_MODEL_e13d000bb0ce4771b8db93888a02a80d"
      }
     },
     "88f2f630de144d659c790c626b62e0fd": {
      "model_module": "@jupyter-widgets/base",
      "model_module_version": "1.0.0",
      "model_name": "LayoutModel",
      "state": {}
     },
     "8a7b5584abff43cfbe8df3669f1643fc": {
      "model_module": "@jupyter-widgets/base",
      "model_module_version": "1.0.0",
      "model_name": "LayoutModel",
      "state": {}
     },
     "8bcb7e5818f645789d47a7fdce6ce7ca": {
      "model_module": "@jupyter-widgets/controls",
      "model_module_version": "1.1.0",
      "model_name": "SliderStyleModel",
      "state": {
       "description_width": ""
      }
     },
     "8c8a227160f94a418eb52ed94ec9338a": {
      "model_module": "@jupyter-widgets/output",
      "model_module_version": "1.0.0",
      "model_name": "OutputModel",
      "state": {
       "layout": "IPY_MODEL_fe6d66aad7fc48318d4f2179991e037d"
      }
     },
     "8ceb72628bda467d8480293d2e3476cf": {
      "model_module": "@jupyter-widgets/base",
      "model_module_version": "1.0.0",
      "model_name": "LayoutModel",
      "state": {
       "height": "80px",
       "width": "70%"
      }
     },
     "8db3a0947c814b73894d77ce67390a12": {
      "model_module": "@jupyter-widgets/controls",
      "model_module_version": "1.1.0",
      "model_name": "SliderStyleModel",
      "state": {
       "description_width": ""
      }
     },
     "8de8477416974e7cafdca4c0b5ab082c": {
      "model_module": "@jupyter-widgets/output",
      "model_module_version": "1.0.0",
      "model_name": "OutputModel",
      "state": {
       "layout": "IPY_MODEL_4c797dada079401a9def0bee0804e10e",
       "outputs": [
        {
         "ename": "AttributeError",
         "evalue": "'list' object has no attribute 'set_ydata'",
         "output_type": "error",
         "traceback": [
          "\u001b[1;31m---------------------------------------------------------------------------\u001b[0m",
          "\u001b[1;31mAttributeError\u001b[0m                            Traceback (most recent call last)",
          "\u001b[1;32mF:\\Anaconda3\\lib\\site-packages\\ipywidgets\\widgets\\interaction.py\u001b[0m in \u001b[0;36mobserver\u001b[1;34m(change)\u001b[0m\n\u001b[0;32m     72\u001b[0m         \u001b[1;32mwith\u001b[0m \u001b[0mout\u001b[0m\u001b[1;33m:\u001b[0m\u001b[1;33m\u001b[0m\u001b[0m\n\u001b[0;32m     73\u001b[0m             \u001b[0mclear_output\u001b[0m\u001b[1;33m(\u001b[0m\u001b[0mwait\u001b[0m\u001b[1;33m=\u001b[0m\u001b[1;32mTrue\u001b[0m\u001b[1;33m)\u001b[0m\u001b[1;33m\u001b[0m\u001b[0m\n\u001b[1;32m---> 74\u001b[1;33m             \u001b[0mf\u001b[0m\u001b[1;33m(\u001b[0m\u001b[1;33m**\u001b[0m\u001b[0mkwargs\u001b[0m\u001b[1;33m)\u001b[0m\u001b[1;33m\u001b[0m\u001b[0m\n\u001b[0m\u001b[0;32m     75\u001b[0m             \u001b[0mshow_inline_matplotlib_plots\u001b[0m\u001b[1;33m(\u001b[0m\u001b[1;33m)\u001b[0m\u001b[1;33m\u001b[0m\u001b[0m\n\u001b[0;32m     76\u001b[0m     \u001b[1;32mfor\u001b[0m \u001b[0mk\u001b[0m\u001b[1;33m,\u001b[0m\u001b[0mw\u001b[0m \u001b[1;32min\u001b[0m \u001b[0mcontrols\u001b[0m\u001b[1;33m.\u001b[0m\u001b[0mitems\u001b[0m\u001b[1;33m(\u001b[0m\u001b[1;33m)\u001b[0m\u001b[1;33m:\u001b[0m\u001b[1;33m\u001b[0m\u001b[0m\n",
          "\u001b[1;32m<ipython-input-119-0fdac82011ab>\u001b[0m in \u001b[0;36mOnSliderChanged\u001b[1;34m(angle1, angle2)\u001b[0m\n\u001b[0;32m     10\u001b[0m \u001b[1;32mdef\u001b[0m \u001b[0mOnSliderChanged\u001b[0m\u001b[1;33m(\u001b[0m\u001b[0mangle1\u001b[0m\u001b[1;33m,\u001b[0m\u001b[0mangle2\u001b[0m\u001b[1;33m)\u001b[0m\u001b[1;33m:\u001b[0m\u001b[1;33m\u001b[0m\u001b[0m\n\u001b[0;32m     11\u001b[0m     \u001b[0mcurrentIR\u001b[0m \u001b[1;33m=\u001b[0m \u001b[0mdaffHRIR\u001b[0m\u001b[1;33m.\u001b[0m\u001b[0mGetNearestNeighbourRecord\u001b[0m\u001b[1;33m(\u001b[0m\u001b[0mangle1\u001b[0m\u001b[1;33m,\u001b[0m\u001b[0mangle2\u001b[0m\u001b[1;33m)\u001b[0m\u001b[1;33m;\u001b[0m\u001b[1;33m\u001b[0m\u001b[0m\n\u001b[1;32m---> 12\u001b[1;33m     \u001b[0mline1\u001b[0m\u001b[1;33m.\u001b[0m\u001b[0mset_ydata\u001b[0m\u001b[1;33m(\u001b[0m\u001b[0mcurrentIR\u001b[0m\u001b[1;33m[\u001b[0m\u001b[1;36m0\u001b[0m\u001b[1;33m]\u001b[0m\u001b[1;33m)\u001b[0m\u001b[1;33m\u001b[0m\u001b[0m\n\u001b[0m\u001b[0;32m     13\u001b[0m \u001b[1;33m\u001b[0m\u001b[0m\n\u001b[0;32m     14\u001b[0m \u001b[1;33m\u001b[0m\u001b[0m\n",
          "\u001b[1;31mAttributeError\u001b[0m: 'list' object has no attribute 'set_ydata'"
         ]
        }
       ]
      }
     },
     "90745324dfe84f7cb9a1c6e96905351f": {
      "model_module": "@jupyter-widgets/controls",
      "model_module_version": "1.1.0",
      "model_name": "FloatSliderModel",
      "state": {
       "description": "Azimuth:",
       "layout": "IPY_MODEL_05a613ef37b04de689003fef0f4a5111",
       "max": 180,
       "min": -180,
       "readout_format": ".1f",
       "step": 0.5,
       "style": "IPY_MODEL_bfb8ebb9e0ae41aba5b2760636fcf193"
      }
     },
     "9089a5b7312e4f238ed6568de20cf42e": {
      "model_module": "@jupyter-widgets/base",
      "model_module_version": "1.0.0",
      "model_name": "LayoutModel",
      "state": {}
     },
     "9143ded5fc26473aa0e10503714aab13": {
      "model_module": "@jupyter-widgets/base",
      "model_module_version": "1.0.0",
      "model_name": "LayoutModel",
      "state": {}
     },
     "92ec9f6676b843fa90b77dd449dccf2a": {
      "model_module": "@jupyter-widgets/base",
      "model_module_version": "1.0.0",
      "model_name": "LayoutModel",
      "state": {}
     },
     "9603524871124c53a8e533785ecf2fd2": {
      "model_module": "@jupyter-widgets/base",
      "model_module_version": "1.0.0",
      "model_name": "LayoutModel",
      "state": {
       "height": "80px",
       "width": "70%"
      }
     },
     "970a0baa7f0041a889ec43c32bcf4b8c": {
      "model_module": "@jupyter-widgets/controls",
      "model_module_version": "1.1.0",
      "model_name": "SliderStyleModel",
      "state": {
       "description_width": ""
      }
     },
     "9813ca27255e4c2c8cbe9604083118ed": {
      "model_module": "@jupyter-widgets/base",
      "model_module_version": "1.0.0",
      "model_name": "LayoutModel",
      "state": {}
     },
     "992d6f8db29d46669922a826e3576376": {
      "model_module": "@jupyter-widgets/base",
      "model_module_version": "1.0.0",
      "model_name": "LayoutModel",
      "state": {}
     },
     "99ff9133358042ef91d60118b24fcc5d": {
      "model_module": "@jupyter-widgets/controls",
      "model_module_version": "1.1.0",
      "model_name": "FloatSliderModel",
      "state": {
       "description": "Azimuth:",
       "layout": "IPY_MODEL_881403b898604a518f4ebff42cfc46a1",
       "max": 180,
       "min": -180,
       "readout_format": ".1f",
       "step": 0.5,
       "style": "IPY_MODEL_004f5999280e496ab9f8dede7edb2575",
       "value": -68.5
      }
     },
     "9a4498c8005649e5bc97528eed53c6c1": {
      "model_module": "@jupyter-widgets/controls",
      "model_module_version": "1.1.0",
      "model_name": "FloatSliderModel",
      "state": {
       "description": "Azimuth:",
       "layout": "IPY_MODEL_c6af09eadb244081849b0adf5051865c",
       "max": 180,
       "min": -180,
       "readout_format": ".1f",
       "step": 0.5,
       "style": "IPY_MODEL_008498f74d494f318a29d34a779c54ac",
       "value": 72.5
      }
     },
     "9aa3402a505b4d7baed5e324a5b6ffb4": {
      "model_module": "@jupyter-widgets/controls",
      "model_module_version": "1.1.0",
      "model_name": "FloatSliderModel",
      "state": {
       "description": "Azimuth:",
       "layout": "IPY_MODEL_c6628b67896f4dd2b24023b64fd20d1b",
       "max": 180,
       "min": -180,
       "readout_format": ".1f",
       "step": 0.5,
       "style": "IPY_MODEL_867033ed4c834ff18e7064ea9b8df7a2"
      }
     },
     "9b0bcb1476914ca49ec6ac856e9cfaa9": {
      "model_module": "@jupyter-widgets/controls",
      "model_module_version": "1.1.0",
      "model_name": "VBoxModel",
      "state": {
       "children": [
        "IPY_MODEL_b0c1a567bbc941cb851c3621c4478127",
        "IPY_MODEL_760b8ad5ceee42e9a4f2f54c00b974fb"
       ],
       "layout": "IPY_MODEL_8a7b5584abff43cfbe8df3669f1643fc"
      }
     },
     "9befcfcaf0e342d0960797ee700733ff": {
      "model_module": "@jupyter-widgets/base",
      "model_module_version": "1.0.0",
      "model_name": "LayoutModel",
      "state": {
       "height": "80px",
       "width": "70%"
      }
     },
     "9c19d1817ba3460e8d97eaf8cae8956e": {
      "model_module": "@jupyter-widgets/controls",
      "model_module_version": "1.1.0",
      "model_name": "HBoxModel",
      "state": {
       "children": [
        "IPY_MODEL_e20a8bd51d85441397aca0d2b9f93ca1",
        "IPY_MODEL_013c59a0c07542c8bb67644b1f9bf9d2",
        "IPY_MODEL_2132b3ba574d419fb1b76a333a964cea"
       ],
       "layout": "IPY_MODEL_268505bd71744cdebfca6ffd66cc408d"
      }
     },
     "9cd46042f5024debb1c955d8c5508137": {
      "model_module": "@jupyter-widgets/base",
      "model_module_version": "1.0.0",
      "model_name": "LayoutModel",
      "state": {}
     },
     "9d3a5649370d4cd3bfb51eac52ac8235": {
      "model_module": "@jupyter-widgets/controls",
      "model_module_version": "1.1.0",
      "model_name": "VBoxModel",
      "state": {
       "children": [
        "IPY_MODEL_4e0cf84075a74feebe1ca31a8f1fdea1",
        "IPY_MODEL_74834677d24349d8820913aff5aca34b"
       ],
       "layout": "IPY_MODEL_04d9f8d6bbc1446ca7f8bd4385f45cdf"
      }
     },
     "9da16eb60f33477cacc60ae4b8941e7e": {
      "model_module": "@jupyter-widgets/base",
      "model_module_version": "1.0.0",
      "model_name": "LayoutModel",
      "state": {}
     },
     "a00a943e27404e95bb564a8485f2ed90": {
      "model_module": "@jupyter-widgets/base",
      "model_module_version": "1.0.0",
      "model_name": "LayoutModel",
      "state": {}
     },
     "a0e2a34261dc42e48e7c9b2c1bb62869": {
      "model_module": "@jupyter-widgets/output",
      "model_module_version": "1.0.0",
      "model_name": "OutputModel",
      "state": {
       "layout": "IPY_MODEL_9143ded5fc26473aa0e10503714aab13",
       "outputs": [
        {
         "data": {
          "image/png": "iVBORw0KGgoAAAANSUhEUgAAAYYAAAD8CAYAAABzTgP2AAAABHNCSVQICAgIfAhkiAAAAAlwSFlzAAALEgAACxIB0t1+/AAAADl0RVh0U29mdHdhcmUAbWF0cGxvdGxpYiB2ZXJzaW9uIDIuMS4yLCBodHRwOi8vbWF0cGxvdGxpYi5vcmcvNQv5yAAAIABJREFUeJzt3Xl8VNX5+PHPMzPZE0hCgLBFFkHBDTWCiqLibqti1Yq7X/VHbcXlq/Yr1latXVxqa22rrVRxV1SshSouqGBdAAnKjuxbCJBAICH7ZOb8/jh3kpkwCYSZITPwvF+ved11Zs6dSe4z5znnnivGGJRSSqkAV0cXQCmlVHzRwKCUUiqEBgallFIhNDAopZQKoYFBKaVUCA0MSimlQmhgUEopFUIDg1JKqRAaGJRSSoXwdHQB9kVeXp7p27dvRxdDKaUSyrx587YZY7ruab+EDAx9+/alqKioo4uhlFIJRUTW781+mkpSSikVQgODUkqpEBoYlFJKhdDAoJRSKoQGBqWUUiE0MCillAqhgUEppVQIDQzRVjwPVk7v6FIopdQ+S8gL3OLW0inw1nV2/qGKji2LUkrtI60xRNPMR+3Uk9qx5VBKqQhoYIgmb42dulM6thxKKRUBDQzR5Gu008baji2HUkpFQANDNPkamqeVm+GFC6CqtGPLpJRS7aSBIZr83ub54m9g/VewdUnHlUcppfaBBoZo8jWCuO18TbmzrqHjyqOUUvtAA0M0+b2QkmXna53A0FjfceVRSql9oIEhmnxeSOlk57XGoJRKUBoYosUYML6gGsMOO9Uag1IqwWhgiBaf0/CcGqgxbHfWa2BQSiUWDQzREkgZBWoMgVRSo6aSlFKJRQNDtAS6qiZn2mmg8VlrDEqpBBOVwCAi54nIchFZJSLjw2y/QUTKRGS+87g5aNv1IrLSeVwfjfJ0iMBVz1pjUEoluIhHVxURN/A0cDZQDMwVkanGmKUtdn3TGDOuxXNzgQeBQsAA85zn7oi0XPtdoMbQsvFZawxKqQQTjRrDMGCVMWaNMaYBmARcvJfPPReYbowpd4LBdOC8KJRp/ws0Pge6q2LsRHslKaUSTDQCQy9gY9BysbOupUtFZKGITBaRPu18LiIyVkSKRKSorKwsCsWOMn+LVFKABgalVIKJRmCQMOtMi+X/AH2NMUcDnwAvteO5dqUxE4wxhcaYwq5du+5zYWOmZXfVpvUaGJRSiSUagaEY6BO03BsoCd7BGLPdGBM4Q/4TOH5vn5swAt1VA72SArTxWSmVYKIRGOYCA0Wkn4gkA2OAqcE7iEiPoMWLgGXO/EfAOSKSIyI5wDnOusQTaHz2pIIrqXm91hiUUgkm4l5JxphGERmHPaG7gYnGmCUi8jBQZIyZCtwuIhcBjUA5cIPz3HIR+Q02uAA8bIwpj7RMHSLQXdXtgaQ0qHcChbYxKKUSTMSBAcAYMw2Y1mLdA0Hz9wH3tfLcicDEaJSjQwVqDK4k8KRAIB7oIHpKqQSjVz5HS6Dx2Z0EnrTm9VpjUEolGA0M0RLorupOhqTU5vVaY1BKJRgNDNESCAAuj22ADtAag1IqwWhgiJbgVFJSUCpJawxKqQSjgSFaAqkkV5LWGJRSCU0DQ7Q01Rg8zTUGT6oGBqVUwtHAEC0h3VWdGkNqtl7gppRKOBoYoiWku6oTGNJytMaglEo4GhiiJVx31bRsbXxWSiUcDQzREtJd1WljSM3WGoNSKuFoYIiWkO6qQakk4wO/r+PKpZRS7aSBIVpCuqs6NYa0bDvVWoNSKoFoYIiWQI3B5Yb0XJtSSs91tmlgUEoljqiMrqqw3VVdSSACQ6+CXsdDybd2m96sRymVQLTGEC0+r21fAEjOgF7HgTvF2aY1BqVU4tDAEC3BgSEgcD2DtjEopRKIBoZoCaSSgnmS7VQDg1IqgWhgiJZwNQZNJSmlEpAGhmjxN7ZRY9DGZ6VU4ohKYBCR80RkuYisEpHxYbbfJSJLRWShiHwqIocEbfOJyHznMTUa5ekQPq8dWTWY1hiUUgko4sAgIm7gaeB8YAhwpYgMabHbd0ChMeZoYDLweNC2WmPMUOdxUaTl6TBh2xicwNCyxuD3w3evQvX2/VM2pZRqh2jUGIYBq4wxa4wxDcAk4OLgHYwxM4wxNc7ibKB3FN43vvgaw7QxOKmkljWGb1+EKbfCnH/sl6IppVR7RCMw9AI2Bi0XO+tacxPwQdByqogUichsERnd2pNEZKyzX1FZWVlkJY4FX0OY7qqBGkNQYGiogZmP2XkRO922ElbPiH0ZlVJqL0TjymcJs86E3VHkGqAQOC1odYExpkRE+gOficgiY8zq3V7QmAnABIDCwsKwr9+hwqWSmmoMQamkDV9D1RY7X1cJS96Ft2+wyw/ubA4WSinVQaJRYygG+gQt9wZKWu4kImcB9wMXGWOafkIbY0qc6RpgJnBsFMq0/4VLJYWrMXjrmudrd8Dc54Newxu78iml1F6KRmCYCwwUkX4ikgyMAUJ6F4nIscCz2KBQGrQ+R0RSnPk8YASwNApl2v/8XjtwXjB3mMAQuAWoO9kGhuptzdsag4KGUkp1kIhTScaYRhEZB3wEuIGJxpglIvIwUGSMmQr8AcgE3habKtng9EAaDDwrIn5skHrUGJOYgcHnhZSs0HWB7qsm6H4MPmd47oyuULcTaoICg97tTSkVB6IyuqoxZhowrcW6B4Lmz2rleV8DR0WjDB0uXBuDOBUy4w/dDyAjD2q2Q005ZHaHqq1aY1BKxQW98jlafI27X+AWNjAE1Rh2brC1iU497TodU0kpFQc0MESLr6G5F1JAuMAQaGDO6NacOurk9O7VwKCUigMaGKKlrVRS8D2fAzWGzK7N6zo71/tpKkkpFQf0Dm7REjaV5LZTE3TZRVONISgwOKkk01jP1Pmb2Fhew3lH5rOqtIqvV2/n4YuPjGHBlVIqlAaGaGl343O35nVOKmlreQV3vDkfgBe+WkdNg49ar4+fn3sYWaktXlsppWJEU0nREu5+DIGrmEPaGAKNz3nN65zAUF6xC4Dfjj4SnzHUNdoU1KrSqpgUWSmlwtHAEC3h7scgAkgrNQYnlZTSuen6h4oqGwBGHJrHe7edwss3DgNg5dYq2DA7tK1CKaViRANDtPgadm9jAJtOatkryeWBtBy7nNGl6d7Qu5zAkN8pld456Zw8II9kj4vSjcth4rmw9N+hr7NlcayORil1ENPAEC0+7+7dVWH3wBBoiwgEhvS8pju9VVVXkZ2eRFqybbR2u4QBXTMpK3UG3Stb3vw6C9+Cf4yAZf+JxdEopQ5iGhiiwe8DzO6pJHACQ4shMdxJkJxhaw4ZeU01hpqaGvI7pYY8fWC3TMrKd9qF8rXNGzYvsNOpt0NVHA5DrpRKWBoYoiFwoVrLxmcAlztMjcFj2x+yetprGJyaRm1tDT06hwaGQd0z2VVlG6UpX9O8oWyZrXXUlsOqT6J5NEqpg5wGhmiod07cLQfRA6fG0OI6hkAAufZdOP2+phpDXV0t+Z3TYPPCplFXC7pkkIoTeHYE1RhKv4dDz7avH7xeKaUipIEhGuoq7TSl0+7bdmtjCOq9lHcopOc23bfB11BrU0mvjIYvnwQgK9XTHBhqtkNdhR14r7oUehxtaxzBNQmllIqQXuAWDfVOYEgNFxhk915Ju10hLRhXMil4ycvy2ABQbdsNslI8pErQcNzla6Gh2s53HQy5/TUwKKWiSmsM0VDf3hrD7vHY504hmUZ6pTlBwKmFZKQE1RjABoGyZXa+2+GQ2x9TvobrJn7DA1P20H3V74NFk/V6CKVUmzQwRENTKqmVNoaQQfTCDJ0BNLqSSaGBXmnOCKtOsMkMFxhKl2FSslhQkQG5/ZHaHSxYsZY3vtlA2a42Rmhd+zm8cxOs+LC9R6iUOohoYIiGNlNJLS9wCzPYHtCAh2RpJD/ZObHXVQAt2hg69YItC6HkO8oyD+fiZ75mRlkmAGd1r8brM7xVtLH1clZsAmDhrI/5v8kL+P20ZcxcXooJbhxXSh30NDAE+H3Nufv2arPxOVx31d1rDHUmiewkPyneypDXzEjxkCYN+MQDBSfaoTG2LGZN0iAAHpltA8n9J6dxUv8uvDZ7PV6ff7fXBzC77IVydWtnMXN5GS9+tY4bXpjLJc98TVV9474c+e784d9bKZU4NDAEfPEn+Nuw5q6lU8bBio/sfMUmmPH75hvprPgI1n3Z/Nym7qp7U2MIM9geUOPzkJ3st/eBBqi3NYYkt4sMlxevKwV6D7O3APXVs8gMID3ZTYl0xyDk1q7n5lP7UVJRx3sLS8Ie4ubidQAc617HN/eOZPGvz+XRS45kcXE5D01dslcfU5uWfwiPFkBVaeSvpZTqMFEJDCJynogsF5FVIjI+zPYUEXnT2T5HRPoGbbvPWb9cRM6NRnn2yZoZUFkMlSU2EHz3CnwzwW5b/A58/ph9AHz8S5j+YPNz6yshKb2NsZKCUjXhBtsDqn1uOiX5oTYQGHY1/frOcjfilRToc0LT/l/XFjC8Xy6zHvgh0vVwKJ7LGe5F3Jc9nb/PXI3fv3t6aGfpBgCSTD1sWUSyx8UY92csyLydD+at5Ju15c07L/4XTLo6tOxrZjZfTFdXCS9fDH85zn4+AEunQMMuWP1Z83M2fRu6fCAzBr59GbYuDb99/hvw3l2w6tPw25dOgWdHQuXmtt9jX1Vvs9+HUnsQcWAQETfwNHA+MAS4UkSGtNjtJmCHMeZQ4EngMee5Q4AxwBHAecAzzuvFljGwfTWUzLcpJF8jlHxnt21bDsXf2Pl1X4G3DravsstfPmkvLNu1BbYsgsZAD6KK8LUFaKXGEBpAKmq9VPs9ZLkbm9oWMH5osIPqZbi91EsKdD8KPKmYtFzmVmRRkJtu79NQMBw2zsU142FubniN1VsrmLE89Fe7MQZTuZlNSYfYFcVz7XT5B2R4y7kkdR6vz1lv1+3aCu/dCd+/B6VODyi/H/59K0y+0QaFVZ/YQFFZAvNft5/p2s/tvmtm2mnRC/DcWfDGlc1punVfNafelvwbXrkE6ndR2+DD1OyAemeI8Y3fwDMnwYTTYdO8pmNotUeVMfakt+qT5pshFc+Duc+zaUc1Hy7ewvaqFg3zlZvhXz+BBZOan9OC39uACbzntpXwzv9r/cT99V9h6m32swuUKTCMSWMDfHgvFE2E1y63f3+N9c3Hu2urHd5k8wKqptxNnddnPyevc1e/6u3w+hXw2+7w7Svh3/+713YLOsYY5q4r56t539E4YZT9PpzAVef1sWLrLtthoaIYpj8AS95t/oxXf2ZfE2ynh2dHQtFEjDH4/MbWDAP7Lp2K+eBeSme9zncbduCr3gGznm7+rL59Bf45CnasC1/2imJ48YewYBJV1dUsn/MRS+d8bD+H2p3wnztgZZgr/L118Oa18MZVzcPERMKYkB9lYQX+R/dG+VqY/Y/m1/vwFzD3udb39/ua/z8AFr7dPFhm6TJ4+4bQoXFiJBrXMQwDVhlj1gCIyCTgYiD4Z9PFwEPO/GTgbyIizvpJxph6YK2IrHJeb1YUyrWbyq3rcVVvIa2hHPekMQCsP+VxUg4pJN9bA8CaZd/SkzJSARprWT//Mwq2rUSyesCuzdStnEGq09hcsmIeuQOH2eXUTtR5fRgDacluquobWVpSyQkiiPGzuqyKeet2cF5NLVmpnZGgcm3YXkOD8ZDubmxOJYGtiaR2IkMaqCfZDrbX7zQa3GlUzfdR0CXD7ldwEsx7ETYvwA0M77SDf3y+mjMHd296qeVbd5Hj3059t1Ng+07YtsL+EW6YDcCNmbM5b/FIHqxuoPL1O+hdX40b7Em++xB2rvqa7MpiAJ5/6kHG9KshIzUbjhhtu8CWLYfKTeBJgzWf25Pe9AftBXg719uTTOkymPE7OOwHMPIeePcn0FjHS4/fzm+rR/PftLvJpoq5aadyfOO3pKWm4PfWs+2Ncdztv52fVf2Nw9ybeGfY2xzerzfDiu6mob6Ob3IvxL19BaOKn7EHO/QaOOoy/JOuwuWtYY7vX/zSeyPjk97korQFZPY9ntqzHsG8eQ2dti+EhZNY894f2JHejzxXNat7XMD75lTSVk/jf+v/zjL68XL+fTxRNZ5O1evYVVXJohFPk/zFI2RtnsW/ZRQ7s4/k91sfoD6tO6kb5/Dky5MZWD6DH+58ldnDn6ZXbjp96iooPeMJ8r74Jd7XryZ55xrEVw+n30ftxgUkNdTwoedsfrj6fV74zTVclvQ1vpQc3jz8Lwxc8xKn7fyYrZKH+/3f8vq2Qs6veJP8tf/irz0eI7WulJ9vuh2AVUfcwa7BY8j+769IK1vIxw1nMcY9gxqpQFxplL38U37f+SFOL36Gxb4CJpszeK/THzi8zt4kan7vq9lQVsFF9e8BsKRoBoMrv8a1axO+9+/hfz+q5Pi6r7je/TEN7kwaBo8mc/GrePHQjUbebryIfp4ZZLOLtV++xfNdx/PL9feQaurY8tSZvDngUa7zvoU3I5/ZvW+i2t2ZH3w3lk5bv4F1X5DJTzjM+bv9cNpwTkgtoUv9RvwLJvHtGa+xxteNnHXT8NSW0aeiiENr5lMlmbhWzOA3BRM52bWYUzc+y1bpSoWnC7nuGqrSevJi53Fsq6jm7spHqEnK5eP8n9CvcTWjyl5he0Z/ZuZcxuhNf6Jf1bdUpvVm2rHPkl2xlOFr/srSvPP5steNnFHyHCdseJ75JzzGxh7nUjjnTlLqSvm+79Ws6zqKo1Y+Q0HpDIoKbmR9/jlcOu86sqtW8XmxH5NdwOmzn8YvbmZU9sEnbk6cdzdGPBQd+UvSOuUytOhekqtKWPbj/5JcW8qgf/0/6nIPZ+2lH9L9mxfIXfYfGs55jJTIToV7JJH2SBGRy4DzjDE3O8vXAsONMeOC9lns7FPsLK8GhmODxWxjzKvO+ueBD4wxk8O8z1hgLEBBQcHx69evb3dZv3/kVEztDmb7h3CFeyblZLHc34eP/YU8lvRPGo2LSb4zGOzaQCoNDJRiJvou4FLPFyxJGcrIus95138Kl7q/AOAX3puYLGfzn85PkOqv4YLqB6n1+uiSmUJlrZf6Rj9fpN7F1qwjuWrHzTQ0+pmWfB8Vyfk8mvMglwztybUn9WXaos2kT76Kk/MbSetzHHz7ki3wT2dB9yF8+8hZdPbvZMD9ReDz8t3GnVzyj2947rpCzhrS3f6C+MvQpuOcedRj3DC3D2/fchIn9M0F4M/Tv+fWL0+mYdjPyCj52g7id87v4NlT7YVyZcsYUfcUR6SUMkF+x5PeS7mh01xyeg+m5vLXee/xGxjt/YAtmYeTUb0REDIHjSTl6NG2FjH0apj/Goy4A756Cu+ZD5P06QM81vlX3F71FLtIo5tvK1tTCuhev4FGSaY2OZc5tb0Y6VrI/D7XMmzjRBakFNK/YRkufyOXe3/NEbKGPyRNoBE3PlcKHn8drzeOosTkcW/SJLaYHPJlB17j5jP/saw33RnreR+A1aYnH/uH8VP3v/EmZ5PUsJPPfEMZ6VqIR+wvuJ96/5e+uSn8tOoZxDRS7s/kEFcp6+hJX0rYkdqbnLpifLgwBqb5h3ORexZPNV7COPe/qXZl0snsYrWrHz18JZzb8CgfJ9/LOunNINaBMWwhl+X+PhznWskJ9X/nbs9b3OJ5j/9yLEmeJE5qtDXUR71j+K7X1Tzqepp+Wz6klBxSTR11pNBZapiTfjorsk/h5pIH+Mx3LKPctpa7XnrhFoPHX89s32GMdn/NRn9XcqWSLUl9GNC4Cr8riX8d+Qxb1ixkXNVfqSGNdGoB2JWUR5Z3G7/0/g+DZQNXe2ytY1a3K3BVFjO87itW+3vwC+/N/D7pOfq5tuDC8EXqGZjqbYx0L2KufxC/znqQV+QhcqpWsi51MB/WDeEW3qGaNDz4eSH/fq4p+yOZvgoajQuDUGzymOYfzq2eqfzcO5bOST6G5wvdBxxD57JvyV/5Bit9+TzTeBG/SHqdLlRSQQb5sgOACjJ5Je0almcM44ltP6UBD1lUs0QGkub2kWwa2O5L5xhW8Kn7VLq5qziiYQE+XLiwfwNbTS6d2UWaNODCMKHxB1zhnkEqDaRII5UmnU5Sw2T/aVzm+pydJoMsalhoBnCsaxXr/N0pkFI+8w/lLPd3bDa5ZFLLHP/hTcte46aEPA6TjdSTRLVJZRudOVw24MPFUv8h9JTtdJZqusguHvdewaGuTfzIbdsyb2sYx6+SXmWBfwD9bpvKod0y233+AxCRecaYwj3tF40ag4RZ1zLatLbP3jzXrjRmAjABoLCwcJ+imWvwDxg0/xEKUmoozTgWX+6hnL7+bfp3y6e+LIvaTgO40FVO5vZ1fNfzCirqV3Jtzbdk1OxkU3J/avyLGJW0EWzlgpv778Dk9KJuwU7KJZ1zj8inT246WyvryEzxcGSvziS972F7VS2nDerKvecdTteXPVR4Pfj8fh76z1Jem7OBZI+LcSSRYmp3rzEAaeKl1jjtEu4kNuy0KayCLul2XU5fyMyH5HTYsZ4RWaXkZgzgb5+t4qUbh+H3Gz79dil3io+kvD5QPxDW/hfWf22f/4Mn4MUf8NoJa0j//h12Jh1CSZ9beG9JBVet/YK3/vM+F3pnUtXndAp++BD+f56Fy1fHi+WDyNh2CJcDzH8N03UwMvwWzJwJuD79NZUmjX9XDWFQw9Fc4v6SeZ6h3O4bzwT3w1R4hTsrfsbIgV0YVX47wzZOhLzDOOZn08H4WbimmBO/r+GoHufTMH8xyZm5eM5/HL56imu/eRaADd3PZNlJfyJ70XhSS+dz9JUvsGZ5LR/Mz2KnK5uth/6YS08aDBvOJWnaz+GCJ+jU7VKmzPuYnhXfkT7kXP543EjSkz3guweMH4/PTe3sZ+g76wk48RfknHoXFE3EVfIda/tfTX19L7bNvYU7yt7Fn5RBp3Fz4OWLGLB9FbXH3cw/TrgU74oqDp/3DJLUD+85v6fnW9fQS+azpuBSnjiukFSG8vnWS5hePZDKXRUM3HQLJjWHy656lPH5OeA/BRZPJrf3cOqqdtL1vZ8i21cy8qZHGZnTF/4xiTO2L6Gi70XI0Ks4ZPo9YAzmwn9wWv7JVL98AX22LWDr+c8z4PgLYfoDuA4ZwWVDLgJzOSw5jvSv/gwj7gRvLVmrplOfnMMJBXfh99ZTs+o3pB82ipOOvx58XlYvKWLK5hzOSE1C+l+Fa/FTUF/FqRc+xbKt1Xz8zVSyBo7g34f3xbPrGFgzg77HXMktLg9M70VG9TY4+sfcMuAMKD0H35Tb+LbnVZCWywlf/A+3uqayteAHXDLy/zjukFxSkwLZ5OvAPEm3qnrOXrWNJQ2XMXzRQ+RVr8c3ehLu3sfT2Z1E0y/Qb8pJ+ey3MOoJjii8CVw2U94b4JOHOPPLJ8EkwYV/xtX3FFjwBnhr6Xn6eNv+MvU2GHg21w8fR/3qr3HP/iPeIy4lfchFmJcu4LLSL2kccB5bRzyOKfojx3z/JpVH3EjyKb/AvHIaZ+36joajr6HziLtIe+4UzvQtovKUX+PuMpj8KVdT4C9j03E/p77HCfT/4BoG+Dezc+Sv8XhrOGWWbb9cfMrTyKrXuWvbe7gba1g/8AZyt37FU1XP4vJ7yT35erp3inV9ITo1hpOAh4wx5zrL9wEYYx4J2ucjZ59ZIuIBtgBdgfHB+wbv19Z7FhYWmqKiovYXNviX9ZkPQM/j7LhEAEf8yDYgz3/VLl892bYtfOi0pV/xqu25VOI03mX1hJRM+NkceGY4dBsMP3559/f82wnQ/Qi4/EW7/JfjoOdQzKXP8/6izfx95mqq6xt5sfME+tZ9D5372BO23wtXvQ2DzmHtoydR5k1m2K9sDv+vn67kj9NX8P1vzmv+J1rxka0FvH835Pbn6fzf8IePljN13AhqGnw8/M9JTEv5hS3jthXw2W+h/+k2d3znIph4PmwqsiPFjnmD2v7nct8TT/Hnhl8DUOXuTObYD6H7EFg0mV3v3c+oigcoI5sZqT8nz5Tzk+RHqcsZyFWemVxW8jjfdzuffmNfo2HN12TN/iNc+pwdZtwY1m2voaLWyzF9sm3O+61rYdSvbGqqLQ3VtoHX3wjHXtN8X4tWens18fvsSLd7y5jmW7O2VL8L3r0FBoyCE26y39dH98OPX4Lsgt33ryyBrUugd2FzeUNer8qW3dPKP7zPa4dJycpvXobWj7emHMq+h0NObvsY48GXf7aN7te+C2nZe/ectr6b1rb5/bBhFuQfCamd21/Oxnr7N5ScHrSuwX4HIraX4qynYfQz9jsungdJqfZ/H2wbUe0OyO1n/w6X/cce98VP2zaLPw2BrofBT76AjbPhzWvgyEvhzAftdz/lVpuSHVfU+t/JXtifNYa5wEAR6QdswjYmX9Vin6nA9di2g8uAz4wxRkSmAq+LyJ+AnsBA4JsolCm83H7Q7QgoXQJ9T4UeQyGjG2T3gQufgnkv2P0OuwAOPQu6Ht4cGLoMtPnyQGA46We2d9Lcf9rGor1tfHauYxARfnh0T354dE+7fspkWF1v/0g697YjpjqNXKnUU+PLaHqJkoo68jKTg35ZAYOcDl3dhsCmIq695BAmfrmWGS/9mrrkLhzi3PyHrB7NPVvWzIQTbrbzx4yBDV/bBu7DzidNhMsuv46bJyVzY+5CjrroDhsUAI66jLQhP+LuecUc3TubfrzG5yu2kb0pl6Ulldyz/Rga+v4fV15+JeJxkzLoVBh0atBnIvTNaz4eug+B2+bt4ctzJGfAiT/dfX1bQQHaFxSg9RMP2Cvcx7zWvHzIyTB2Ruv7d+ppH62+3h7SAu6k5qAQWG5Lem5iBAWAU+60j/Zo67tpbZvLBX1HtO99goU7GXuCbszV9xT7COh9fOi+GV3sI2DwhfYBkNkNxrxuf1S4XPa7+7+g8c9SMuGG99r/4yYCEQcGY0yjiIwDPgLcwERjzBIReRgoMsZMBZ4HXnEal8uxwQNnv7ewDdWNwK3GmFa6nUTJMVfArGeg57H2H+xns+wvCHcSDDrfNsZe+JT9A8vuY4PHloU2qHTubV/DlQQn3mpO/eTcAAATSklEQVQbWac/CI21rf8K2csrn/GkQmOdTSVlH2IDg3MtQwoNVPmbTwY7qhvIzQhztziwJ9kl/6KT1PHitUcx8IUr8XndbDniJvspZ3a3J9eAwy6w0yNG28A46ldN/1ynDMzjlF+N2/09AI/bxZhhgV/Hx3JaTzgNqG/08dWqbYw49HzEs3/+iJVKeIPO2fM++ykoQJRGVzXGTAOmtVj3QNB8HdhUdJjn/g74XTTKsVdOug2G39L8qysjr3lb10Fw5Ruh+596l+1i6UmxQ1KAPbm6XHDq3bBqul0XbpwkCHMdQ/grn3Gn2Kqpf6etzUBTt7UkfwM1/iQaGv0ke1yU1zSQk95KYMjua6eVmznKVwziBbwMWPo05PSzv1z9jYDYMgfeK7UzjJ0Z/jXbIcXjZtTh3fe8o1Iqbh18w267XOBqR45uyMX2AdDZCQxZzomvV1B1sdVUkrQYRC/86Kp4UmzNw++zaQNXUlPjc5Kpp5ZkqusbSfYks6O6gQFdW0k/ZHaz06ottk+7OxlO+V/bx/uiv9qA6E6ybSI9hoZWh5VSioMxMESicx87zXTyvZ5kyDvMXhQXbgA9aCWVFKbG4El1fskDqdn29Zw2Bo+vjjqSqapvJCcjmR01XnJaSyUFctG7tsLqGXZ8pTN+sft+N7wPSWl7OGCl1MFIx0pqj04tagwAvY6z08AVrC2FHUQvXI0h6ESf3sXWQOoqwRg8/ubAYIxhZ00DOemtNEBmOmXbvtI2svcbGX6/9FwNDEqpsDQwtEdmdxsc8o9uXjfiDts+MGBU+Ofs5SB6gfs+AzZFldrZppKcgfvqjQ0Mu+obafSb1hufUzvb8jhXNJM3qB0HqJRSmkpqH5cL7lwc2iWu22D4VRujiQYHBmPA+MI3Pgd3h8sb6KSSKm27A1BLMlV1jeyothe3ZbfW+CxiazTFznUeOf329uiUUgrQGkP7uVxt96NuKTgwNF2YFCYeu53A0KvQvn6K08bgtYGhjmQq67zsqLGvkZvRRl/2zHzwOoPW5fTd+7IqpRRaY4i94MDgdwJDuBrDLuceCr2dobUDqaRAYDC2N1KnVPvcVmsM0NwzKb1L643iSinVCg0MsRa2xhAmMPQ50U6PvcZOUzs7qSQ77HKDJLO9uoFOafa5uW0FhkDPJE0jKaX2gQaGWAu+jiHQHTVcjaHfqfDgzuY0VUone9Mb5z4G7pQMtlc30NkJDK12V4XmnkmaRlJK7QNtY4g1l3vv2hggtO0ikAJybpOZnJpOeVUDO2oacLuETqltxPRAYMjVGoNSqv00MMTa3rYxtBS4krpqKwCp6Rlsr663F7el20H4WtWUSuq7b2VWSh3UNDDE2t62MbTUosaQnp7J9uoGdlQ3tN3wDHaoi/yj4ZAIRpNUSh20tI0h1kJqDIE2hr342AOjtVZusosZnSgvbqC8uo2rngOyusMtX+xjgZVSBzutMcTavtYYAqmkbSsBSM7uwc4aL6vLqumTk97GE5VSKjIaGGJNXPbuUbBvNYay7yE5i86d7PK2qnoG5bcyxLdSSkWBBoZYC5tKakeNoW4nZHUnN6N5yIzDumtgUErFjgaGWNvbITFaCr5iOatHyKB5A7vv4VaQSikVAQ0Msbav3VU9Kc0jrmZ2Jy/TBoaMZDe9snW4bKVU7EQUGEQkV0Smi8hKZ5oTZp+hIjJLRJaIyEIRuSJo24sislZE5juPoZGUJy7ta+MzNKeTsvKbagyD8rPavoZBKaUiFGmNYTzwqTFmIPCps9xSDXCdMeYI4DzgzyKSHbT958aYoc5jfoTliT/72sYAzemkzO5kpyfjEhjUTdsXlFKxFel1DBcDpzvzLwEzgXuDdzDGrAiaLxGRUqArsDPC904M4rL3YID2tTFAc8+krHzcLuGRHx3FsQW7VcqUUiqqIq0xdDfGbAZwpt3a2llEhgHJwOqg1b9zUkxPikhKK09NXPvaxgAhqSSAK04oYJD2SFJKxdgef7qKyCdAfphN97fnjUSkB/AKcL0xTfe6vA/Ygg0WE7C1jYdbef5YYCxAQUFBe966Y7nc9s5tAD4nlbS3bQxNqaRwH79SSsXGHgODMeas1raJyFYR6WGM2eyc+MPe41JEOgHvA780xswOeu3Nzmy9iLwA3NNGOSZggweFhYVmT+WOGyJhagx7mUpqqjF0j365lFKqFZGmkqYC1zvz1wNTWu4gIsnAu8DLxpi3W2zr4UwFGA0sjrA88SeSXknZBZDRrTlAKKXUfhBpYHgUOFtEVgJnO8uISKGIPOfs82NgJHBDmG6pr4nIImARkAf8NsLyxJ9I2hhOvs0OhqfdU5VS+1FEvZKMMduBM8OsLwJuduZfBV5t5fmjInn/hBBSY2hnG0NSmn0opdR+pFc+x5q4gm7t2c42BqWU6gAaGGItXBuDBgalVBzTwBBrEtRdNVBz2NtUklJKdQANDLEWbkgMcXdceZRSag80MMRa8HUMxgcIuPRjV0rFLz1DxVpIjcGn7QtKqbingSHWWqaSXJpGUkrFNw0MsRY8uqrxa/uCUiruaWCINZdbU0lKqYSigSHWdksl6UeulIpvepaKNXE+YmNsSklTSUqpOKeBIdaaAoNfU0lKqYSggSHWAiOjNgUGrTEopeKbBoZYC9QY/D6bStLAoJSKcxoYYi0kldSobQxKqbingSHWAoFAU0lKqQShgSHWgmsMRhuflVLxTwNDrLXslaSpJKVUnNPAEGu7dVfVj1wpFd8iOkuJSK6ITBeRlc40p5X9fCIy33lMDVrfT0TmOM9/U0SSIylPXGp5gZumkpRScS7Sn6/jgU+NMQOBT53lcGqNMUOdx0VB6x8DnnSevwO4KcLyxJ+m6xh82itJKZUQIg0MFwMvOfMvAaP39okiIsAoYPK+PD9h7JZK0sCglIpvkQaG7saYzQDOtFsr+6WKSJGIzBaRwMm/C7DTGOPc75JioFeE5Yk/rpbdVTWVpJSKb3s8S4nIJ0B+mE33t+N9CowxJSLSH/hMRBYBlWH2M22UYywwFqCgoKAdb93BtLuqUirB7PEsZYw5q7VtIrJVRHoYYzaLSA+gtJXXKHGma0RkJnAs8A6QLSIep9bQGyhpoxwTgAkAhYWFrQaQuNMyleRJ7djyKKXUHkSaSpoKXO/MXw9MabmDiOSISIoznweMAJYaYwwwA7isrecnvJZDYmgbg1IqzkUaGB4FzhaRlcDZzjIiUigizzn7DAaKRGQBNhA8aoxZ6my7F7hLRFZh2xyej7A88aflIHraK0kpFeciSngbY7YDZ4ZZXwTc7Mx/DRzVyvPXAMMiKUPcC76Owe/XNgalVNzTy3BjbbdUkn7kSqn4pmepWGvZK0lTSUqpOKeBIdZ2qzFoKkkpFd80MMSaXvmslEowGhhiLSSVpI3PSqn4p4Eh1poCQ2AQPf3IlVLxTc9SsaapJKVUgtHAEGtNg+jp/RiUUolBA0OsNd2Pwa/3Y1BKJQQNDLEWkkryaypJKRX3NDDE2m7DbmtgUErFNw0MsdbyAjdNJSml4pwGhlgLHl1V7+CmlEoAGhhiLfg6Bk0lKaUSgAaGWAukjvy+0GWllIpTGhhiLVBj8HntVGsMSqk4p4Eh1poCQ4OdamBQSsU5DQyxFrjAzd/oLGtgUErFNw0MsbZbjUF7JSml4ltEgUFEckVkuoisdKY5YfY5Q0TmBz3qRGS0s+1FEVkbtG1oJOWJS5pKUkolmEhrDOOBT40xA4FPneUQxpgZxpihxpihwCigBvg4aJefB7YbY+ZHWJ74EwgEgcZnHXZbKRXnIj1LXQy85My/BIzew/6XAR8YY2oifN/EsVuvJE0lKaXiW6SBobsxZjOAM+22h/3HAG+0WPc7EVkoIk+KSEqE5Yk/TVc+a3dVpVRi2OPPVxH5BMgPs+n+9ryRiPQAjgI+Clp9H7AFSAYmAPcCD7fy/LHAWICCgoL2vHXH0hqDUirB7PEsZYw5q7VtIrJVRHoYYzY7J/7SNl7qx8C7xhhv0GtvdmbrReQF4J42yjEBGzwoLCw0eyp33GgZGLS7qlIqzkWaSpoKXO/MXw9MaWPfK2mRRnKCCSIi2PaJxRGWJ/40XcegqSSlVGKINDA8CpwtIiuBs51lRKRQRJ4L7CQifYE+wOctnv+aiCwCFgF5wG8jLE/80e6qSqkEE1HC2xizHTgzzPoi4Oag5XVArzD7jYrk/ROCtOyuqoFBKRXftFN9rOkgekqpBKOBIdZ2666qvZKUUvFNA0Osaa8kpVSC0cAQa5pKUkolGA0Msaa9kpRSCUYDQ6y5NJWklEosGhhiTRuflVIJRgNDrGkqSSmVYDQwxFpTYGgMXVZKqTilZ6lY01SSUirBaGCINU0lKaUSjAaGWNML3JRSCUYDQ6w1DaIXqDFoKkkpFd80MMRa4H4MTVc+60eulIpvepaKNRFAwO/0StIag1Iqzmlg2B/E1ZxK0jYGpVSc08CwP4hLB9FTSiUMDQz7Q0hg0FSSUiq+aWDYH0JSSfqRK6XiW0RnKRG5XESWiIhfRArb2O88EVkuIqtEZHzQ+n4iMkdEVorImyKSHEl54pbLHXTls6aSlFLxLdKfr4uBHwH/bW0HEXEDTwPnA0OAK0VkiLP5MeBJY8xAYAdwU4TliU/BtQRNJSml4lxEgcEYs8wYs3wPuw0DVhlj1hhjGoBJwMUiIsAoYLKz30vA6EjKE7cC1zKA9kpSSsW9/ZHw7gVsDFoudtZ1AXYaYxpbrD/waI1BKZVA9niWEpFPgPwwm+43xkzZi/eQMOtMG+tbK8dYYCxAQUHBXrxtHAkJDFpjUErFtz0GBmPMWRG+RzHQJ2i5N1ACbAOyRcTj1BoC61srxwRgAkBhYWGrASQuNQUGCU0rKaVUHNofqaS5wECnB1IyMAaYaowxwAzgMme/64G9qYEknkC7gqaRlFIJINLuqpeISDFwEvC+iHzkrO8pItMAnNrAOOAjYBnwljFmifMS9wJ3icgqbJvD85GUJ24FagyaRlJKJYCIfsIaY94F3g2zvgS4IGh5GjAtzH5rsL2WDmyBwKA9kpRSCUAvw90fmmoMmkpSSsU/DQz7Q0qmneq9GJRSCUDPVPtDlwF2qjUGpVQC0MCwP+QNslPj79hyKKXUXtDAsD90GWinNds7thxKKbUXNDDsD4Eag1JKJQANDPtD3qEdXQKllNprGhj2h9TOHV0CpZTaaxoYlFJKhdD+k/vLNe9ATXlHl0IppfZIA8P+cmikg9QqpdT+oakkpZRSITQwKKWUCqGBQSmlVAgNDEoppUJoYFBKKRVCA4NSSqkQGhiUUkqF0MCglFIqhBhjOroM7SYiZcD6fXx6HrAtisWJdwfT8R5Mxwp6vAeyWB3rIcaYrnvaKSEDQyREpMgYU9jR5dhfDqbjPZiOFfR4D2QdfayaSlJKKRVCA4NSSqkQB2NgmNDRBdjPDqbjPZiOFfR4D2QdeqwHXRuDUkqpth2MNQallFJtOKgCg4icJyLLRWSViIzv6PJEm4isE5FFIjJfRIqcdbkiMl1EVjrTnI4u574SkYkiUioii4PWhT0+sf7ifNcLReS4jiv5vmnleB8SkU3OdzxfRC4I2nafc7zLReTcjin1vhGRPiIyQ0SWicgSEbnDWX9Afr9tHG98fL/GmIPiAbiB1UB/IBlYAAzp6HJF+RjXAXkt1j0OjHfmxwOPdXQ5Izi+kcBxwOI9HR9wAfABIMCJwJyOLn+Ujvch4J4w+w5x/qZTgH7O37q7o4+hHcfaAzjOmc8CVjjHdEB+v20cb1x8vwdTjWEYsMoYs8YY0wBMAi7u4DLtDxcDLznzLwGjO7AsETHG/BdoeX/U1o7vYuBlY80GskWkx/4paXS0crytuRiYZIypN8asBVZh/+YTgjFmszHmW2d+F7AM6MUB+v22cbyt2a/f78EUGHoBG4OWi2n7i0hEBvhYROaJyFhnXXdjzGawf4xAtw4rXWy0dnwH8vc9zkmfTAxKDR4wxysifYFjgTkcBN9vi+OFOPh+D6bAIGHWHWhdskYYY44DzgduFZGRHV2gDnSgft9/BwYAQ4HNwB+d9QfE8YpIJvAOcKcxprKtXcOsOxCONy6+34MpMBQDfYKWewMlHVSWmDDGlDjTUuBdbFVza6CK7UxLO66EMdHa8R2Q37cxZqsxxmeM8QP/pDmdkPDHKyJJ2JPka8aYfzmrD9jvN9zxxsv3ezAFhrnAQBHpJyLJwBhgageXKWpEJENEsgLzwDnAYuwxXu/sdj0wpWNKGDOtHd9U4Dqn98qJQEUgJZHIWuTRL8F+x2CPd4yIpIhIP2Ag8M3+Lt++EhEBngeWGWP+FLTpgPx+WzveuPl+O7p1fn8+sD0ZVmBb9O/v6PJE+dj6Y3stLACWBI4P6AJ8Cqx0prkdXdYIjvENbPXai/0FdVNrx4etej/tfNeLgMKOLn+UjvcV53gWYk8WPYL2v9853uXA+R1d/nYe6ynY1MhCYL7zuOBA/X7bON64+H71ymellFIhDqZUklJKqb2ggUEppVQIDQxKKaVCaGBQSikVQgODUkqpEBoYlFJKhdDAoJRSKoQGBqWUUiH+P0N19rpdOnFNAAAAAElFTkSuQmCC\n",
          "text/plain": "<matplotlib.figure.Figure at 0xcfbf860>"
         },
         "metadata": {},
         "output_type": "display_data"
        }
       ]
      }
     },
     "a1da2c92f8b4465f81f2da69fb9d3bf3": {
      "model_module": "@jupyter-widgets/controls",
      "model_module_version": "1.1.0",
      "model_name": "SliderStyleModel",
      "state": {
       "description_width": ""
      }
     },
     "a2ef2ca78d5e4c2d8351806db03c53ce": {
      "model_module": "@jupyter-widgets/base",
      "model_module_version": "1.0.0",
      "model_name": "LayoutModel",
      "state": {}
     },
     "a335ed6288c64d15b965ace559020ffe": {
      "model_module": "@jupyter-widgets/base",
      "model_module_version": "1.0.0",
      "model_name": "LayoutModel",
      "state": {}
     },
     "a49aee7fc80e4ee5a364c9fb56552785": {
      "model_module": "@jupyter-widgets/controls",
      "model_module_version": "1.1.0",
      "model_name": "FloatSliderModel",
      "state": {
       "description": "Elevation:",
       "layout": "IPY_MODEL_cf1c5caf636e4dd6b41423b9ffc298d5",
       "max": 90,
       "min": -90,
       "orientation": "vertical",
       "readout_format": ".1f",
       "step": 0.5,
       "style": "IPY_MODEL_7d5f544e545843a69cef1e5094d35dcc",
       "value": 70
      }
     },
     "a64e51d5961c4877994d00485b5cd8bf": {
      "model_module": "@jupyter-widgets/base",
      "model_module_version": "1.0.0",
      "model_name": "LayoutModel",
      "state": {}
     },
     "a7abe93634254b69a8fcd2ab8b0914c7": {
      "model_module": "@jupyter-widgets/controls",
      "model_module_version": "1.1.0",
      "model_name": "HBoxModel",
      "state": {
       "children": [
        "IPY_MODEL_2991e73d7c4a45789368241ff7ec8975",
        "IPY_MODEL_18716e521af04723913fc65e00edb5d8"
       ],
       "layout": "IPY_MODEL_9813ca27255e4c2c8cbe9604083118ed"
      }
     },
     "a7fe1c518f824f38add9ed814c89874e": {
      "model_module": "@jupyter-widgets/controls",
      "model_module_version": "1.1.0",
      "model_name": "SliderStyleModel",
      "state": {
       "description_width": ""
      }
     },
     "a7feb0da7fbe49ff9032e2ee0025c5f9": {
      "model_module": "@jupyter-widgets/controls",
      "model_module_version": "1.1.0",
      "model_name": "HBoxModel",
      "state": {
       "children": [
        "IPY_MODEL_a49aee7fc80e4ee5a364c9fb56552785",
        "IPY_MODEL_99ff9133358042ef91d60118b24fcc5d",
        "IPY_MODEL_baec817df0e945458607c866bc1d432e"
       ],
       "layout": "IPY_MODEL_bea454f2cd0c491c87d4a8c4150dbe90"
      }
     },
     "a8285e944dd645708ed3a7513e734d3e": {
      "model_module": "@jupyter-widgets/controls",
      "model_module_version": "1.1.0",
      "model_name": "HBoxModel",
      "state": {
       "children": [
        "IPY_MODEL_732efa3764cc442b82d0eb5d07240730",
        "IPY_MODEL_167c846e2f1d41c5a5381b67bb2f2b12"
       ],
       "layout": "IPY_MODEL_a335ed6288c64d15b965ace559020ffe"
      }
     },
     "aa43aa25b50442a0b9bafdaf5b09d7c8": {
      "model_module": "@jupyter-widgets/controls",
      "model_module_version": "1.1.0",
      "model_name": "SliderStyleModel",
      "state": {
       "description_width": ""
      }
     },
     "acd6cabbe1804e7eab61cd679d05f25c": {
      "model_module": "@jupyter-widgets/base",
      "model_module_version": "1.0.0",
      "model_name": "LayoutModel",
      "state": {}
     },
     "adbb007d9b464318a8773f1850b993f3": {
      "model_module": "@jupyter-widgets/controls",
      "model_module_version": "1.1.0",
      "model_name": "VBoxModel",
      "state": {
       "children": [
        "IPY_MODEL_0b7153a82e0540ca80fb5ccd16aa1d18",
        "IPY_MODEL_5f2ad705f0124468ba19cde1608bb62c"
       ],
       "layout": "IPY_MODEL_f6f38f64cd774d19bf6331ef8f31f0f4"
      }
     },
     "add7047aad17423080ca1a8d3b49d967": {
      "model_module": "@jupyter-widgets/output",
      "model_module_version": "1.0.0",
      "model_name": "OutputModel",
      "state": {
       "layout": "IPY_MODEL_fb3080c0bcbc47dbaa4716b0cbb45e7b",
       "outputs": [
        {
         "data": {
          "image/png": "iVBORw0KGgoAAAANSUhEUgAAAX8AAAD8CAYAAACfF6SlAAAABHNCSVQICAgIfAhkiAAAAAlwSFlzAAALEgAACxIB0t1+/AAAADl0RVh0U29mdHdhcmUAbWF0cGxvdGxpYiB2ZXJzaW9uIDIuMS4yLCBodHRwOi8vbWF0cGxvdGxpYi5vcmcvNQv5yAAAIABJREFUeJzt3Xl8VOXZ//HPNXtCwpqwyqYgCoiAaN1b3LVWbLUutVZrW9o+2vWxra120/6eWh/b2qq1Wmvd+qjVVkXFuuDSWhcMiiAg+06AkED2ZLb798ecLJAQEmYgM+T7fr14ZXLmZM45M/Hrlevc5z7mnENERHoWX3fvgIiI7H8KfxGRHkjhLyLSAyn8RUR6IIW/iEgPpPAXEemBFP4iIj2Qwl9EpAdS+IuI9ECB7t6B3SkqKnKjRo3q7t0QEckp8+bN2+acK97Telkb/qNGjaKkpKS7d0NEJKeY2drOrKe2j4hID6TwFxHpgRT+IiI9kMJfRKQHUviLiPRACn8RkR5I4S8i0gMp/NPw7poKPtpc1d27ISLSZQr/NNzw5If8fs7y7t4NEZEuU/inobohRmMs2d27ISLSZQr/NNTFEsSSrrt3Q0SkyxT+aahrTBBPqPIXkdyj8N9LsUSSaCJJPKHKX0Ryj8J/L9VFEwDEkqr8RST3KPz3Ur0X/qr8RSQXKfz3Um00DqTaPyIiuUbhv5eaK3+N9hGRHKTw3xvO0f8/NzHBVmu0j4jkJIX/3ojVMXTxnzjL/y4x9fxFJAcp/PdGtBaAvtQQ12gfEclBCv+90VgNQF+r0WgfEclJCv+94VX+fajVaB8RyUkZCX8zO8vMlprZCjO7roP1LjQzZ2bTMrHdbtMU/lZLQqN9RCQHpR3+ZuYH7gTOBsYDl5rZ+HbWKwS+CbyT7ja7XauevyZ2E5FclInK/xhghXNulXMuCjwKzGhnvZuAW4CGDGyze0VrgKaev9o+IpJ7MhH+w4D1rb7f4C1rZmZTgOHOuWc7eiEzm2lmJWZWUlZWloFd20e88O9jdeCSJFX9i0iOyUT4WzvLmtPQzHzAb4H/3tMLOefucc5Nc85NKy4uzsCu7SNe2wegkDpN7iYiOScT4b8BGN7q+4OATa2+LwQmAq+Z2RrgWGBWTp/09Sp/0HBPEclNmQj/d4GxZjbazELAJcCspiedc5XOuSLn3Cjn3CjgbeA851xJBrbdPVpV/n1R+ItI7kk7/J1zceAa4AVgCfA359wiM7vRzM5L9/WzUmPryr9WbR8RyTmBTLyIc242MHuXZT/ZzbqfyMQ2u1Wryr8Ptar8RSTn6ArfvRGtYQeFAPSxGl3lKyI5R+G/N6K1bGYA0DS5myp/EcktCv+9Ea1lR7IXdUToa7W60EtEco7Cfy+4aDXVLky1FdLHajWnv4jkHIX/XnCNNdQRodHfiwLqNae/iOQchf9ecNFaal0E8/nxk1TlLyI5R+G/FyxaSy2p8PeRVM9fRHKOwr+rkkl8sVrqaKn8NdpHRHKNwr+rYnUA1Low5g/iJ6HwF5Gco/DvKu/q3lry8Pm9yl9tHxHJMQr/rvJm9Kx1Efz+AH7TCV8RyT0K/67ywr+OMH6/d8JXQz1FJMco/Luque0TwR8IeG0fVf4iklsU/l3VFP4uD78/6I3zV+UvIrlF4d9VTT1/IgSaKn+N9hGRHKPw7yqv8nfB/JZx/qr8RSTHKPy7yruLlwv2wrwTvhrtIyK5RuHfVV7bx4UKMF9T20eVv4jkFoV/V0VriRMgFI7g8wfwk1DlLyI5R+HfVdFaGiyP/JC/Vc9f4S8iuUXh31XRGuotQn4ogM8XwG9ObR8RyTkK/66Kpm7kkh/yg8+n+fxFJCcp/LvKm8s/P+QH01BPEclNCv+uitZS48LkhwPgC+A3TeksIrlH4d9VjTXUJCPkB/3g8+PHaXoHEck5Cv8uctEaKpNe5e+1fRKq/EUkxyj8u8hFa6lzTSd8dYWviOQmhX8XWbSGWiL0CvnBfLrCV0RyksK/K5JJLFZHHWHyQoHmyl8XeYlIrlH4d0UsNaNnjctLVf6+pukdVPmLSG5R+HeFN51zHREi3jh/H07j/EUk5yj8u6L5Ll7h5qGeAIlEvDv3SkSkyxT+XdF88/YIkWDqhC9AUuEvIjlG4d8V3o1casgjL9RS+SeTCn8RyS0ZCX8zO8vMlprZCjO7rp3nv2tmi81sgZnNMbORmdjuftfU83dhIoHUCV+AZDzRnXslItJlaYe/mfmBO4GzgfHApWY2fpfV3gemOecmAU8At6S73W7R6ubtkZAPTJW/iOSmTFT+xwArnHOrnHNR4FFgRusVnHOvOufqvG/fBg7KwHb3v+bK3+v5e20fp56/iOSYTIT/MGB9q+83eMt250vA8+09YWYzzazEzErKysoysGsZFqsHoJ4QeTud8FXbR0RySybC39pZ1u4lr2b2eWAa8L/tPe+cu8c5N805N624uDgDu5Zh8QYAYr4wQb+v1Qlfhb+I5JZABl5jAzC81fcHAZt2XcnMTgOuBz7unGvMwHb3Py/8/cFI6nvvhC/q+YtIjslE5f8uMNbMRptZCLgEmNV6BTObAtwNnOec25qBbXaPeAMJ/ASDwdT33glfnCp/EcktaYe/cy4OXAO8ACwB/uacW2RmN5rZed5q/wsUAI+b2Xwzm7Wbl8tu8UZivlDqZC+0nPBV20dEckwm2j4452YDs3dZ9pNWj0/LxHa6XbyBmLUKf6/yN4W/iOQYXeHbFbEGok0jfQB83tunto+I5BiFf1fEU+EfCXpvW/MJX83qKSK5ReHfFfEGGgm2bfs4jfYRkdyi8O+KeOPO4e+d8EU9fxHJMQr/rog30OCCLT3/5qGeavuISG5R+HdFvIF617rnrxO+IpKbFP5dEW+g3gXaVP4+lySZ1E3cRSR3KPy7It5IfTLQquefGu0TsAQJp/AXkdyh8O8CF2+g3rU94esjSUKVv4jkEIV/V8QaaHRth3r6Ff4ikmMU/l3g4g00ECKv+YRvq8pfbR8RySEK/y4wb5x/Xqip8k+9fX50wldEcovCv7OcwxK7XuTlnfAlSVzhLyI5ROHfWfHU/WcaXdspnX2q/EUkxyj8Oyueun9ve3P7+DvT81/7Ji/NX8WyLdX7ci9FRDpF4d9ZXuXfsNOUzi2VfzzRQfhXboC/nM3rj/+e7z+xYF/vqYjIHin8O8u7f29qqKf3trU+4dtB5R/fOB+AgbadkF9vuYh0PyVRZzX1/Gk1sVvrK3w76PnXrf8AgP5UUxfT9M8i0v0U/p0Va6fn39z2cR2Gv21eCECxv4aKmui+3U8RkU5Q+HdWq8o/3Nz26dwJ3+C2xQAMCdRSXhvF6YIwEelmCv/Oau75hygIe7dv7MzcPo3VRKrXAjDAV0NjPEltVFNAi0j3Uvh3VvNonyCRQBfm9tm6BIDNrh99XSWAWj8i0u0U/p3lVf4WjODzWWqZrxPhX70ZgEXJUeQlqjCSlNc27vPdFRHpiMK/s7zw9wXzWpY1h38Ho30aqwBY5wbicwkKqaOiVpW/iHQvhX9neeHvD0ValnWm7dOQCv81bjAAA6yacoW/iHQzhX9neT1/X7BV+HdmSmev8t/iT4V/P6pV+YtIt1P4d5ZX+QfC+S3LOlX5V9Loy6MuNACAQYEahb+IdDuFf2fFUuEfDLfT87eO2z51vl7Ewv0AGB6uo1yjfUSkmyn8OyveQAIfkVC4ZZkZznztzu2ztaqBVWU10FhJnfUiEekPwJBQ3f4f7bP8Jajfvn+3KSJZTeHfWfEGogTJb7rAy+PMj3+XWT2dcxzzP3M45devQ0MV1eQTzCuAQB6D/J1v+7z25lusKS1Lb7+3LIK/Xghv/SG91xGRA4rCv7O8Wzjmh/07Lzdf6mYurSr/d1ZXtDzfUEmVy09dFVxQzEC2U1Uf2+PmauobmPrCZ0g8MKP5ZPNeee+h1Nd1bwFQURvl5cVb9v71ROSAoPDvrGgNtS5Cr9DOlT9e5Z9Itiy699+rmx8nG6qoTOZREA7CgDEMia+numHPM3su/3Aeva2OQxoWEX/xpx3sVy2UftD+c/FGWPBo6vHGeZCIc9Ozi/nygyVsqWrY4z6IyIFL4d9JrqaMclfYcvP2puU+r+2TbEn/pVuqWp5vqGRHMo/CSACKxlHcuI6ahj23fbYtexuAxcmRxBc+2f5KlRvg3tPh7o/DthVtn//o2VSvf8rlEKujbEUJz3ywCYD31uocgEhPpvDvpGRtGRWudzuVfwA/iZ3aPvGEo6gglHq6sZqKRCTV9ik+lFCygQGJbTTEOp7czUrnU0eEZ3zTidRvxu1Y33alV38JFasAR3LZP9vu83sPUZc3hE1HfgOAt19/HgeE/D7mZSL8EzEoX5n+64jIfpeR8Dezs8xsqZmtMLPr2nk+bGaPec+/Y2ajMrHd/aq2nHJ6t+35+3xt2j6xhGNwnwhhoviSUSqT+RR4lT/AGN/GDls/yaSjuGYJm3sdxvBJ0wF48YVn2q646T0YfRLR/uN454VH+NeyVieHt6/FVr3GPdXHcfwfV1DmK8atf4crjhvFpIP68N66PYS/czz7519w1203srW9FlHVJvjLOXD7VFj4RMevJVknmXRUduLckxy40g5/M/MDdwJnA+OBS81s/C6rfQnY7pwbA/wW+FW6292vnMPqtlHebuXv96Z0bkn/eDLJ4N559KYOgCq8E75FhwIwxjZR3bDLf3hv3pH6B6zYvJ1xbg3xQUdyyafOIWphNn34L8prWp34jdVD2VIYPImPCo7lKJbwm2fnUbl9G3Puvpbq208kjp8Piz/Ft04dyweJ0RwdXs8PzzmMo0b248ONVcxbW9H+9QmJOI1PfYtz1/8vV23/HV+6/Wk+3Fi50/vBk1+DLYtwA8eTeOpqtq18v83L7Nixnbm/+iSLnvpN6md28eKizVx091t8+YESYq3/7wkQayCxfh7b1y1qu3+eyroYP3pyIfPWVuz8RLyR5Ks3s/z287nrF1fz3w+8RrLVcbptKyh5+k4efuyvPPXehnbvrxCr3sZ/Xvo79zz4AE/PW01jvJ2/1JIJKuui7T/XUMnap27k3T98iece+xMN0Vb/s49HKX32F7x/8xn86aaZPP2fD3beh0Sc0iVv85f7/sANf3iIu19bRl1052Ih2VhHyfz5zF1e2va9q91G4vGrqLllIitvP59YffVOTz/zwSam3/wCx/58Fj95+sM2r53YupRNs2/h32+83mZk2trN5Tz52juUrCxt931bvbWKRR8tZXvFtrbvSQdqy9ZSvuztdn9Pdsc1VFG+bgmNVWmOiOuhAnteZY+OAVY451YBmNmjwAxgcat1ZgA/8x4/AdxhZuZy5a4m0Vp8iQbKXW9Ghnat/P34cTtV/vGEY3CfMKssFf7Vzuv59yoiGurLIfFNO1f+m96Hl34MvYfB8dewfPF7HGox+h5yNL5giPjgI5mycRnPLSzlC8eOZHNVI0VViwi4BAw5ktnLy5hkD3BpxV3U3PYhp9o2XklO5bbYp/nOWScyfdxAYoHTCL7+PxCr4ehR/bn7X6u44K63OH/yUH578WTMvJlKd6yD5/6b8PIX+Wv8VC4Nvs4XEk9y0d19ePXaTzCodwRWvAyrXyd+xi/54dKx/CB+FaUPXMkLZ/2dy44f470HSeb/6et8ov4NmP8GjeEKwmf/IrUN59j0yh+peu15zg/1ZVb9Efzw7wHOmjiE6YcNxB+roe7uM8ivWEw/4InAuRx20gVMPOFcCITAORrXlTD7H48wsXwVf543hZUzruSio0cCkHz55/jevpNQciBf973KtlWzePbh7zD85MsZUbuIvo9/hmkkmAZ8uGgUt775Zb54xZcpKsyDWAO1//gmkSWPcwJJTgDKVvbmiX+ezuizv8nxUydD7TZq59xC6P2/kEyGeMF3DDVHX81pJ57IwN4RoiteI/bYFxkZq6DIhTl66xO8vOI5Bs34OUcMH0DDw5cwpGwhMQZzFe9S/+LTPPvuhRx/0bX02zCH+lduZUhDKV/0fj2WbB7OL964hJM/9QXOGB2m4sVbKPzwQaYRZX2ymB/nzeTiy77ClGEF8NYdJP99G4nGGt5ITOH02td4/3ef5ZCv/41+hQW898+/MOztP/C6bwWJiJ8H3z2NK5Z/jpsvOIKR655kx9xHKapdzlBgKPDyK8czZPAQispLyG/cxkhqGQnEnY+F/nFUHHQqvUYeRX1jlC0LXmJ6/YuMtioaXZB54SmMHDWagr7FxIrGU7fwGeKli1iZGMS2kWdTFzeiBJlc/RqTKl+hF0lW5U+i8LN3UTx6IgDbKmt4/c032bS5lHDxaCIDRnDiUCh84bsUb5rDAO89ejFyFv3Pu4lp40bjShewddlcNqxfw5vVxQyZdj4XfOyQ1O94Mknl6nmUvPY0OwoPZfTwYRQ0lBIrX0e/mhUENvyHLYk+lBccSqL4cMp7j+ecs86lIOCIWYCAz0gkHfWxBIWRIAANsQRhv1Gzei7rPnyT+rpqQg3lLKnvT9HUT3LqhBFUb9/KFteHQb3D/N8H1ZwxcQiji3qlGUzpsXTz18wuBM5yzn3Z+/5y4GPOuWtarfOht84G7/uV3jrbdnmtmcBMgBEjRhy1du3avdqnhRsqmTC0d8vUy+1YVVbDR5urOeeIITstb4gl2F4XZUifVlfybl8DvzuS78VmMuPKH3Di2KLmpxK/nsCTOw6m/pzbufy4UQCMu+F5rjx+FAvmvsIj/Iirotdy2eUzOfXwQVTfeQqrt1RQ9fmXOPHQ4tSL/PlMWJ86wct163j4oXv5/MYbcV/7DzZ4Irz6S5Kv/4rbCq/lO9E/clX9tzlnWD2fLb2V+DXzmXz7Uu4p+hvHl/+dukAfNpz1F3wjjqFkzXYuPnp46pd++Uup8f5XziY54nj+vWIbbywv40//Xs3/+/RELvvYSFjyLDzxRcC4t2Amf02cxitjn8At+BsTa+/i+k9P47LDg/DnM3D+IN8tupsnF5TxhynrOWfJD1jqhjNo6rnER5/CP1+Zw+d3/JE3Bl3Gmk2b+bx/Dg8MuYGzP/cNBsy/C/+cn7GNvgzw12GJKBtcEfOSh7LyyO9z5fbf0XvD6/wm9FXOLtrKEaV/B2BzaASJT1wP8x9h2NbXAIj58wkm6liZHMKCw77NKRNH0Ocfl/Jg/HRqTruZrx9aw7oHZjKycSllrg9hYpTTm5KP/Z4LBm2h7uVfUlC/ic0MYLl/DIf51lMc28RD7hwOOeEzfGxYhIo376f/xleIOx+rQuM4OLGKQKKBZ90JjCgqZELFHEJE+SB5CNX5wzm+4XVWJofy/NifMvOiT1M660aGL7qTAKkKocbl8VP/N/jW1d/hoMR61jxxAwdvfbH5d2puchxv95/BJWd+nIENa2mYczORmnU0uiAYBFycf/o/ztAJJ3LI2sfoXbWcfyRPZnpRFf0q5vM6U7mNz/HVC89l0OL7mbL4ZrYwAH8wRFGslI3+gyg+9lJC9Vtw7z9MwhkBUn+9vJM8jDX9T6Zo2vkcsnk2Qz68B+ccb9mR0HsYfQYO56BhB1G+cRW91rzEiHjLyLYEPjYWn0zd8I8TLV1MQelb5Lta+lFD2GLUuAglviOY5FtN/0TLf/q1RPhX4SexviP42Lp7yaOB9aFD8Ed6MaB6KX2oaV53TXIQg60Cw/G34AyGjZlEnx2LmLz5CRLOh/n8BN3OQ6MXJ0fyfp9Tmehbw+jqefROVtKeKpfP+/6JDAs3MKh+BYXNf7n3oje1rHGDqA0WUZjYTjKZYGtoBMPi66lMhCny1zKwVZzFnJ+gJUg6w2euzXb+7PsM4z99HUeN6k8wUUd84dOseutJysPDcX1H0Lv/YE4476p293NPzGyec27aHtfLQPh/Fjhzl/A/xjn3jVbrLPLWaR3+xzjnynf3utOmTXMlJSVd3p8VW6p5+o7/puHQGXztk8dSU7WdRLCAorpVrPz3Y6zesIk+YaO2voFN8d4MOvZiiqsWsiA2nMMH5fP0kipe3jGE1743naIC72reDSVw76lcFb2Wa752DVNH9GveXuK3R/J0xUFUnXUHV54wGoBbb5jJ2PFH8sb6GP9b/1MubPwJ137lSo49eAClL/2eIf/5MQun3sQR530z9WfuTcUwYAyULYGrXuCvD/2Ji2NPErhhc6rSrd1G7NcTCCZTvfdnE8dS6XpxYWQudxz9Mre/upI7Lj2Sc6MvwKiToPjQtm9MzVa4dSyc+T9w3NVAqu973p1vEPD5eOq8EDxwLgyayI5z72XK7xfzjelj+O6hZXD/J7k++H3Kh07njw3fI1mxhpsH3co9K3rzvTPHcfX0MVS9cQ8fvXw/k91HhCwVJOsHn8bwrzzG4yXrOPLVKxhe/xH3+S7g6+5Rnkt8jPDF93PGoX1gySzqFswisHoOjQmj0Or5bfhrfP6aGykuDFNXsZHnZz/FMSt+x3C2kHDGY32uYtxZX+OocQcT+/BJts7+JcMaV9LggqxyQ3nkiHu56bPHpI4zHqe05Cncoqepr6kkdObPGXnYlNT7Em9k/X8epWzu4wyNrmZ5dACvFX6Ky6/8L0a1qsyi5WtZ/o+bSGxexPLYIBYffCWfP/f0VPVWvYVtbz1E/IO/UVS7glcLZxA58yecNHF088/Xla1l4UsPsLV8O5sPOpPTTzppp9df+9F7vPn8/7HJN4gxJ1/KeZOHtfw1loiTWPYiq+a9yNbt1SwbeQnnn/px+vUKpa4/efYH2PyHqXJ53Bi7nMox5/PTT43n4OICAFbPnc2OOb+mvMHH5mFncOGV3yYSSlWtlK+k9q37mL2innfDx3H+6dM5fkxLcROrqaA+nqSwz4CW/WmltmITW1YuJOmSHDzxOHz5fZufq6yP8eyCTcSijfSvWkrR8LFMPXwsEZ8jXvohgVAYGmugaCzkpX5u47pVbHzmF4R2rCQZrWN7eBiHnfhphg09iETZMmJLX2JlvJhNh1zCJ07+OEF/qnNduW4R/3nsVspr6lmTfwTjj57O0RMOY9i2fxN76ptEYjvYQn+WRKawLP8oTj7zAkYlVrG8dAe1kSH0HnQwGxpCnDxuIJGgn2gsQaJyI1vm/5Oti16jwjeAUcl11FeVU+crpLggQK/qNZSGR9E3mGBDfYh1BUcy6ZSLGDZwAMlQH/pHN/Le7Psoq43jeg9jcKCa0h31HMtCBm5+PfXROiOJj6Al2EJ/BrCDAEmWBcdx6PVz2/533An7M/yPA37mnDvT+/6HAM65X7Za5wVvnbfMLABsBoo7avvsbfi7bStI3HkcJFNtlYC19GMaXYB6fyGNSSOJn2Iqmiue1t5PjuGFyXdw2SeO5KB+ediyF+CRi5nReCO3fOsqxg0ubF438bspPLdtEGVn3sWXThyNSyap/vkwKvpN4h+cwnd3/A9nR2/mr9d/if69Qqwvr2H9baczLbyO0I/WQWM1/GokOyZ9ib4L/kzNabfw1guPclThDvp/v6WP3jj7esJz72B5chgjfFvZQW9WJAZzWex68oJ+3vjBdAYUhNscy05+fTiMPgk+c0/zot+8tIxHXinhnQE/T81Y+uU5PLmsge889gFPXX0Ck4cWwK1jmB85hvcqQlxlz/DjXj/liarxfP0Th/CNU8Y0h8KiTZW8/MFqRle+w8cHVNJn+rdT//MCqN5C/K6TCNRtYW5yHI+N+x2/vuy4nXYvseJV3P9dzMqRl1B84a307xXa6fmK6jqeevx+Yv5efPGyywkFWp2yijdS9dhXSW6Yx1NH3s0lp36MSHCXFl0nxBNJAv6OT4U559oNQgCSieY5n/anbTWNPPLOOqYfNpCJw/rs9+3vC4mkw2fs/r3urFgDJGO4UEH6r5UJzhF//xHWrVpCdW09dY1RZjUexRcuOJ/DB/hwjdVECRLuXbxXL9/Z8M9Ez/9dYKyZjQY2ApcAn9tlnVnAFcBbwIXAK/uq329FYwh8dyFrnr+NyvoYrnAovmgNG9wARh83g8NHDacuGsc5qKtYzeJ/P83IKacyqGE172xsoH9sC0e89wui87/NaXOv47eXHcs58dSfc+X0Jn+Xnr/5dj7hG6+toLfVkWjcxKDC1MmyQw4a1hxkvfPCPJs8juPji6G6tHnCuF99kMePLJ9tK99jnK3HDTxmp+2Ez/gJ/6ifyP0lZcwK/5iB/lrqZ/w/SsYeTyTob7mvcEeGTU3165e/nLri98TvcPLYIkb/62Fc3XbWXTiLEb2KeOWj9ykqCDFpWB/wGRx6NpMWPs5ki/HBoM/w0Npx/PIz47n0mBE7vfyEoX2YMHQyMLnttgsHEfj8Y9S9+xDvhi/nxydPaLOKf8x0uG4N40L5bX8e6F+Yz1VX/Vf7xxYI0/uy+8E5rkzjP/A9BT/sIYy6IfgBigrCfOPUsd2y7X3F30HbtkuCESBCFsR+ihmBqZ/j4Kkti1qXQRYuZA9lXEakHf7OubiZXQO8APiB+5xzi8zsRqDEOTcL+DPwkJmtACpI/Q9i3ykczKiLbt5p0aRWj/ObRuwMGcuxF13rLZ3CcUekHlUNHsoxz32Vu/Pv4r53BnH2uDIMqHBtw3/XK3wT5asIAr0bSinul+oZntDqz/+CSICNzvuzesd6FpVWMQHYkizkIzuIgtVvc7ivjMTII3feTiDMmed+lsWhpdQGt9Nr7EmMOmR6196XU26A+86Cv17gvREDOHLqlYz3lfBo9ER+/FA5Pzl3Na8v3coZEwa3nDOZ/Dnso2f4v8Qn+fna84gEfZw7acjut7M7Q6eQP2MKV3e0zm6Cv9OyobITyQGZqPxxzs0GZu+y7CetHjcAn83EtvaH3kdfDMkdfOL577Nx7a38bUsh57kQdYTptWuF7V3h23SRV7JiFQB+F2Nc4wIqXS+mTxrTvLrfZ1QEBgJQs3U1f3huOXf64UefPZn5T73PhcnUxVr+wW0r417hADd8agLQ9rlOGXg4fOEpWPQUrHoNSu4j2P9ggtbI3MjxHNGvLz97ZjGhgI+Lpg1v+bnRJ2E/3MD49TtI3PUm5x0xpHmkg4jkpoyE/wHpY1+lcut6Lpt3O8RgA0WAEQ7s3BYwfwCtReN0AAANc0lEQVRf61k9K9Y0Pzdix1zqhk1jcN+8nX6mOjwEYlBZuoo+yUrww5hRoyk5/lvMfbuMo31LsWFH7ZvjGjol9W/+I/DU1+ClH+NChfzm2muoS/p5bkEppxw+kIGFkTY/Onl4X/757ZMYusvxiEjuUfh3oM+5N7Fly3IGbfgnQ0kNTGrT7zU/ARLNt3G07atJOMNvDktE6TViSpvXDeYVUJ3oQ7xiLQO84X/kD+CS04bAaa/s02NqNuF8eP9hWPsGdsRF+EMRCoFLdunj72rMwMIOnxeR3KDw74gZgz53F9wymsWhiYTibU8Gms+P32LNV5D6dqxhoRvNZEu1fxgyqc3PFEQClNUPJFi1ngFWiAv3wQKhNuvtU8E8+OJzULYMCgft322LSLdT+O9Jfn/43koOcz4+CLUzhM78BEgS98Lfv2MtK9xYxkVqyGvYCoOPaPMjhZEgm62YsbUbGeQfhhXs3ZCujGjvmgAROeBpVs/O6FVEoKB/m+mcgdQJX/NO+MYbCdSWsi45kLr8g8Afbp7Pp7VCb8RPn+hmhgSqoVc3hr+I9EgK/3SZz5vbx0HMm8uHPMoGnwzjZ4C/7aiY3pEAaxMDCLlGRrv10KuozToiIvuS2j7p8gUIWCIV/onUTJ0xAqyd8HUOmzC43R8pjARZGhsIfuiT3KHKX0T2O1X+6fI1XeTlIJG6ojdKgKB/9xcbHVLci1djE9jQdLFXvip/Edm/FP7pMm9KZ9cS/jEXIODb/Vv7yUlDCYXCPBA/I7UgqZtqiMj+pfBPl3fCN5FwkEhNJhcjQKCDyr8gHGDG5KHcnziLdUd8A47+yv7aWxERQD3/9Jl3G8fWlT/+5qlmd+crJx3Mxh0N9Dnnp5CnqRJEZP9S+KfLl7qBe+uef4zUHX86cnBxAQ9edUyH64iI7Ctq+6Sr+TaOO4/26ajnLyLS3ZRQ6Wqa0tntUvl30PMXEeluCv90NbV9Eq551E7UdTzUU0Skuyn80+Xzp8LftbR94vjV9hGRrKaESpc/SIBEalZPtX1EJEco/NPltX3iba7w1VsrItlLCZUun1f5u11H+6jyF5HspfBPlz+A3+08sVvcqecvItlNCZUuXwA/8Z3aPur5i0i2U/inyxfET5JkItlc+UcV/iKS5RT+6fJ5M2S4+E6Vf1BtHxHJYkqodPm98E+2hH/CAvh0wldEspjCP12+VuGfTE3p7Nq5daOISDZR+KfLlwp6S8QgESVhfrV8RCTrKaXS5fOnvnptn4QFCegCLxHJcprPP11ei8dcHBIxEhYgYOr3i0h2U4maLq/nb02Vv4Z5ikgOUPinq6nnn0xV/nEL6upeEcl6Sql0+Zsq/4QX/prLX0Syn8I/XU1tH5ca7RMnoBO+IpL1lFLpamr7uEQq/E0zeopI9ksr/M2sv5m9ZGbLva/92llnspm9ZWaLzGyBmV2czjazjlf5+5p6/prLX0RyQLopdR0wxzk3Fpjjfb+rOuALzrkJwFnAbWbWN83tZg9/q7l9kjFiBPCr8heRLJdu+M8AHvAePwCcv+sKzrllzrnl3uNNwFagOM3tZg+v8vfvVPkr/EUku6Ub/oOcc6UA3teBHa1sZscAIWBlmtvNHl7P3+fN6pm6i5faPiKS3fZ4ha+ZvQwMbuep67uyITMbAjwEXOGcS+5mnZnATIARI0Z05eW7T/Non9QJX83lLyK5YI/h75w7bXfPmdkWMxvinCv1wn3rbtbrDTwH3OCce7uDbd0D3AMwbdo0t6d9ywpez9/nTe8Qd2Gd8BWRrJduSs0CrvAeXwE8vesKZhYCngQedM49nub2sk/TaB+XwCViRPFrqKeIZL10w/9m4HQzWw6c7n2PmU0zs3u9dS4CTgauNLP53r/JaW43e3g9/yAtbR9V/iKS7dKa1dM5Vw6c2s7yEuDL3uOHgYfT2U5Waxrt0xT+TkM9RST7qURNl9fzD1pqbp+Y8+uEr4hkPYV/ury2j5+kV/nrTl4ikv2UUuny2j5BUqN9Gp2GeopI9lP4p8vfqvJPxmh0fp3wFZGsp5RKl3cP3wBxLBGl0Wmop4hkP4V/uryefx5RABqTfs3nLyJZTymVLq/nn2eNAKr8RSQnKPzT1RT+XuUf1QlfEckBCv90+Xw48xEhVfnrCl8RyQVKqQxwFiDfa/ukpnRW5S8i2U3hnwHOF2hu+8Sdn1BAb6uIZDelVCb4AuTRUvmHA/5u3iERkY4p/DPA+YJEzDvhS4BIUG+riGQ3pVQm+APkN1f+flX+IpL1FP6Z0KrtEydAWD1/EclySqkMMF/LaJ8oAcJq+4hIllNKZYI/SG9qAah1ESJBtX1EJLsp/DPA/AF6eZV/LRG1fUQk6ymlMsC8aZ0hVfnrhK+IZDuFfwaYr+VWyLXkqfIXkaynlMoEX6vKH/X8RST7Kfwzwav861yYJD5V/iKS9ZRSmeBPhX8tEQAN9RSRrKeUygSv7VPjUuEf0pTOIpLllFKZ4Guq/PMI+Ey3cRSRrKeUygRvqKdO9opIrlD4Z4IvFfipMf56S0Uk+ympMsHXUvkr/EUkFyipMsHr+de4PMJq+4hIDlD4Z0KroZ6q/EUkFyipMqHVaB9V/iKSCxT+mdBqnL8qfxHJBUqqTGia3kFtHxHJEUqqTPA3nfDVOH8RyQ1phb+Z9Tezl8xsufe1Xwfr9jazjWZ2RzrbzErNQz01nbOI5IZ0k+o6YI5zbiwwx/t+d24CXk9ze9nJ13q0jyp/Ecl+6Yb/DOAB7/EDwPntrWRmRwGDgBfT3F528jed8M3TjJ4ikhPSTapBzrlSAO/rwF1XMDMf8Gvge2luK3s1Te9AhIgqfxHJAYE9rWBmLwOD23nq+k5u47+A2c659Wa2p23NBGYCjBgxopMvnwV8qvxFJLfsMfydc6ft7jkz22JmQ5xzpWY2BNjazmrHASeZ2X8BBUDIzGqcc23ODzjn7gHuAZg2bZrr7EF0u4GHsyN/NDsaCnTCV0RyQrpJNQu4wnt8BfD0ris45y5zzo1wzo0CrgUebC/4c9rY05l10lNECeqEr4jkhHTD/2bgdDNbDpzufY+ZTTOze9PduVzSdPeuiNo+IpID9tj26Yhzrhw4tZ3lJcCX21l+P3B/OtvMViGv3aPKX0RygcrUDGkJf72lIpL9lFQZEvTaPhrtIyK5QEmVIU2Vv8b5i0guUPhnSFO7J6S2j4jkACVVhkwZ3o+ZJx/MtFG7ndtORCRrpDXaR1rkhfz86JzDu3s3REQ6RZW/iEgPpPAXEemBFP4iIj2Qwl9EpAdS+IuI9EAKfxGRHkjhLyLSAyn8RUR6IHMuO2+YZWZlwNo0XqII2Jah3cl2PelYQcd7IOtJxwr75nhHOueK97RS1oZ/usysxDk3rbv3Y3/oSccKOt4DWU86Vuje41XbR0SkB1L4i4j0QAdy+N/T3TuwH/WkYwUd74GsJx0rdOPxHrA9fxER2b0DufIXEZHdOODC38zOMrOlZrbCzK7r7v3ZF8xsjZktNLP5ZlbiLetvZi+Z2XLva87eVcbM7jOzrWb2Yatl7R6fpfze+7wXmNnU7tvzrtvNsf7MzDZ6n+98Mzun1XM/9I51qZmd2T17vffMbLiZvWpmS8xskZl9y1t+wH2+HRxrdny+zrkD5h/gB1YCBwMh4ANgfHfv1z44zjVA0S7LbgGu8x5fB/yqu/czjeM7GZgKfLin4wPOAZ4HDDgWeKe79z8Dx/oz4Np21h3v/U6HgdHe77q/u4+hi8c7BJjqPS4ElnnHdcB9vh0ca1Z8vgda5X8MsMI5t8o5FwUeBWZ08z7tLzOAB7zHDwDnd+O+pMU59y+gYpfFuzu+GcCDLuVtoK+ZDdk/e5q+3Rzr7swAHnXONTrnVgMrSP3O5wznXKlz7j3vcTWwBBjGAfj5dnCsu7NfP98DLfyHAetbfb+Bjt/sXOWAF81snpnN9JYNcs6VQuqXDhjYbXu3b+zu+A7Uz/war81xX6sW3gF1rGY2CpgCvMMB/vnucqyQBZ/vgRb+1s6yA3E40wnOuanA2cDVZnZyd+9QNzoQP/O7gEOAyUAp8Gtv+QFzrGZWAPwd+LZzrqqjVdtZllPH3M6xZsXne6CF/wZgeKvvDwI2ddO+7DPOuU3e163Ak6T+NNzS9Oew93Vr9+3hPrG74zvgPnPn3BbnXMI5lwT+RMuf/gfEsZpZkFQY/tU59w9v8QH5+bZ3rNny+R5o4f8uMNbMRptZCLgEmNXN+5RRZtbLzAqbHgNnAB+SOs4rvNWuAJ7unj3cZ3Z3fLOAL3ijQo4FKpvaB7lql572p0l9vpA61kvMLGxmo4GxwNz9vX/pMDMD/gwscc79ptVTB9znu7tjzZrPt7vPiO+DM+znkDqrvhK4vrv3Zx8c38GkRgR8ACxqOkZgADAHWO597d/d+5rGMT5C6s/hGKlq6Eu7Oz5Sfyrf6X3eC4Fp3b3/GTjWh7xjWUAqEIa0Wv9671iXAmd39/7vxfGeSKqVsQCY7/0750D8fDs41qz4fHWFr4hID3SgtX1ERKQTFP4iIj2Qwl9EpAdS+IuI9EAKfxGRHkjhLyLSAyn8RUR6IIW/iEgP9P8BAZZhopttraUAAAAASUVORK5CYII=\n",
          "text/plain": "<matplotlib.figure.Figure at 0xa888278>"
         },
         "metadata": {},
         "output_type": "display_data"
        }
       ]
      }
     },
     "ae6160df156b4705aae41fc4ffc60a8e": {
      "model_module": "@jupyter-widgets/base",
      "model_module_version": "1.0.0",
      "model_name": "LayoutModel",
      "state": {
       "height": "80px",
       "width": "70%"
      }
     },
     "aeb53952a41c4724bccdca1a7175eb81": {
      "model_module": "@jupyter-widgets/controls",
      "model_module_version": "1.1.0",
      "model_name": "SliderStyleModel",
      "state": {
       "description_width": ""
      }
     },
     "afd7b02f5c1c4a7b8c1a9f6f2225af05": {
      "model_module": "@jupyter-widgets/base",
      "model_module_version": "1.0.0",
      "model_name": "LayoutModel",
      "state": {}
     },
     "b0c1a567bbc941cb851c3621c4478127": {
      "model_module": "@jupyter-widgets/controls",
      "model_module_version": "1.1.0",
      "model_name": "FloatSliderModel",
      "state": {
       "description": "Azimuth:",
       "layout": "IPY_MODEL_9befcfcaf0e342d0960797ee700733ff",
       "max": 180,
       "min": -180,
       "readout_format": ".1f",
       "step": 0.5,
       "style": "IPY_MODEL_4c1b6ac2cbf541a4a60ea5758db2a1e5"
      }
     },
     "b11ea15cca4d4d13b0509b955ed210bb": {
      "model_module": "@jupyter-widgets/base",
      "model_module_version": "1.0.0",
      "model_name": "LayoutModel",
      "state": {}
     },
     "b170649c12cb4c838939ba05eed30b42": {
      "model_module": "@jupyter-widgets/controls",
      "model_module_version": "1.1.0",
      "model_name": "SliderStyleModel",
      "state": {
       "description_width": ""
      }
     },
     "b1749265d4944081bc13ed7157a14c49": {
      "model_module": "@jupyter-widgets/controls",
      "model_module_version": "1.1.0",
      "model_name": "HBoxModel",
      "state": {
       "children": [
        "IPY_MODEL_0302348b65744d1c9df0ac436cef88b5",
        "IPY_MODEL_37ffa12dd626474caf074b4c83fbddbe"
       ],
       "layout": "IPY_MODEL_92ec9f6676b843fa90b77dd449dccf2a"
      }
     },
     "b1b5427effb24af8a6e8e77b3e23f09e": {
      "model_module": "@jupyter-widgets/controls",
      "model_module_version": "1.1.0",
      "model_name": "FloatSliderModel",
      "state": {
       "description": "Elevation:",
       "layout": "IPY_MODEL_9da16eb60f33477cacc60ae4b8941e7e",
       "max": 90,
       "min": -90,
       "orientation": "vertical",
       "readout_format": ".1f",
       "step": 0.5,
       "style": "IPY_MODEL_a1da2c92f8b4465f81f2da69fb9d3bf3"
      }
     },
     "b2ded1653c7649a68d0c36554bc7e1e6": {
      "model_module": "@jupyter-widgets/base",
      "model_module_version": "1.0.0",
      "model_name": "LayoutModel",
      "state": {}
     },
     "b3060c6847ae4883a3b3eee255531417": {
      "model_module": "@jupyter-widgets/base",
      "model_module_version": "1.0.0",
      "model_name": "LayoutModel",
      "state": {}
     },
     "b426e8b9865244bc819ffe1226381811": {
      "model_module": "@jupyter-widgets/controls",
      "model_module_version": "1.1.0",
      "model_name": "FloatSliderModel",
      "state": {
       "description": "Azimuth:",
       "layout": "IPY_MODEL_9603524871124c53a8e533785ecf2fd2",
       "max": 180,
       "min": -180,
       "readout_format": ".1f",
       "step": 0.5,
       "style": "IPY_MODEL_33acad07b7364a35946fe0eaf21b8f24",
       "value": -95
      }
     },
     "b535626585644314b7bff2cd3a939e9f": {
      "model_module": "@jupyter-widgets/controls",
      "model_module_version": "1.1.0",
      "model_name": "HBoxModel",
      "state": {
       "children": [
        "IPY_MODEL_ba92f67f81164a0788c2efcaa7709514",
        "IPY_MODEL_90745324dfe84f7cb9a1c6e96905351f",
        "IPY_MODEL_8de8477416974e7cafdca4c0b5ab082c"
       ],
       "layout": "IPY_MODEL_d52cd36b8d8a4f9eadbd80ffc4c27d68"
      }
     },
     "b6e8a1145beb4fdcaf31937335a8b8c2": {
      "model_module": "@jupyter-widgets/controls",
      "model_module_version": "1.1.0",
      "model_name": "FloatSliderModel",
      "state": {
       "description": "Azimuth:",
       "layout": "IPY_MODEL_e79d9a7d9dba4175a5fc1504cf9b99b6",
       "max": 180,
       "min": -180,
       "readout_format": ".1f",
       "step": 0.5,
       "style": "IPY_MODEL_970a0baa7f0041a889ec43c32bcf4b8c"
      }
     },
     "b70f5fab78d34808a70364a00f8db523": {
      "model_module": "@jupyter-widgets/base",
      "model_module_version": "1.0.0",
      "model_name": "LayoutModel",
      "state": {}
     },
     "b77c597765704aab866d7b7e0eb58dcd": {
      "model_module": "@jupyter-widgets/base",
      "model_module_version": "1.0.0",
      "model_name": "LayoutModel",
      "state": {}
     },
     "b7b5ddb0c23d40ecbf7339412d6ec948": {
      "model_module": "@jupyter-widgets/base",
      "model_module_version": "1.0.0",
      "model_name": "LayoutModel",
      "state": {}
     },
     "b7d7a9ca07c0446c8b0ebac9026bb9a5": {
      "model_module": "@jupyter-widgets/base",
      "model_module_version": "1.0.0",
      "model_name": "LayoutModel",
      "state": {}
     },
     "b828d4f0142f4845bbc891951ece5113": {
      "model_module": "@jupyter-widgets/controls",
      "model_module_version": "1.1.0",
      "model_name": "SliderStyleModel",
      "state": {
       "description_width": ""
      }
     },
     "b95c31d71fc94b51b81e970ab9d612a1": {
      "model_module": "@jupyter-widgets/controls",
      "model_module_version": "1.1.0",
      "model_name": "SliderStyleModel",
      "state": {
       "description_width": ""
      }
     },
     "ba684772b2e44df3a2acd334b7e8c49a": {
      "model_module": "@jupyter-widgets/base",
      "model_module_version": "1.0.0",
      "model_name": "LayoutModel",
      "state": {
       "height": "80px",
       "width": "70%"
      }
     },
     "ba92f67f81164a0788c2efcaa7709514": {
      "model_module": "@jupyter-widgets/controls",
      "model_module_version": "1.1.0",
      "model_name": "FloatSliderModel",
      "state": {
       "description": "Elevation:",
       "layout": "IPY_MODEL_70c54a0fc9194d3285d2873e9609ec34",
       "max": 90,
       "min": -90,
       "orientation": "vertical",
       "readout_format": ".1f",
       "step": 0.5,
       "style": "IPY_MODEL_77e7933e70474013bda2dd605431aa3f"
      }
     },
     "bae93e09c32c44e589c7c7d8c2051c76": {
      "model_module": "@jupyter-widgets/controls",
      "model_module_version": "1.1.0",
      "model_name": "HBoxModel",
      "state": {
       "children": [
        "IPY_MODEL_20f5f0f0c23243d094e5462e6f3f1e40",
        "IPY_MODEL_add7047aad17423080ca1a8d3b49d967"
       ],
       "layout": "IPY_MODEL_e701efb5a39e4720951b861a6397dfd3"
      }
     },
     "baec817df0e945458607c866bc1d432e": {
      "model_module": "@jupyter-widgets/output",
      "model_module_version": "1.0.0",
      "model_name": "OutputModel",
      "state": {
       "layout": "IPY_MODEL_731f12e9b9c846ecac62bc72f955b406"
      }
     },
     "bc81fdf04fd34b1db169a98922063d71": {
      "model_module": "@jupyter-widgets/controls",
      "model_module_version": "1.1.0",
      "model_name": "SliderStyleModel",
      "state": {
       "description_width": ""
      }
     },
     "bdb1a09c2e4545ac9e72ecc66579f5bb": {
      "model_module": "@jupyter-widgets/controls",
      "model_module_version": "1.1.0",
      "model_name": "HBoxModel",
      "state": {
       "children": [
        "IPY_MODEL_d2bdfcc1b6984ee991d9129bba49c2af",
        "IPY_MODEL_6723664c18a748b6abdc54ea327639e1"
       ],
       "layout": "IPY_MODEL_b7b5ddb0c23d40ecbf7339412d6ec948"
      }
     },
     "be8aba9b1c9b4e529018657328b38691": {
      "model_module": "@jupyter-widgets/controls",
      "model_module_version": "1.1.0",
      "model_name": "SliderStyleModel",
      "state": {
       "description_width": ""
      }
     },
     "bea454f2cd0c491c87d4a8c4150dbe90": {
      "model_module": "@jupyter-widgets/base",
      "model_module_version": "1.0.0",
      "model_name": "LayoutModel",
      "state": {}
     },
     "bf90ae25ba054364a953f902baaaefd8": {
      "model_module": "@jupyter-widgets/base",
      "model_module_version": "1.0.0",
      "model_name": "LayoutModel",
      "state": {}
     },
     "bfb8ebb9e0ae41aba5b2760636fcf193": {
      "model_module": "@jupyter-widgets/controls",
      "model_module_version": "1.1.0",
      "model_name": "SliderStyleModel",
      "state": {
       "description_width": ""
      }
     },
     "bfef655d0fbf4548b322753b8b806d31": {
      "model_module": "@jupyter-widgets/base",
      "model_module_version": "1.0.0",
      "model_name": "LayoutModel",
      "state": {
       "height": "80px",
       "width": "70%"
      }
     },
     "bff08cc662a24273b659af65b30683e5": {
      "model_module": "@jupyter-widgets/controls",
      "model_module_version": "1.1.0",
      "model_name": "SliderStyleModel",
      "state": {
       "description_width": ""
      }
     },
     "c056feb2d302416f8243c7c9fad00f8d": {
      "model_module": "@jupyter-widgets/output",
      "model_module_version": "1.0.0",
      "model_name": "OutputModel",
      "state": {
       "layout": "IPY_MODEL_6491925e325747248ede2192ecf09951"
      }
     },
     "c0967024580248079d5b50fdf941b861": {
      "model_module": "@jupyter-widgets/controls",
      "model_module_version": "1.1.0",
      "model_name": "SliderStyleModel",
      "state": {
       "description_width": ""
      }
     },
     "c0e553e97dc0409abe07d330e34546f1": {
      "model_module": "@jupyter-widgets/controls",
      "model_module_version": "1.1.0",
      "model_name": "SliderStyleModel",
      "state": {
       "description_width": ""
      }
     },
     "c1c4d1423e704d948dfe9de927e1c238": {
      "model_module": "@jupyter-widgets/controls",
      "model_module_version": "1.1.0",
      "model_name": "SliderStyleModel",
      "state": {
       "description_width": ""
      }
     },
     "c1f57ec8d44941e8a5a902b6f892bf5e": {
      "model_module": "@jupyter-widgets/base",
      "model_module_version": "1.0.0",
      "model_name": "LayoutModel",
      "state": {}
     },
     "c24fa736ee334dbf9738b8b9b602ec14": {
      "model_module": "@jupyter-widgets/base",
      "model_module_version": "1.0.0",
      "model_name": "LayoutModel",
      "state": {}
     },
     "c320b277759946eb804d3fe83812277e": {
      "model_module": "@jupyter-widgets/controls",
      "model_module_version": "1.1.0",
      "model_name": "FloatSliderModel",
      "state": {
       "description": "Azimuth:",
       "layout": "IPY_MODEL_6d66b7be363e45cabd7c311ef30b48a6",
       "max": 180,
       "min": -180,
       "readout_format": ".1f",
       "step": 0.5,
       "style": "IPY_MODEL_d0e3670fc30f4f43917cac95aa8d46f4",
       "value": -68.5
      }
     },
     "c32f0a7215354ab69449529eafdfc153": {
      "model_module": "@jupyter-widgets/base",
      "model_module_version": "1.0.0",
      "model_name": "LayoutModel",
      "state": {}
     },
     "c3398656b2704f8ea1b4204c236734ea": {
      "model_module": "@jupyter-widgets/base",
      "model_module_version": "1.0.0",
      "model_name": "LayoutModel",
      "state": {}
     },
     "c4800bee7d154a97b1d3b50fcdd9f3ba": {
      "model_module": "@jupyter-widgets/controls",
      "model_module_version": "1.1.0",
      "model_name": "SliderStyleModel",
      "state": {
       "description_width": ""
      }
     },
     "c646d014dbb04a1e995b85283f8f905f": {
      "model_module": "@jupyter-widgets/controls",
      "model_module_version": "1.1.0",
      "model_name": "VBoxModel",
      "state": {
       "children": [
        "IPY_MODEL_6675aeca3d11473eab6be59e45c6312d",
        "IPY_MODEL_bae93e09c32c44e589c7c7d8c2051c76"
       ],
       "layout": "IPY_MODEL_0246d69eae194074997fa6fd47fd227a"
      }
     },
     "c6628b67896f4dd2b24023b64fd20d1b": {
      "model_module": "@jupyter-widgets/base",
      "model_module_version": "1.0.0",
      "model_name": "LayoutModel",
      "state": {
       "height": "80px",
       "width": "70%"
      }
     },
     "c6af09eadb244081849b0adf5051865c": {
      "model_module": "@jupyter-widgets/base",
      "model_module_version": "1.0.0",
      "model_name": "LayoutModel",
      "state": {
       "height": "80px",
       "width": "70%"
      }
     },
     "c6ca48c99f65403cb43bdcc9e87bba5d": {
      "model_module": "@jupyter-widgets/controls",
      "model_module_version": "1.1.0",
      "model_name": "VBoxModel",
      "state": {
       "children": [
        "IPY_MODEL_90745324dfe84f7cb9a1c6e96905351f",
        "IPY_MODEL_466eac53cea742e5b78f10cb407e3856"
       ],
       "layout": "IPY_MODEL_3fe050698610405386b061252bab0c63"
      }
     },
     "c98d73ee42d447c9a6a086cef5f179d2": {
      "model_module": "@jupyter-widgets/base",
      "model_module_version": "1.0.0",
      "model_name": "LayoutModel",
      "state": {}
     },
     "c9d65c3d800e44e3ac5d3fb1cfac72d0": {
      "model_module": "@jupyter-widgets/base",
      "model_module_version": "1.0.0",
      "model_name": "LayoutModel",
      "state": {}
     },
     "cc635bcd88364fecaf57de63f7ef37fb": {
      "model_module": "@jupyter-widgets/controls",
      "model_module_version": "1.1.0",
      "model_name": "FloatSliderModel",
      "state": {
       "description": "Azimuth:",
       "layout": "IPY_MODEL_fef7863bd31c48ae80dad39a3b8d4d48",
       "max": 180,
       "min": -180,
       "readout_format": ".1f",
       "step": 0.5,
       "style": "IPY_MODEL_aa43aa25b50442a0b9bafdaf5b09d7c8",
       "value": -71
      }
     },
     "cf1c5caf636e4dd6b41423b9ffc298d5": {
      "model_module": "@jupyter-widgets/base",
      "model_module_version": "1.0.0",
      "model_name": "LayoutModel",
      "state": {}
     },
     "cf303e5a7e744e098d095ba9b94b9641": {
      "model_module": "@jupyter-widgets/output",
      "model_module_version": "1.0.0",
      "model_name": "OutputModel",
      "state": {
       "layout": "IPY_MODEL_4dfd20a10ceb40a78dd2e28e3812ad5e",
       "outputs": [
        {
         "data": {
          "text/plain": "0.0"
         },
         "metadata": {},
         "output_type": "display_data"
        },
        {
         "name": "stderr",
         "output_type": "stream",
         "text": "F:\\Anaconda3\\lib\\site-packages\\matplotlib\\cbook\\deprecation.py:106: MatplotlibDeprecationWarning: Adding an axes using the same arguments as a previous axes currently reuses the earlier instance.  In a future version, a new instance will always be created and returned.  Meanwhile, this warning can be suppressed, and the future behavior ensured, by passing a unique label to each axes instance.\n  warnings.warn(message, mplDeprecation, stacklevel=1)\n"
        },
        {
         "data": {
          "image/png": "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\n",
          "text/plain": "<matplotlib.figure.Figure at 0xbb68080>"
         },
         "metadata": {},
         "output_type": "display_data"
        }
       ]
      }
     },
     "cfb3b8528fa84b4c99600f987b3a95e0": {
      "model_module": "@jupyter-widgets/base",
      "model_module_version": "1.0.0",
      "model_name": "LayoutModel",
      "state": {}
     },
     "d0abb41af64648e9b20411c67294630d": {
      "model_module": "@jupyter-widgets/controls",
      "model_module_version": "1.1.0",
      "model_name": "HBoxModel",
      "state": {
       "children": [
        "IPY_MODEL_190f545b45e3482281115755a30896d3",
        "IPY_MODEL_638694628d164ae98f380fde763164ff"
       ],
       "layout": "IPY_MODEL_64503097bf854de183e02b057d61936d"
      }
     },
     "d0d91406f78c4e458730d127b06c3456": {
      "model_module": "@jupyter-widgets/base",
      "model_module_version": "1.0.0",
      "model_name": "LayoutModel",
      "state": {}
     },
     "d0e3670fc30f4f43917cac95aa8d46f4": {
      "model_module": "@jupyter-widgets/controls",
      "model_module_version": "1.1.0",
      "model_name": "SliderStyleModel",
      "state": {
       "description_width": ""
      }
     },
     "d20718340fd84fe29bc39ffe5b5f5036": {
      "model_module": "@jupyter-widgets/controls",
      "model_module_version": "1.1.0",
      "model_name": "HBoxModel",
      "state": {
       "children": [
        "IPY_MODEL_d6f6afdff14f49d2bb68b7ab32dc2729",
        "IPY_MODEL_7713f29caa4748e28e41037e8ee8a668"
       ],
       "layout": "IPY_MODEL_c24fa736ee334dbf9738b8b9b602ec14"
      }
     },
     "d291088411f9451d8193bbc53736a98d": {
      "model_module": "@jupyter-widgets/base",
      "model_module_version": "1.0.0",
      "model_name": "LayoutModel",
      "state": {}
     },
     "d2bdfcc1b6984ee991d9129bba49c2af": {
      "model_module": "@jupyter-widgets/controls",
      "model_module_version": "1.1.0",
      "model_name": "FloatSliderModel",
      "state": {
       "description": "Elevation:",
       "layout": "IPY_MODEL_b70f5fab78d34808a70364a00f8db523",
       "max": 90,
       "min": -90,
       "orientation": "vertical",
       "readout_format": ".1f",
       "step": 0.5,
       "style": "IPY_MODEL_8db3a0947c814b73894d77ce67390a12"
      }
     },
     "d43c1da091974af8907c2b270dded8cc": {
      "model_module": "@jupyter-widgets/base",
      "model_module_version": "1.0.0",
      "model_name": "LayoutModel",
      "state": {}
     },
     "d45908f26f144444a94dfde120d00dff": {
      "model_module": "@jupyter-widgets/base",
      "model_module_version": "1.0.0",
      "model_name": "LayoutModel",
      "state": {}
     },
     "d52cd36b8d8a4f9eadbd80ffc4c27d68": {
      "model_module": "@jupyter-widgets/base",
      "model_module_version": "1.0.0",
      "model_name": "LayoutModel",
      "state": {}
     },
     "d537b42dc67f4ca3ae0919fb201e14da": {
      "model_module": "@jupyter-widgets/base",
      "model_module_version": "1.0.0",
      "model_name": "LayoutModel",
      "state": {}
     },
     "d6f6afdff14f49d2bb68b7ab32dc2729": {
      "model_module": "@jupyter-widgets/controls",
      "model_module_version": "1.1.0",
      "model_name": "FloatSliderModel",
      "state": {
       "description": "Elevation:",
       "layout": "IPY_MODEL_fd00d8acee9b4b09aa2359faf67f9924",
       "max": 90,
       "min": -90,
       "orientation": "vertical",
       "readout_format": ".1f",
       "step": 0.5,
       "style": "IPY_MODEL_f39e1039cff34a32ad31882e2e921eb4"
      }
     },
     "d895c949f26746a2b96e77d0ba0adaec": {
      "model_module": "@jupyter-widgets/base",
      "model_module_version": "1.0.0",
      "model_name": "LayoutModel",
      "state": {}
     },
     "d9a7545366f54dc59c11735121f1f40d": {
      "model_module": "@jupyter-widgets/base",
      "model_module_version": "1.0.0",
      "model_name": "LayoutModel",
      "state": {}
     },
     "d9e6b5678b764ba086a0e2bdd48a9e27": {
      "model_module": "@jupyter-widgets/controls",
      "model_module_version": "1.1.0",
      "model_name": "FloatSliderModel",
      "state": {
       "description": "Azimuth:",
       "layout": "IPY_MODEL_34b67da7f11a4fd6a884c085ece851f1",
       "max": 180,
       "min": -180,
       "readout_format": ".1f",
       "step": 0.5,
       "style": "IPY_MODEL_aeb53952a41c4724bccdca1a7175eb81"
      }
     },
     "dbba6d38821b4ea4b52f1c3e1a1dae83": {
      "model_module": "@jupyter-widgets/controls",
      "model_module_version": "1.1.0",
      "model_name": "VBoxModel",
      "state": {
       "children": [
        "IPY_MODEL_52586bb448794df399810f6d93fc0611",
        "IPY_MODEL_a7abe93634254b69a8fcd2ab8b0914c7"
       ],
       "layout": "IPY_MODEL_b77c597765704aab866d7b7e0eb58dcd"
      }
     },
     "dd309461bd5d40baa71ec87fa86d097b": {
      "model_module": "@jupyter-widgets/base",
      "model_module_version": "1.0.0",
      "model_name": "LayoutModel",
      "state": {}
     },
     "de8a2c7518bb410bb88026e1ab283d60": {
      "model_module": "@jupyter-widgets/controls",
      "model_module_version": "1.1.0",
      "model_name": "HBoxModel",
      "state": {
       "children": [
        "IPY_MODEL_83adca04f19f4078b1c95ea685063fd1",
        "IPY_MODEL_cf303e5a7e744e098d095ba9b94b9641"
       ],
       "layout": "IPY_MODEL_c3398656b2704f8ea1b4204c236734ea"
      }
     },
     "e0980f4b63784823a914dd5e96d8fe29": {
      "model_module": "@jupyter-widgets/controls",
      "model_module_version": "1.1.0",
      "model_name": "HBoxModel",
      "state": {
       "children": [
        "IPY_MODEL_7d2fe2148f8c4a25a750f8363247a98a",
        "IPY_MODEL_d9e6b5678b764ba086a0e2bdd48a9e27",
        "IPY_MODEL_53d22e9bc51249249abb9eedab1b7065"
       ],
       "layout": "IPY_MODEL_c32f0a7215354ab69449529eafdfc153"
      }
     },
     "e13d000bb0ce4771b8db93888a02a80d": {
      "model_module": "@jupyter-widgets/base",
      "model_module_version": "1.0.0",
      "model_name": "LayoutModel",
      "state": {}
     },
     "e1619c354039488e81cb7ff917a6038b": {
      "model_module": "@jupyter-widgets/base",
      "model_module_version": "1.0.0",
      "model_name": "LayoutModel",
      "state": {}
     },
     "e20a8bd51d85441397aca0d2b9f93ca1": {
      "model_module": "@jupyter-widgets/controls",
      "model_module_version": "1.1.0",
      "model_name": "FloatSliderModel",
      "state": {
       "description": "Elevation:",
       "layout": "IPY_MODEL_1f7ea354a4aa4300a2f16f1c3286b3fc",
       "max": 90,
       "min": -90,
       "orientation": "vertical",
       "readout_format": ".1f",
       "step": 0.5,
       "style": "IPY_MODEL_4009e017fac84190acb31cd3ce6f10cc"
      }
     },
     "e50ce65b74b644fabbf05aa5127098bf": {
      "model_module": "@jupyter-widgets/controls",
      "model_module_version": "1.1.0",
      "model_name": "HBoxModel",
      "state": {
       "children": [
        "IPY_MODEL_d2bdfcc1b6984ee991d9129bba49c2af",
        "IPY_MODEL_1626f9999abf4f2e9cd16085e2993816",
        "IPY_MODEL_6723664c18a748b6abdc54ea327639e1"
       ],
       "layout": "IPY_MODEL_d895c949f26746a2b96e77d0ba0adaec"
      }
     },
     "e5aaff39a05043d5854fcf22f393aaa3": {
      "model_module": "@jupyter-widgets/controls",
      "model_module_version": "1.1.0",
      "model_name": "HBoxModel",
      "state": {
       "children": [
        "IPY_MODEL_4c39506994634b43b10158e0ae43f632",
        "IPY_MODEL_0b7153a82e0540ca80fb5ccd16aa1d18",
        "IPY_MODEL_27c1d055cd1a4b4caabcafa6cb4ca822"
       ],
       "layout": "IPY_MODEL_7891174a5e9c424b8721893dd32b7728"
      }
     },
     "e68b7f6a2952422bb78519eaf1dcd482": {
      "model_module": "@jupyter-widgets/controls",
      "model_module_version": "1.1.0",
      "model_name": "HBoxModel",
      "state": {
       "children": [
        "IPY_MODEL_52e0189ce2a247b0bde33da00101b633",
        "IPY_MODEL_8c8a227160f94a418eb52ed94ec9338a"
       ],
       "layout": "IPY_MODEL_14bdafb1424d484e8ca2930b1d2326d7"
      }
     },
     "e701efb5a39e4720951b861a6397dfd3": {
      "model_module": "@jupyter-widgets/base",
      "model_module_version": "1.0.0",
      "model_name": "LayoutModel",
      "state": {}
     },
     "e79d9a7d9dba4175a5fc1504cf9b99b6": {
      "model_module": "@jupyter-widgets/base",
      "model_module_version": "1.0.0",
      "model_name": "LayoutModel",
      "state": {
       "height": "80px",
       "width": "70%"
      }
     },
     "e7b1e7970aa3498cbc036d20ec236208": {
      "model_module": "@jupyter-widgets/controls",
      "model_module_version": "1.1.0",
      "model_name": "VBoxModel",
      "state": {
       "children": [
        "IPY_MODEL_1aa386f14d6441c59f6832b3d3868754",
        "IPY_MODEL_f93c6eaa20d740c8863e2bab4079c66d"
       ],
       "layout": "IPY_MODEL_1e7a06c87eb84cdd92e6f4b9d10a5d15"
      }
     },
     "e8b241c44e9f4edb9aa2b17b21510d0a": {
      "model_module": "@jupyter-widgets/base",
      "model_module_version": "1.0.0",
      "model_name": "LayoutModel",
      "state": {}
     },
     "eac8e735d232416e9abb9500ce57e74d": {
      "model_module": "@jupyter-widgets/base",
      "model_module_version": "1.0.0",
      "model_name": "LayoutModel",
      "state": {}
     },
     "ec798e1b19c2404aac90ecdfa0a9d0b7": {
      "model_module": "@jupyter-widgets/base",
      "model_module_version": "1.0.0",
      "model_name": "LayoutModel",
      "state": {}
     },
     "ece063fd852141c9b6abcca1469145b2": {
      "model_module": "@jupyter-widgets/controls",
      "model_module_version": "1.1.0",
      "model_name": "FloatSliderModel",
      "state": {
       "description": "Azimuth:",
       "layout": "IPY_MODEL_ba684772b2e44df3a2acd334b7e8c49a",
       "max": 180,
       "min": -180,
       "readout_format": ".1f",
       "step": 0.5,
       "style": "IPY_MODEL_843806c73b59432db594adbfc09ca5c3",
       "value": -58.5
      }
     },
     "f00657c7afe04ed0b98fd3f84e018373": {
      "model_module": "@jupyter-widgets/base",
      "model_module_version": "1.0.0",
      "model_name": "LayoutModel",
      "state": {}
     },
     "f2b16f5b5e1e44f4bf61952cab4ca500": {
      "model_module": "@jupyter-widgets/base",
      "model_module_version": "1.0.0",
      "model_name": "LayoutModel",
      "state": {}
     },
     "f314cd50bbde4da1a809f713899f9eff": {
      "model_module": "@jupyter-widgets/controls",
      "model_module_version": "1.1.0",
      "model_name": "SliderStyleModel",
      "state": {
       "description_width": ""
      }
     },
     "f39e1039cff34a32ad31882e2e921eb4": {
      "model_module": "@jupyter-widgets/controls",
      "model_module_version": "1.1.0",
      "model_name": "SliderStyleModel",
      "state": {
       "description_width": ""
      }
     },
     "f49793343aa4420baf02d1fd53126e27": {
      "model_module": "@jupyter-widgets/controls",
      "model_module_version": "1.1.0",
      "model_name": "FloatSliderModel",
      "state": {
       "description": "Azimuth:",
       "layout": "IPY_MODEL_63d3338e24284f55aa0743acd80a6435",
       "max": 180,
       "min": -180,
       "readout_format": ".1f",
       "step": 0.5,
       "style": "IPY_MODEL_0a3efb8e2a714d3384c9828f9df0b712",
       "value": -180
      }
     },
     "f4bc0f50517544f1b38d871a294ad662": {
      "model_module": "@jupyter-widgets/base",
      "model_module_version": "1.0.0",
      "model_name": "LayoutModel",
      "state": {}
     },
     "f655cf070bbf4feab81cf8c2980306d9": {
      "model_module": "@jupyter-widgets/controls",
      "model_module_version": "1.1.0",
      "model_name": "HBoxModel",
      "state": {
       "children": [
        "IPY_MODEL_42e5ef85655f41f594de6aadc87b3386",
        "IPY_MODEL_b6e8a1145beb4fdcaf31937335a8b8c2",
        "IPY_MODEL_7e684663d5e2435b9abf3dae7e619adb"
       ],
       "layout": "IPY_MODEL_acd6cabbe1804e7eab61cd679d05f25c"
      }
     },
     "f6f38f64cd774d19bf6331ef8f31f0f4": {
      "model_module": "@jupyter-widgets/base",
      "model_module_version": "1.0.0",
      "model_name": "LayoutModel",
      "state": {}
     },
     "f76492978f324836bac92c33dad13f83": {
      "model_module": "@jupyter-widgets/controls",
      "model_module_version": "1.1.0",
      "model_name": "SliderStyleModel",
      "state": {
       "description_width": ""
      }
     },
     "f7e7030691794cc88bbeeb2fdb375e7b": {
      "model_module": "@jupyter-widgets/base",
      "model_module_version": "1.0.0",
      "model_name": "LayoutModel",
      "state": {}
     },
     "f93c6eaa20d740c8863e2bab4079c66d": {
      "model_module": "@jupyter-widgets/controls",
      "model_module_version": "1.1.0",
      "model_name": "HBoxModel",
      "state": {
       "children": [
        "IPY_MODEL_76d2be01d85640b6ab991756b62f741c",
        "IPY_MODEL_13b14f01020a47989c82f2ab4bf414da"
       ],
       "layout": "IPY_MODEL_308f9438b4ca4f6a91abded8a09695b5"
      }
     },
     "fb0df82d6d19434fbd7d2a4e7910d7ca": {
      "model_module": "@jupyter-widgets/base",
      "model_module_version": "1.0.0",
      "model_name": "LayoutModel",
      "state": {}
     },
     "fb3080c0bcbc47dbaa4716b0cbb45e7b": {
      "model_module": "@jupyter-widgets/base",
      "model_module_version": "1.0.0",
      "model_name": "LayoutModel",
      "state": {}
     },
     "fb89cc4aadd54b8a8967c51f4e449c5b": {
      "model_module": "@jupyter-widgets/controls",
      "model_module_version": "1.1.0",
      "model_name": "HBoxModel",
      "state": {
       "children": [
        "IPY_MODEL_28561368ef1b48aeb614741577264339",
        "IPY_MODEL_ece063fd852141c9b6abcca1469145b2",
        "IPY_MODEL_220f965db04b4d1bb4eab023258f86dd"
       ],
       "layout": "IPY_MODEL_85c74899668844658ea8733dd382aa41"
      }
     },
     "fc281012a206427d90cccd48d61d601c": {
      "model_module": "@jupyter-widgets/controls",
      "model_module_version": "1.1.0",
      "model_name": "HBoxModel",
      "state": {
       "children": [
        "IPY_MODEL_20f5f0f0c23243d094e5462e6f3f1e40",
        "IPY_MODEL_6675aeca3d11473eab6be59e45c6312d",
        "IPY_MODEL_add7047aad17423080ca1a8d3b49d967"
       ],
       "layout": "IPY_MODEL_6dab1276c8194163967e79df4ab05cf6"
      }
     },
     "fd00d8acee9b4b09aa2359faf67f9924": {
      "model_module": "@jupyter-widgets/base",
      "model_module_version": "1.0.0",
      "model_name": "LayoutModel",
      "state": {}
     },
     "fe6d66aad7fc48318d4f2179991e037d": {
      "model_module": "@jupyter-widgets/base",
      "model_module_version": "1.0.0",
      "model_name": "LayoutModel",
      "state": {}
     },
     "fee191e628614d70a25a7a03a1e87116": {
      "model_module": "@jupyter-widgets/controls",
      "model_module_version": "1.1.0",
      "model_name": "SliderStyleModel",
      "state": {
       "description_width": ""
      }
     },
     "fef7863bd31c48ae80dad39a3b8d4d48": {
      "model_module": "@jupyter-widgets/base",
      "model_module_version": "1.0.0",
      "model_name": "LayoutModel",
      "state": {
       "height": "80px",
       "width": "70%"
      }
     },
     "ffaae8749ecd4c62801023a3f38568c2": {
      "model_module": "@jupyter-widgets/controls",
      "model_module_version": "1.1.0",
      "model_name": "FloatSliderModel",
      "state": {
       "description": "Elevation:",
       "layout": "IPY_MODEL_fb0df82d6d19434fbd7d2a4e7910d7ca",
       "max": 90,
       "min": -90,
       "orientation": "vertical",
       "readout_format": ".1f",
       "step": 0.5,
       "style": "IPY_MODEL_2cd74b52c0164e46809e9ec38a3290b3"
      }
     },
     "ffd124b38f2d4964ac4aeabe3cbd2370": {
      "model_module": "@jupyter-widgets/base",
      "model_module_version": "1.0.0",
      "model_name": "LayoutModel",
      "state": {}
     }
    },
    "version_major": 2,
    "version_minor": 0
   }
  }
 },
 "nbformat": 4,
 "nbformat_minor": 2
}
